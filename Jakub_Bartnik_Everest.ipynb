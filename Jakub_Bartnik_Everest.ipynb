{
  "nbformat": 4,
  "nbformat_minor": 0,
  "metadata": {
    "colab": {
      "provenance": []
    },
    "kernelspec": {
      "name": "python3",
      "display_name": "Python 3"
    },
    "language_info": {
      "name": "python"
    }
  },
  "cells": [
    {
      "cell_type": "markdown",
      "source": [
        "# **Project Everest Report - Jakub Bartnik**\n",
        "\n",
        "Author: Jakub Bartnik\n",
        "\n",
        "## GitHub URL \n",
        "\n",
        "https://github.com/jakubbartnik/UCDPA_jakubbartnik\n",
        "\n",
        "##Abstract \n",
        "\n",
        "This review contains the summary about impact of introducing new safety gear for climbing versus expedition survival that climbed in area of Hymalaya Nepal within last 100 years. Implememntation process is splited between four parts: Setting goeals, data preparation, data exploration, analisis. The review will explain how all that was done by myself and what conclusion I made from results. Report content can be found in python notebook including the code so it is easier to follow steps.\n",
        "There is another python notebook in repository demonstrating simple webscrapping. File name is Web_scrapping_quotes.ipynb."
      ],
      "metadata": {
        "id": "2hXt7VfVufCM"
      }
    },
    {
      "cell_type": "markdown",
      "source": [
        "##Introduction\n",
        "\n",
        "I decided upon this topic as climbing is, quite simply, my passion. As this is my first Data Science Project I felt that I should choose a topic that I am familiar with.\n",
        "The aim of this research is to ascertain if, after the introduction of safety equipment such as steel carabiners (1910) or dynamic rope and harness (1964), there has been any improvement in Nepal Himalaya area climber's survival rates. My research is based on a Mount Everest dataset that tracks all expeditions that climbed in area of Nepal Himalaya from 1905 to 2019.\n",
        "The last point is how many helpers should expedition hire in order to be successfull. This will be predicted based on only sucessfull expeditions considering number of members and hired staff data using ML. \n",
        "\n",
        "##Dataset\n",
        "\n",
        "The Himalayan Database is a compilation of records for all expeditions that have climbed in the Nepal Himalaya. The database is based on the expedition archives of Elizabeth Hawley, a longtime journalist based in Kathmandu, and it is supplemented by information gathered from books, alpine journals and correspondence with Himalayan climbers.\n",
        "The data cover all expeditions from 1905 through Spring 2019 to more than 465 significant peaks in Nepal. Also included are expeditions to both sides of border peaks such as Everest, Cho Oyu, Makalu and Kangchenjunga as well as to some smaller border peaks. Data on expeditions to trekking peaks are included for early attempts, first ascents and major accidents.\n",
        "\n",
        "\n"
      ],
      "metadata": {
        "id": "GFSBb-4MP146"
      }
    },
    {
      "cell_type": "markdown",
      "source": [
        "##Implementation Process\n",
        "\n",
        "###Setting goals\n",
        "I like to split my main goal from introduction into smaller chunks that will be easier to archive and at the same time makes this review more structured and hopefully readable. \n",
        " - Goal 1 is to check impact of first climbing carabineer on expedition survival rate. Carabiner was developed in 1910. Therefore I am going to split all dataframe into two sets and compare the falls.\n",
        "\n",
        "- Goal 2 is about introduction of dynamic rope and harness in 1960’s. I am going to split all data and compare periods with and without it.\n",
        "\n",
        "- Goal 3 is to figure out  how many helpers(hired_staff) should expedition hire in order to be successfull. Result should be done in precentage. \n",
        "\n",
        "###Data preparation\n",
        "I started to look at the data manually prior writing this review. Those data are splited between three csv files and I belive for my pourpose I want to merge them all in one file. I going to import all libraries in first code box and keep updating it based on functions I want to use later in the code. This hopefully makes a sense later where I dont have to look over all code boxes in python notebook and run each one of them in case of missing one library."
      ],
      "metadata": {
        "id": "I9PwMA4a-J05"
      }
    },
    {
      "cell_type": "code",
      "source": [
        "#installing Pinguin package\n",
        "!pip install pingouin"
      ],
      "metadata": {
        "colab": {
          "base_uri": "https://localhost:8080/"
        },
        "id": "Kb-9LV7xCDha",
        "outputId": "d971da8e-42d5-440e-9662-76e5305c34f7"
      },
      "execution_count": null,
      "outputs": [
        {
          "output_type": "stream",
          "name": "stdout",
          "text": [
            "Looking in indexes: https://pypi.org/simple, https://us-python.pkg.dev/colab-wheels/public/simple/\n",
            "Collecting pingouin\n",
            "  Downloading pingouin-0.5.3-py3-none-any.whl (198 kB)\n",
            "\u001b[2K     \u001b[90m━━━━━━━━━━━━━━━━━━━━━━━━━━━━━━━━━━━━━━━\u001b[0m \u001b[32m198.6/198.6 KB\u001b[0m \u001b[31m7.7 MB/s\u001b[0m eta \u001b[36m0:00:00\u001b[0m\n",
            "\u001b[?25hRequirement already satisfied: matplotlib>=3.0.2 in /usr/local/lib/python3.8/dist-packages (from pingouin) (3.5.3)\n",
            "Requirement already satisfied: seaborn>=0.11 in /usr/local/lib/python3.8/dist-packages (from pingouin) (0.11.2)\n",
            "Requirement already satisfied: scikit-learn in /usr/local/lib/python3.8/dist-packages (from pingouin) (1.2.1)\n",
            "Collecting pandas-flavor>=0.2.0\n",
            "  Downloading pandas_flavor-0.5.0-py3-none-any.whl (7.1 kB)\n",
            "Requirement already satisfied: numpy>=1.19 in /usr/local/lib/python3.8/dist-packages (from pingouin) (1.22.4)\n",
            "Collecting outdated\n",
            "  Downloading outdated-0.2.2-py2.py3-none-any.whl (7.5 kB)\n",
            "Requirement already satisfied: tabulate in /usr/local/lib/python3.8/dist-packages (from pingouin) (0.8.10)\n",
            "Requirement already satisfied: statsmodels>=0.13 in /usr/local/lib/python3.8/dist-packages (from pingouin) (0.13.5)\n",
            "Requirement already satisfied: pandas>=1.0 in /usr/local/lib/python3.8/dist-packages (from pingouin) (1.3.5)\n",
            "Requirement already satisfied: scipy>=1.7 in /usr/local/lib/python3.8/dist-packages (from pingouin) (1.10.1)\n",
            "Requirement already satisfied: cycler>=0.10 in /usr/local/lib/python3.8/dist-packages (from matplotlib>=3.0.2->pingouin) (0.11.0)\n",
            "Requirement already satisfied: pillow>=6.2.0 in /usr/local/lib/python3.8/dist-packages (from matplotlib>=3.0.2->pingouin) (8.4.0)\n",
            "Requirement already satisfied: python-dateutil>=2.7 in /usr/local/lib/python3.8/dist-packages (from matplotlib>=3.0.2->pingouin) (2.8.2)\n",
            "Requirement already satisfied: fonttools>=4.22.0 in /usr/local/lib/python3.8/dist-packages (from matplotlib>=3.0.2->pingouin) (4.38.0)\n",
            "Requirement already satisfied: packaging>=20.0 in /usr/local/lib/python3.8/dist-packages (from matplotlib>=3.0.2->pingouin) (23.0)\n",
            "Requirement already satisfied: pyparsing>=2.2.1 in /usr/local/lib/python3.8/dist-packages (from matplotlib>=3.0.2->pingouin) (3.0.9)\n",
            "Requirement already satisfied: kiwisolver>=1.0.1 in /usr/local/lib/python3.8/dist-packages (from matplotlib>=3.0.2->pingouin) (1.4.4)\n",
            "Requirement already satisfied: pytz>=2017.3 in /usr/local/lib/python3.8/dist-packages (from pandas>=1.0->pingouin) (2022.7.1)\n",
            "Requirement already satisfied: xarray in /usr/local/lib/python3.8/dist-packages (from pandas-flavor>=0.2.0->pingouin) (2022.12.0)\n",
            "Collecting lazy-loader>=0.1\n",
            "  Downloading lazy_loader-0.1-py3-none-any.whl (8.6 kB)\n",
            "Requirement already satisfied: patsy>=0.5.2 in /usr/local/lib/python3.8/dist-packages (from statsmodels>=0.13->pingouin) (0.5.3)\n",
            "Collecting littleutils\n",
            "  Downloading littleutils-0.2.2.tar.gz (6.6 kB)\n",
            "  Preparing metadata (setup.py) ... \u001b[?25l\u001b[?25hdone\n",
            "Requirement already satisfied: setuptools>=44 in /usr/local/lib/python3.8/dist-packages (from outdated->pingouin) (57.4.0)\n",
            "Requirement already satisfied: requests in /usr/local/lib/python3.8/dist-packages (from outdated->pingouin) (2.25.1)\n",
            "Requirement already satisfied: joblib>=1.1.1 in /usr/local/lib/python3.8/dist-packages (from scikit-learn->pingouin) (1.2.0)\n",
            "Requirement already satisfied: threadpoolctl>=2.0.0 in /usr/local/lib/python3.8/dist-packages (from scikit-learn->pingouin) (3.1.0)\n",
            "Requirement already satisfied: six in /usr/local/lib/python3.8/dist-packages (from patsy>=0.5.2->statsmodels>=0.13->pingouin) (1.15.0)\n",
            "Requirement already satisfied: certifi>=2017.4.17 in /usr/local/lib/python3.8/dist-packages (from requests->outdated->pingouin) (2022.12.7)\n",
            "Requirement already satisfied: idna<3,>=2.5 in /usr/local/lib/python3.8/dist-packages (from requests->outdated->pingouin) (2.10)\n",
            "Requirement already satisfied: urllib3<1.27,>=1.21.1 in /usr/local/lib/python3.8/dist-packages (from requests->outdated->pingouin) (1.26.14)\n",
            "Requirement already satisfied: chardet<5,>=3.0.2 in /usr/local/lib/python3.8/dist-packages (from requests->outdated->pingouin) (4.0.0)\n",
            "Building wheels for collected packages: littleutils\n",
            "  Building wheel for littleutils (setup.py) ... \u001b[?25l\u001b[?25hdone\n",
            "  Created wheel for littleutils: filename=littleutils-0.2.2-py3-none-any.whl size=7047 sha256=f00a5631452c70e70adce1f4c45853d684dc7646a5ad0204a6b3e3fba097b153\n",
            "  Stored in directory: /root/.cache/pip/wheels/6a/33/c4/0ef84d7f5568c2823e3d63a6e08988852fb9e4bc822034870a\n",
            "Successfully built littleutils\n",
            "Installing collected packages: littleutils, lazy-loader, outdated, pandas-flavor, pingouin\n",
            "Successfully installed lazy-loader-0.1 littleutils-0.2.2 outdated-0.2.2 pandas-flavor-0.5.0 pingouin-0.5.3\n"
          ]
        }
      ]
    },
    {
      "cell_type": "code",
      "source": [
        "#installing myst_nb package\n",
        "!pip install myst_nb"
      ],
      "metadata": {
        "id": "tYfSFwi8CE_F"
      },
      "execution_count": null,
      "outputs": []
    },
    {
      "cell_type": "code",
      "source": [
        "#importing libraries\n",
        "import pandas as pd\n",
        "import numpy as np\n",
        "import pingouin as pg\n",
        "from dataclasses import replace\n",
        "import matplotlib.pyplot as plt\n",
        "import seaborn as sns\n",
        "from sklearn.model_selection import train_test_split\n",
        "from sklearn.linear_model import LinearRegression\n",
        "from myst_nb import glue\n",
        "from sklearn.neighbors import KNeighborsClassifier "
      ],
      "metadata": {
        "id": "fLDagBHBXJSR"
      },
      "execution_count": null,
      "outputs": []
    },
    {
      "cell_type": "markdown",
      "source": [
        "Reading data from all three csv (expeditions.csv, peaks.csv, members.csv). I am using commands like .shape and .info. Those commands showing me column names and few records for examination but at the same time it gives me number of records. Thanks to that I know that expeditions dataframe is 10364 rows and 16 columns, peak.csv is 467 rows and 8 columns and members.csv is 76519 rows and 21 columns."
      ],
      "metadata": {
        "id": "2V0R6mIeXavR"
      }
    },
    {
      "cell_type": "code",
      "source": [
        "#importing everest data \n",
        "df_exp = pd.read_csv('/content/drive/MyDrive/Colab Notebooks/everest_data/expeditions.csv')\n",
        "df_peaks = pd.read_csv('/content/drive/MyDrive/Colab Notebooks/everest_data/peaks.csv')\n",
        "df_mem = pd.read_csv('/content/drive/MyDrive/Colab Notebooks/everest_data/members.csv')\n",
        "\n",
        "#basic overview on data\n",
        "print('shape of expeditions - ', df_exp.shape)\n",
        "print('shape of peaks - ', df_peaks.shape)\n",
        "print('shape of members - ', df_mem.shape)\n"
      ],
      "metadata": {
        "id": "Wh7Vpmb5vNfw",
        "colab": {
          "base_uri": "https://localhost:8080/"
        },
        "outputId": "bf90baf1-b110-4f4c-b233-4fd21c389534"
      },
      "execution_count": null,
      "outputs": [
        {
          "output_type": "stream",
          "name": "stdout",
          "text": [
            "shape of expeditions -  (10364, 16)\n",
            "shape of peaks -  (468, 8)\n",
            "shape of members -  (76519, 21)\n"
          ]
        }
      ]
    },
    {
      "cell_type": "markdown",
      "source": [
        " I am exploring all csv one by one using .head() which shows me five first rows to identify best column I can merge with another dataframe."
      ],
      "metadata": {
        "id": "eEcO9qqn6VPr"
      }
    },
    {
      "cell_type": "code",
      "source": [
        "df_exp.head()"
      ],
      "metadata": {
        "id": "zaZlCpRC6dHY",
        "colab": {
          "base_uri": "https://localhost:8080/",
          "height": 357
        },
        "outputId": "793fa9f9-a188-46c8-a69f-9deeb5f3ee99"
      },
      "execution_count": null,
      "outputs": [
        {
          "output_type": "execute_result",
          "data": {
            "text/plain": [
              "  expedition_id peak_id     peak_name  year  season basecamp_date  \\\n",
              "0     ANN260101    ANN2  Annapurna II  1960  Spring    1960-03-15   \n",
              "1     ANN269301    ANN2  Annapurna II  1969  Autumn    1969-09-25   \n",
              "2     ANN273101    ANN2  Annapurna II  1973  Spring    1973-03-16   \n",
              "3     ANN278301    ANN2  Annapurna II  1978  Autumn    1978-09-08   \n",
              "4     ANN279301    ANN2  Annapurna II  1979  Autumn           NaN   \n",
              "\n",
              "  highpoint_date termination_date                termination_reason  \\\n",
              "0     1960-05-17              NaN               Success (main peak)   \n",
              "1     1969-10-22       1969-10-26               Success (main peak)   \n",
              "2     1973-05-06              NaN               Success (main peak)   \n",
              "3     1978-10-02       1978-10-05  Bad weather (storms, high winds)   \n",
              "4     1979-10-18       1979-10-20  Bad weather (storms, high winds)   \n",
              "\n",
              "   highpoint_metres  members  member_deaths  hired_staff  hired_staff_deaths  \\\n",
              "0            7937.0       10              0            9                   0   \n",
              "1            7937.0       10              0            0                   0   \n",
              "2            7937.0        6              0            8                   0   \n",
              "3            7000.0        2              0            0                   0   \n",
              "4            7160.0        3              0            0                   0   \n",
              "\n",
              "   oxygen_used trekking_agency  \n",
              "0         True             NaN  \n",
              "1        False             NaN  \n",
              "2        False             NaN  \n",
              "3        False             NaN  \n",
              "4        False             NaN  "
            ],
            "text/html": [
              "\n",
              "  <div id=\"df-4cb69bc6-a67a-40b2-8521-eac0d15717e6\">\n",
              "    <div class=\"colab-df-container\">\n",
              "      <div>\n",
              "<style scoped>\n",
              "    .dataframe tbody tr th:only-of-type {\n",
              "        vertical-align: middle;\n",
              "    }\n",
              "\n",
              "    .dataframe tbody tr th {\n",
              "        vertical-align: top;\n",
              "    }\n",
              "\n",
              "    .dataframe thead th {\n",
              "        text-align: right;\n",
              "    }\n",
              "</style>\n",
              "<table border=\"1\" class=\"dataframe\">\n",
              "  <thead>\n",
              "    <tr style=\"text-align: right;\">\n",
              "      <th></th>\n",
              "      <th>expedition_id</th>\n",
              "      <th>peak_id</th>\n",
              "      <th>peak_name</th>\n",
              "      <th>year</th>\n",
              "      <th>season</th>\n",
              "      <th>basecamp_date</th>\n",
              "      <th>highpoint_date</th>\n",
              "      <th>termination_date</th>\n",
              "      <th>termination_reason</th>\n",
              "      <th>highpoint_metres</th>\n",
              "      <th>members</th>\n",
              "      <th>member_deaths</th>\n",
              "      <th>hired_staff</th>\n",
              "      <th>hired_staff_deaths</th>\n",
              "      <th>oxygen_used</th>\n",
              "      <th>trekking_agency</th>\n",
              "    </tr>\n",
              "  </thead>\n",
              "  <tbody>\n",
              "    <tr>\n",
              "      <th>0</th>\n",
              "      <td>ANN260101</td>\n",
              "      <td>ANN2</td>\n",
              "      <td>Annapurna II</td>\n",
              "      <td>1960</td>\n",
              "      <td>Spring</td>\n",
              "      <td>1960-03-15</td>\n",
              "      <td>1960-05-17</td>\n",
              "      <td>NaN</td>\n",
              "      <td>Success (main peak)</td>\n",
              "      <td>7937.0</td>\n",
              "      <td>10</td>\n",
              "      <td>0</td>\n",
              "      <td>9</td>\n",
              "      <td>0</td>\n",
              "      <td>True</td>\n",
              "      <td>NaN</td>\n",
              "    </tr>\n",
              "    <tr>\n",
              "      <th>1</th>\n",
              "      <td>ANN269301</td>\n",
              "      <td>ANN2</td>\n",
              "      <td>Annapurna II</td>\n",
              "      <td>1969</td>\n",
              "      <td>Autumn</td>\n",
              "      <td>1969-09-25</td>\n",
              "      <td>1969-10-22</td>\n",
              "      <td>1969-10-26</td>\n",
              "      <td>Success (main peak)</td>\n",
              "      <td>7937.0</td>\n",
              "      <td>10</td>\n",
              "      <td>0</td>\n",
              "      <td>0</td>\n",
              "      <td>0</td>\n",
              "      <td>False</td>\n",
              "      <td>NaN</td>\n",
              "    </tr>\n",
              "    <tr>\n",
              "      <th>2</th>\n",
              "      <td>ANN273101</td>\n",
              "      <td>ANN2</td>\n",
              "      <td>Annapurna II</td>\n",
              "      <td>1973</td>\n",
              "      <td>Spring</td>\n",
              "      <td>1973-03-16</td>\n",
              "      <td>1973-05-06</td>\n",
              "      <td>NaN</td>\n",
              "      <td>Success (main peak)</td>\n",
              "      <td>7937.0</td>\n",
              "      <td>6</td>\n",
              "      <td>0</td>\n",
              "      <td>8</td>\n",
              "      <td>0</td>\n",
              "      <td>False</td>\n",
              "      <td>NaN</td>\n",
              "    </tr>\n",
              "    <tr>\n",
              "      <th>3</th>\n",
              "      <td>ANN278301</td>\n",
              "      <td>ANN2</td>\n",
              "      <td>Annapurna II</td>\n",
              "      <td>1978</td>\n",
              "      <td>Autumn</td>\n",
              "      <td>1978-09-08</td>\n",
              "      <td>1978-10-02</td>\n",
              "      <td>1978-10-05</td>\n",
              "      <td>Bad weather (storms, high winds)</td>\n",
              "      <td>7000.0</td>\n",
              "      <td>2</td>\n",
              "      <td>0</td>\n",
              "      <td>0</td>\n",
              "      <td>0</td>\n",
              "      <td>False</td>\n",
              "      <td>NaN</td>\n",
              "    </tr>\n",
              "    <tr>\n",
              "      <th>4</th>\n",
              "      <td>ANN279301</td>\n",
              "      <td>ANN2</td>\n",
              "      <td>Annapurna II</td>\n",
              "      <td>1979</td>\n",
              "      <td>Autumn</td>\n",
              "      <td>NaN</td>\n",
              "      <td>1979-10-18</td>\n",
              "      <td>1979-10-20</td>\n",
              "      <td>Bad weather (storms, high winds)</td>\n",
              "      <td>7160.0</td>\n",
              "      <td>3</td>\n",
              "      <td>0</td>\n",
              "      <td>0</td>\n",
              "      <td>0</td>\n",
              "      <td>False</td>\n",
              "      <td>NaN</td>\n",
              "    </tr>\n",
              "  </tbody>\n",
              "</table>\n",
              "</div>\n",
              "      <button class=\"colab-df-convert\" onclick=\"convertToInteractive('df-4cb69bc6-a67a-40b2-8521-eac0d15717e6')\"\n",
              "              title=\"Convert this dataframe to an interactive table.\"\n",
              "              style=\"display:none;\">\n",
              "        \n",
              "  <svg xmlns=\"http://www.w3.org/2000/svg\" height=\"24px\"viewBox=\"0 0 24 24\"\n",
              "       width=\"24px\">\n",
              "    <path d=\"M0 0h24v24H0V0z\" fill=\"none\"/>\n",
              "    <path d=\"M18.56 5.44l.94 2.06.94-2.06 2.06-.94-2.06-.94-.94-2.06-.94 2.06-2.06.94zm-11 1L8.5 8.5l.94-2.06 2.06-.94-2.06-.94L8.5 2.5l-.94 2.06-2.06.94zm10 10l.94 2.06.94-2.06 2.06-.94-2.06-.94-.94-2.06-.94 2.06-2.06.94z\"/><path d=\"M17.41 7.96l-1.37-1.37c-.4-.4-.92-.59-1.43-.59-.52 0-1.04.2-1.43.59L10.3 9.45l-7.72 7.72c-.78.78-.78 2.05 0 2.83L4 21.41c.39.39.9.59 1.41.59.51 0 1.02-.2 1.41-.59l7.78-7.78 2.81-2.81c.8-.78.8-2.07 0-2.86zM5.41 20L4 18.59l7.72-7.72 1.47 1.35L5.41 20z\"/>\n",
              "  </svg>\n",
              "      </button>\n",
              "      \n",
              "  <style>\n",
              "    .colab-df-container {\n",
              "      display:flex;\n",
              "      flex-wrap:wrap;\n",
              "      gap: 12px;\n",
              "    }\n",
              "\n",
              "    .colab-df-convert {\n",
              "      background-color: #E8F0FE;\n",
              "      border: none;\n",
              "      border-radius: 50%;\n",
              "      cursor: pointer;\n",
              "      display: none;\n",
              "      fill: #1967D2;\n",
              "      height: 32px;\n",
              "      padding: 0 0 0 0;\n",
              "      width: 32px;\n",
              "    }\n",
              "\n",
              "    .colab-df-convert:hover {\n",
              "      background-color: #E2EBFA;\n",
              "      box-shadow: 0px 1px 2px rgba(60, 64, 67, 0.3), 0px 1px 3px 1px rgba(60, 64, 67, 0.15);\n",
              "      fill: #174EA6;\n",
              "    }\n",
              "\n",
              "    [theme=dark] .colab-df-convert {\n",
              "      background-color: #3B4455;\n",
              "      fill: #D2E3FC;\n",
              "    }\n",
              "\n",
              "    [theme=dark] .colab-df-convert:hover {\n",
              "      background-color: #434B5C;\n",
              "      box-shadow: 0px 1px 3px 1px rgba(0, 0, 0, 0.15);\n",
              "      filter: drop-shadow(0px 1px 2px rgba(0, 0, 0, 0.3));\n",
              "      fill: #FFFFFF;\n",
              "    }\n",
              "  </style>\n",
              "\n",
              "      <script>\n",
              "        const buttonEl =\n",
              "          document.querySelector('#df-4cb69bc6-a67a-40b2-8521-eac0d15717e6 button.colab-df-convert');\n",
              "        buttonEl.style.display =\n",
              "          google.colab.kernel.accessAllowed ? 'block' : 'none';\n",
              "\n",
              "        async function convertToInteractive(key) {\n",
              "          const element = document.querySelector('#df-4cb69bc6-a67a-40b2-8521-eac0d15717e6');\n",
              "          const dataTable =\n",
              "            await google.colab.kernel.invokeFunction('convertToInteractive',\n",
              "                                                     [key], {});\n",
              "          if (!dataTable) return;\n",
              "\n",
              "          const docLinkHtml = 'Like what you see? Visit the ' +\n",
              "            '<a target=\"_blank\" href=https://colab.research.google.com/notebooks/data_table.ipynb>data table notebook</a>'\n",
              "            + ' to learn more about interactive tables.';\n",
              "          element.innerHTML = '';\n",
              "          dataTable['output_type'] = 'display_data';\n",
              "          await google.colab.output.renderOutput(dataTable, element);\n",
              "          const docLink = document.createElement('div');\n",
              "          docLink.innerHTML = docLinkHtml;\n",
              "          element.appendChild(docLink);\n",
              "        }\n",
              "      </script>\n",
              "    </div>\n",
              "  </div>\n",
              "  "
            ]
          },
          "metadata": {},
          "execution_count": 3
        }
      ]
    },
    {
      "cell_type": "code",
      "source": [
        "df_peaks.head()"
      ],
      "metadata": {
        "id": "HwvHZ3fA6lAT",
        "colab": {
          "base_uri": "https://localhost:8080/",
          "height": 206
        },
        "outputId": "b58a4f0b-9647-4d0b-da6f-da292ec28409"
      },
      "execution_count": null,
      "outputs": [
        {
          "output_type": "execute_result",
          "data": {
            "text/plain": [
              "  peak_id      peak_name peak_alternative_name  height_metres climbing_status  \\\n",
              "0    AMAD     Ama Dablam          Amai Dablang           6814         Climbed   \n",
              "1    AMPG  Amphu Gyabjen                   NaN           5630         Climbed   \n",
              "2    ANN1    Annapurna I                   NaN           8091         Climbed   \n",
              "3    ANN2   Annapurna II                   NaN           7937         Climbed   \n",
              "4    ANN3  Annapurna III                   NaN           7555         Climbed   \n",
              "\n",
              "   first_ascent_year  first_ascent_country first_ascent_expedition_id  \n",
              "0             1961.0  New Zealand, USA, UK                  AMAD61101  \n",
              "1             1953.0                    UK                  AMPG53101  \n",
              "2             1950.0                France                  ANN150101  \n",
              "3             1960.0             UK, Nepal                  ANN260101  \n",
              "4             1961.0                 India                  ANN361101  "
            ],
            "text/html": [
              "\n",
              "  <div id=\"df-986a15e9-b726-41bd-a077-9b1a72c48ee6\">\n",
              "    <div class=\"colab-df-container\">\n",
              "      <div>\n",
              "<style scoped>\n",
              "    .dataframe tbody tr th:only-of-type {\n",
              "        vertical-align: middle;\n",
              "    }\n",
              "\n",
              "    .dataframe tbody tr th {\n",
              "        vertical-align: top;\n",
              "    }\n",
              "\n",
              "    .dataframe thead th {\n",
              "        text-align: right;\n",
              "    }\n",
              "</style>\n",
              "<table border=\"1\" class=\"dataframe\">\n",
              "  <thead>\n",
              "    <tr style=\"text-align: right;\">\n",
              "      <th></th>\n",
              "      <th>peak_id</th>\n",
              "      <th>peak_name</th>\n",
              "      <th>peak_alternative_name</th>\n",
              "      <th>height_metres</th>\n",
              "      <th>climbing_status</th>\n",
              "      <th>first_ascent_year</th>\n",
              "      <th>first_ascent_country</th>\n",
              "      <th>first_ascent_expedition_id</th>\n",
              "    </tr>\n",
              "  </thead>\n",
              "  <tbody>\n",
              "    <tr>\n",
              "      <th>0</th>\n",
              "      <td>AMAD</td>\n",
              "      <td>Ama Dablam</td>\n",
              "      <td>Amai Dablang</td>\n",
              "      <td>6814</td>\n",
              "      <td>Climbed</td>\n",
              "      <td>1961.0</td>\n",
              "      <td>New Zealand, USA, UK</td>\n",
              "      <td>AMAD61101</td>\n",
              "    </tr>\n",
              "    <tr>\n",
              "      <th>1</th>\n",
              "      <td>AMPG</td>\n",
              "      <td>Amphu Gyabjen</td>\n",
              "      <td>NaN</td>\n",
              "      <td>5630</td>\n",
              "      <td>Climbed</td>\n",
              "      <td>1953.0</td>\n",
              "      <td>UK</td>\n",
              "      <td>AMPG53101</td>\n",
              "    </tr>\n",
              "    <tr>\n",
              "      <th>2</th>\n",
              "      <td>ANN1</td>\n",
              "      <td>Annapurna I</td>\n",
              "      <td>NaN</td>\n",
              "      <td>8091</td>\n",
              "      <td>Climbed</td>\n",
              "      <td>1950.0</td>\n",
              "      <td>France</td>\n",
              "      <td>ANN150101</td>\n",
              "    </tr>\n",
              "    <tr>\n",
              "      <th>3</th>\n",
              "      <td>ANN2</td>\n",
              "      <td>Annapurna II</td>\n",
              "      <td>NaN</td>\n",
              "      <td>7937</td>\n",
              "      <td>Climbed</td>\n",
              "      <td>1960.0</td>\n",
              "      <td>UK, Nepal</td>\n",
              "      <td>ANN260101</td>\n",
              "    </tr>\n",
              "    <tr>\n",
              "      <th>4</th>\n",
              "      <td>ANN3</td>\n",
              "      <td>Annapurna III</td>\n",
              "      <td>NaN</td>\n",
              "      <td>7555</td>\n",
              "      <td>Climbed</td>\n",
              "      <td>1961.0</td>\n",
              "      <td>India</td>\n",
              "      <td>ANN361101</td>\n",
              "    </tr>\n",
              "  </tbody>\n",
              "</table>\n",
              "</div>\n",
              "      <button class=\"colab-df-convert\" onclick=\"convertToInteractive('df-986a15e9-b726-41bd-a077-9b1a72c48ee6')\"\n",
              "              title=\"Convert this dataframe to an interactive table.\"\n",
              "              style=\"display:none;\">\n",
              "        \n",
              "  <svg xmlns=\"http://www.w3.org/2000/svg\" height=\"24px\"viewBox=\"0 0 24 24\"\n",
              "       width=\"24px\">\n",
              "    <path d=\"M0 0h24v24H0V0z\" fill=\"none\"/>\n",
              "    <path d=\"M18.56 5.44l.94 2.06.94-2.06 2.06-.94-2.06-.94-.94-2.06-.94 2.06-2.06.94zm-11 1L8.5 8.5l.94-2.06 2.06-.94-2.06-.94L8.5 2.5l-.94 2.06-2.06.94zm10 10l.94 2.06.94-2.06 2.06-.94-2.06-.94-.94-2.06-.94 2.06-2.06.94z\"/><path d=\"M17.41 7.96l-1.37-1.37c-.4-.4-.92-.59-1.43-.59-.52 0-1.04.2-1.43.59L10.3 9.45l-7.72 7.72c-.78.78-.78 2.05 0 2.83L4 21.41c.39.39.9.59 1.41.59.51 0 1.02-.2 1.41-.59l7.78-7.78 2.81-2.81c.8-.78.8-2.07 0-2.86zM5.41 20L4 18.59l7.72-7.72 1.47 1.35L5.41 20z\"/>\n",
              "  </svg>\n",
              "      </button>\n",
              "      \n",
              "  <style>\n",
              "    .colab-df-container {\n",
              "      display:flex;\n",
              "      flex-wrap:wrap;\n",
              "      gap: 12px;\n",
              "    }\n",
              "\n",
              "    .colab-df-convert {\n",
              "      background-color: #E8F0FE;\n",
              "      border: none;\n",
              "      border-radius: 50%;\n",
              "      cursor: pointer;\n",
              "      display: none;\n",
              "      fill: #1967D2;\n",
              "      height: 32px;\n",
              "      padding: 0 0 0 0;\n",
              "      width: 32px;\n",
              "    }\n",
              "\n",
              "    .colab-df-convert:hover {\n",
              "      background-color: #E2EBFA;\n",
              "      box-shadow: 0px 1px 2px rgba(60, 64, 67, 0.3), 0px 1px 3px 1px rgba(60, 64, 67, 0.15);\n",
              "      fill: #174EA6;\n",
              "    }\n",
              "\n",
              "    [theme=dark] .colab-df-convert {\n",
              "      background-color: #3B4455;\n",
              "      fill: #D2E3FC;\n",
              "    }\n",
              "\n",
              "    [theme=dark] .colab-df-convert:hover {\n",
              "      background-color: #434B5C;\n",
              "      box-shadow: 0px 1px 3px 1px rgba(0, 0, 0, 0.15);\n",
              "      filter: drop-shadow(0px 1px 2px rgba(0, 0, 0, 0.3));\n",
              "      fill: #FFFFFF;\n",
              "    }\n",
              "  </style>\n",
              "\n",
              "      <script>\n",
              "        const buttonEl =\n",
              "          document.querySelector('#df-986a15e9-b726-41bd-a077-9b1a72c48ee6 button.colab-df-convert');\n",
              "        buttonEl.style.display =\n",
              "          google.colab.kernel.accessAllowed ? 'block' : 'none';\n",
              "\n",
              "        async function convertToInteractive(key) {\n",
              "          const element = document.querySelector('#df-986a15e9-b726-41bd-a077-9b1a72c48ee6');\n",
              "          const dataTable =\n",
              "            await google.colab.kernel.invokeFunction('convertToInteractive',\n",
              "                                                     [key], {});\n",
              "          if (!dataTable) return;\n",
              "\n",
              "          const docLinkHtml = 'Like what you see? Visit the ' +\n",
              "            '<a target=\"_blank\" href=https://colab.research.google.com/notebooks/data_table.ipynb>data table notebook</a>'\n",
              "            + ' to learn more about interactive tables.';\n",
              "          element.innerHTML = '';\n",
              "          dataTable['output_type'] = 'display_data';\n",
              "          await google.colab.output.renderOutput(dataTable, element);\n",
              "          const docLink = document.createElement('div');\n",
              "          docLink.innerHTML = docLinkHtml;\n",
              "          element.appendChild(docLink);\n",
              "        }\n",
              "      </script>\n",
              "    </div>\n",
              "  </div>\n",
              "  "
            ]
          },
          "metadata": {},
          "execution_count": 4
        }
      ]
    },
    {
      "cell_type": "code",
      "source": [
        "df_mem.head()"
      ],
      "metadata": {
        "id": "JxTBx0Ku6u5p",
        "colab": {
          "base_uri": "https://localhost:8080/",
          "height": 386
        },
        "outputId": "232871fa-86ec-4509-c706-91f20a3f2567"
      },
      "execution_count": null,
      "outputs": [
        {
          "output_type": "execute_result",
          "data": {
            "text/plain": [
              "  expedition_id     member_id peak_id   peak_name  year  season sex   age  \\\n",
              "0     AMAD78301  AMAD78301-01    AMAD  Ama Dablam  1978  Autumn   M  40.0   \n",
              "1     AMAD78301  AMAD78301-02    AMAD  Ama Dablam  1978  Autumn   M  41.0   \n",
              "2     AMAD78301  AMAD78301-03    AMAD  Ama Dablam  1978  Autumn   M  27.0   \n",
              "3     AMAD78301  AMAD78301-04    AMAD  Ama Dablam  1978  Autumn   M  40.0   \n",
              "4     AMAD78301  AMAD78301-05    AMAD  Ama Dablam  1978  Autumn   M  34.0   \n",
              "\n",
              "  citizenship expedition_role  ...  highpoint_metres  success   solo  \\\n",
              "0      France          Leader  ...               NaN    False  False   \n",
              "1      France   Deputy Leader  ...            6000.0    False  False   \n",
              "2      France         Climber  ...               NaN    False  False   \n",
              "3      France      Exp Doctor  ...            6000.0    False  False   \n",
              "4      France         Climber  ...               NaN    False  False   \n",
              "\n",
              "   oxygen_used   died  death_cause death_height_metres  injured  injury_type  \\\n",
              "0        False  False          NaN                 NaN    False          NaN   \n",
              "1        False  False          NaN                 NaN    False          NaN   \n",
              "2        False  False          NaN                 NaN    False          NaN   \n",
              "3        False  False          NaN                 NaN    False          NaN   \n",
              "4        False  False          NaN                 NaN    False          NaN   \n",
              "\n",
              "  injury_height_metres  \n",
              "0                  NaN  \n",
              "1                  NaN  \n",
              "2                  NaN  \n",
              "3                  NaN  \n",
              "4                  NaN  \n",
              "\n",
              "[5 rows x 21 columns]"
            ],
            "text/html": [
              "\n",
              "  <div id=\"df-f0de0539-32fb-43a2-85ca-0567da4d32f3\">\n",
              "    <div class=\"colab-df-container\">\n",
              "      <div>\n",
              "<style scoped>\n",
              "    .dataframe tbody tr th:only-of-type {\n",
              "        vertical-align: middle;\n",
              "    }\n",
              "\n",
              "    .dataframe tbody tr th {\n",
              "        vertical-align: top;\n",
              "    }\n",
              "\n",
              "    .dataframe thead th {\n",
              "        text-align: right;\n",
              "    }\n",
              "</style>\n",
              "<table border=\"1\" class=\"dataframe\">\n",
              "  <thead>\n",
              "    <tr style=\"text-align: right;\">\n",
              "      <th></th>\n",
              "      <th>expedition_id</th>\n",
              "      <th>member_id</th>\n",
              "      <th>peak_id</th>\n",
              "      <th>peak_name</th>\n",
              "      <th>year</th>\n",
              "      <th>season</th>\n",
              "      <th>sex</th>\n",
              "      <th>age</th>\n",
              "      <th>citizenship</th>\n",
              "      <th>expedition_role</th>\n",
              "      <th>...</th>\n",
              "      <th>highpoint_metres</th>\n",
              "      <th>success</th>\n",
              "      <th>solo</th>\n",
              "      <th>oxygen_used</th>\n",
              "      <th>died</th>\n",
              "      <th>death_cause</th>\n",
              "      <th>death_height_metres</th>\n",
              "      <th>injured</th>\n",
              "      <th>injury_type</th>\n",
              "      <th>injury_height_metres</th>\n",
              "    </tr>\n",
              "  </thead>\n",
              "  <tbody>\n",
              "    <tr>\n",
              "      <th>0</th>\n",
              "      <td>AMAD78301</td>\n",
              "      <td>AMAD78301-01</td>\n",
              "      <td>AMAD</td>\n",
              "      <td>Ama Dablam</td>\n",
              "      <td>1978</td>\n",
              "      <td>Autumn</td>\n",
              "      <td>M</td>\n",
              "      <td>40.0</td>\n",
              "      <td>France</td>\n",
              "      <td>Leader</td>\n",
              "      <td>...</td>\n",
              "      <td>NaN</td>\n",
              "      <td>False</td>\n",
              "      <td>False</td>\n",
              "      <td>False</td>\n",
              "      <td>False</td>\n",
              "      <td>NaN</td>\n",
              "      <td>NaN</td>\n",
              "      <td>False</td>\n",
              "      <td>NaN</td>\n",
              "      <td>NaN</td>\n",
              "    </tr>\n",
              "    <tr>\n",
              "      <th>1</th>\n",
              "      <td>AMAD78301</td>\n",
              "      <td>AMAD78301-02</td>\n",
              "      <td>AMAD</td>\n",
              "      <td>Ama Dablam</td>\n",
              "      <td>1978</td>\n",
              "      <td>Autumn</td>\n",
              "      <td>M</td>\n",
              "      <td>41.0</td>\n",
              "      <td>France</td>\n",
              "      <td>Deputy Leader</td>\n",
              "      <td>...</td>\n",
              "      <td>6000.0</td>\n",
              "      <td>False</td>\n",
              "      <td>False</td>\n",
              "      <td>False</td>\n",
              "      <td>False</td>\n",
              "      <td>NaN</td>\n",
              "      <td>NaN</td>\n",
              "      <td>False</td>\n",
              "      <td>NaN</td>\n",
              "      <td>NaN</td>\n",
              "    </tr>\n",
              "    <tr>\n",
              "      <th>2</th>\n",
              "      <td>AMAD78301</td>\n",
              "      <td>AMAD78301-03</td>\n",
              "      <td>AMAD</td>\n",
              "      <td>Ama Dablam</td>\n",
              "      <td>1978</td>\n",
              "      <td>Autumn</td>\n",
              "      <td>M</td>\n",
              "      <td>27.0</td>\n",
              "      <td>France</td>\n",
              "      <td>Climber</td>\n",
              "      <td>...</td>\n",
              "      <td>NaN</td>\n",
              "      <td>False</td>\n",
              "      <td>False</td>\n",
              "      <td>False</td>\n",
              "      <td>False</td>\n",
              "      <td>NaN</td>\n",
              "      <td>NaN</td>\n",
              "      <td>False</td>\n",
              "      <td>NaN</td>\n",
              "      <td>NaN</td>\n",
              "    </tr>\n",
              "    <tr>\n",
              "      <th>3</th>\n",
              "      <td>AMAD78301</td>\n",
              "      <td>AMAD78301-04</td>\n",
              "      <td>AMAD</td>\n",
              "      <td>Ama Dablam</td>\n",
              "      <td>1978</td>\n",
              "      <td>Autumn</td>\n",
              "      <td>M</td>\n",
              "      <td>40.0</td>\n",
              "      <td>France</td>\n",
              "      <td>Exp Doctor</td>\n",
              "      <td>...</td>\n",
              "      <td>6000.0</td>\n",
              "      <td>False</td>\n",
              "      <td>False</td>\n",
              "      <td>False</td>\n",
              "      <td>False</td>\n",
              "      <td>NaN</td>\n",
              "      <td>NaN</td>\n",
              "      <td>False</td>\n",
              "      <td>NaN</td>\n",
              "      <td>NaN</td>\n",
              "    </tr>\n",
              "    <tr>\n",
              "      <th>4</th>\n",
              "      <td>AMAD78301</td>\n",
              "      <td>AMAD78301-05</td>\n",
              "      <td>AMAD</td>\n",
              "      <td>Ama Dablam</td>\n",
              "      <td>1978</td>\n",
              "      <td>Autumn</td>\n",
              "      <td>M</td>\n",
              "      <td>34.0</td>\n",
              "      <td>France</td>\n",
              "      <td>Climber</td>\n",
              "      <td>...</td>\n",
              "      <td>NaN</td>\n",
              "      <td>False</td>\n",
              "      <td>False</td>\n",
              "      <td>False</td>\n",
              "      <td>False</td>\n",
              "      <td>NaN</td>\n",
              "      <td>NaN</td>\n",
              "      <td>False</td>\n",
              "      <td>NaN</td>\n",
              "      <td>NaN</td>\n",
              "    </tr>\n",
              "  </tbody>\n",
              "</table>\n",
              "<p>5 rows × 21 columns</p>\n",
              "</div>\n",
              "      <button class=\"colab-df-convert\" onclick=\"convertToInteractive('df-f0de0539-32fb-43a2-85ca-0567da4d32f3')\"\n",
              "              title=\"Convert this dataframe to an interactive table.\"\n",
              "              style=\"display:none;\">\n",
              "        \n",
              "  <svg xmlns=\"http://www.w3.org/2000/svg\" height=\"24px\"viewBox=\"0 0 24 24\"\n",
              "       width=\"24px\">\n",
              "    <path d=\"M0 0h24v24H0V0z\" fill=\"none\"/>\n",
              "    <path d=\"M18.56 5.44l.94 2.06.94-2.06 2.06-.94-2.06-.94-.94-2.06-.94 2.06-2.06.94zm-11 1L8.5 8.5l.94-2.06 2.06-.94-2.06-.94L8.5 2.5l-.94 2.06-2.06.94zm10 10l.94 2.06.94-2.06 2.06-.94-2.06-.94-.94-2.06-.94 2.06-2.06.94z\"/><path d=\"M17.41 7.96l-1.37-1.37c-.4-.4-.92-.59-1.43-.59-.52 0-1.04.2-1.43.59L10.3 9.45l-7.72 7.72c-.78.78-.78 2.05 0 2.83L4 21.41c.39.39.9.59 1.41.59.51 0 1.02-.2 1.41-.59l7.78-7.78 2.81-2.81c.8-.78.8-2.07 0-2.86zM5.41 20L4 18.59l7.72-7.72 1.47 1.35L5.41 20z\"/>\n",
              "  </svg>\n",
              "      </button>\n",
              "      \n",
              "  <style>\n",
              "    .colab-df-container {\n",
              "      display:flex;\n",
              "      flex-wrap:wrap;\n",
              "      gap: 12px;\n",
              "    }\n",
              "\n",
              "    .colab-df-convert {\n",
              "      background-color: #E8F0FE;\n",
              "      border: none;\n",
              "      border-radius: 50%;\n",
              "      cursor: pointer;\n",
              "      display: none;\n",
              "      fill: #1967D2;\n",
              "      height: 32px;\n",
              "      padding: 0 0 0 0;\n",
              "      width: 32px;\n",
              "    }\n",
              "\n",
              "    .colab-df-convert:hover {\n",
              "      background-color: #E2EBFA;\n",
              "      box-shadow: 0px 1px 2px rgba(60, 64, 67, 0.3), 0px 1px 3px 1px rgba(60, 64, 67, 0.15);\n",
              "      fill: #174EA6;\n",
              "    }\n",
              "\n",
              "    [theme=dark] .colab-df-convert {\n",
              "      background-color: #3B4455;\n",
              "      fill: #D2E3FC;\n",
              "    }\n",
              "\n",
              "    [theme=dark] .colab-df-convert:hover {\n",
              "      background-color: #434B5C;\n",
              "      box-shadow: 0px 1px 3px 1px rgba(0, 0, 0, 0.15);\n",
              "      filter: drop-shadow(0px 1px 2px rgba(0, 0, 0, 0.3));\n",
              "      fill: #FFFFFF;\n",
              "    }\n",
              "  </style>\n",
              "\n",
              "      <script>\n",
              "        const buttonEl =\n",
              "          document.querySelector('#df-f0de0539-32fb-43a2-85ca-0567da4d32f3 button.colab-df-convert');\n",
              "        buttonEl.style.display =\n",
              "          google.colab.kernel.accessAllowed ? 'block' : 'none';\n",
              "\n",
              "        async function convertToInteractive(key) {\n",
              "          const element = document.querySelector('#df-f0de0539-32fb-43a2-85ca-0567da4d32f3');\n",
              "          const dataTable =\n",
              "            await google.colab.kernel.invokeFunction('convertToInteractive',\n",
              "                                                     [key], {});\n",
              "          if (!dataTable) return;\n",
              "\n",
              "          const docLinkHtml = 'Like what you see? Visit the ' +\n",
              "            '<a target=\"_blank\" href=https://colab.research.google.com/notebooks/data_table.ipynb>data table notebook</a>'\n",
              "            + ' to learn more about interactive tables.';\n",
              "          element.innerHTML = '';\n",
              "          dataTable['output_type'] = 'display_data';\n",
              "          await google.colab.output.renderOutput(dataTable, element);\n",
              "          const docLink = document.createElement('div');\n",
              "          docLink.innerHTML = docLinkHtml;\n",
              "          element.appendChild(docLink);\n",
              "        }\n",
              "      </script>\n",
              "    </div>\n",
              "  </div>\n",
              "  "
            ]
          },
          "metadata": {},
          "execution_count": 5
        }
      ]
    },
    {
      "cell_type": "markdown",
      "source": [
        "This is how I identified column ‘peak_id’ to merge expeditions.csv with peak.csv and assigned it to ‘df1’ as temporary dataframe."
      ],
      "metadata": {
        "id": "GqgOOBdp72zJ"
      }
    },
    {
      "cell_type": "code",
      "source": [
        "df1 =df_exp.merge(df_peaks ,on ='peak_id') \n",
        "print(df1.shape) \n",
        "df1.head()"
      ],
      "metadata": {
        "id": "u1zJO2y58C_g",
        "colab": {
          "base_uri": "https://localhost:8080/",
          "height": 352
        },
        "outputId": "645eddc8-4e0e-418a-d8f7-80cb031a4ac2"
      },
      "execution_count": null,
      "outputs": [
        {
          "output_type": "stream",
          "name": "stdout",
          "text": [
            "(10363, 23)\n"
          ]
        },
        {
          "output_type": "execute_result",
          "data": {
            "text/plain": [
              "  expedition_id peak_id   peak_name_x  year  season basecamp_date  \\\n",
              "0     ANN260101    ANN2  Annapurna II  1960  Spring    1960-03-15   \n",
              "1     ANN269301    ANN2  Annapurna II  1969  Autumn    1969-09-25   \n",
              "2     ANN273101    ANN2  Annapurna II  1973  Spring    1973-03-16   \n",
              "3     ANN278301    ANN2  Annapurna II  1978  Autumn    1978-09-08   \n",
              "4     ANN279301    ANN2  Annapurna II  1979  Autumn           NaN   \n",
              "\n",
              "  highpoint_date termination_date                termination_reason  \\\n",
              "0     1960-05-17              NaN               Success (main peak)   \n",
              "1     1969-10-22       1969-10-26               Success (main peak)   \n",
              "2     1973-05-06              NaN               Success (main peak)   \n",
              "3     1978-10-02       1978-10-05  Bad weather (storms, high winds)   \n",
              "4     1979-10-18       1979-10-20  Bad weather (storms, high winds)   \n",
              "\n",
              "   highpoint_metres  ...  hired_staff_deaths  oxygen_used  trekking_agency  \\\n",
              "0            7937.0  ...                   0         True              NaN   \n",
              "1            7937.0  ...                   0        False              NaN   \n",
              "2            7937.0  ...                   0        False              NaN   \n",
              "3            7000.0  ...                   0        False              NaN   \n",
              "4            7160.0  ...                   0        False              NaN   \n",
              "\n",
              "    peak_name_y  peak_alternative_name height_metres climbing_status  \\\n",
              "0  Annapurna II                    NaN          7937         Climbed   \n",
              "1  Annapurna II                    NaN          7937         Climbed   \n",
              "2  Annapurna II                    NaN          7937         Climbed   \n",
              "3  Annapurna II                    NaN          7937         Climbed   \n",
              "4  Annapurna II                    NaN          7937         Climbed   \n",
              "\n",
              "  first_ascent_year  first_ascent_country first_ascent_expedition_id  \n",
              "0            1960.0             UK, Nepal                  ANN260101  \n",
              "1            1960.0             UK, Nepal                  ANN260101  \n",
              "2            1960.0             UK, Nepal                  ANN260101  \n",
              "3            1960.0             UK, Nepal                  ANN260101  \n",
              "4            1960.0             UK, Nepal                  ANN260101  \n",
              "\n",
              "[5 rows x 23 columns]"
            ],
            "text/html": [
              "\n",
              "  <div id=\"df-6d6ece0b-0d25-4d6e-9f25-e3741b15c1fe\">\n",
              "    <div class=\"colab-df-container\">\n",
              "      <div>\n",
              "<style scoped>\n",
              "    .dataframe tbody tr th:only-of-type {\n",
              "        vertical-align: middle;\n",
              "    }\n",
              "\n",
              "    .dataframe tbody tr th {\n",
              "        vertical-align: top;\n",
              "    }\n",
              "\n",
              "    .dataframe thead th {\n",
              "        text-align: right;\n",
              "    }\n",
              "</style>\n",
              "<table border=\"1\" class=\"dataframe\">\n",
              "  <thead>\n",
              "    <tr style=\"text-align: right;\">\n",
              "      <th></th>\n",
              "      <th>expedition_id</th>\n",
              "      <th>peak_id</th>\n",
              "      <th>peak_name_x</th>\n",
              "      <th>year</th>\n",
              "      <th>season</th>\n",
              "      <th>basecamp_date</th>\n",
              "      <th>highpoint_date</th>\n",
              "      <th>termination_date</th>\n",
              "      <th>termination_reason</th>\n",
              "      <th>highpoint_metres</th>\n",
              "      <th>...</th>\n",
              "      <th>hired_staff_deaths</th>\n",
              "      <th>oxygen_used</th>\n",
              "      <th>trekking_agency</th>\n",
              "      <th>peak_name_y</th>\n",
              "      <th>peak_alternative_name</th>\n",
              "      <th>height_metres</th>\n",
              "      <th>climbing_status</th>\n",
              "      <th>first_ascent_year</th>\n",
              "      <th>first_ascent_country</th>\n",
              "      <th>first_ascent_expedition_id</th>\n",
              "    </tr>\n",
              "  </thead>\n",
              "  <tbody>\n",
              "    <tr>\n",
              "      <th>0</th>\n",
              "      <td>ANN260101</td>\n",
              "      <td>ANN2</td>\n",
              "      <td>Annapurna II</td>\n",
              "      <td>1960</td>\n",
              "      <td>Spring</td>\n",
              "      <td>1960-03-15</td>\n",
              "      <td>1960-05-17</td>\n",
              "      <td>NaN</td>\n",
              "      <td>Success (main peak)</td>\n",
              "      <td>7937.0</td>\n",
              "      <td>...</td>\n",
              "      <td>0</td>\n",
              "      <td>True</td>\n",
              "      <td>NaN</td>\n",
              "      <td>Annapurna II</td>\n",
              "      <td>NaN</td>\n",
              "      <td>7937</td>\n",
              "      <td>Climbed</td>\n",
              "      <td>1960.0</td>\n",
              "      <td>UK, Nepal</td>\n",
              "      <td>ANN260101</td>\n",
              "    </tr>\n",
              "    <tr>\n",
              "      <th>1</th>\n",
              "      <td>ANN269301</td>\n",
              "      <td>ANN2</td>\n",
              "      <td>Annapurna II</td>\n",
              "      <td>1969</td>\n",
              "      <td>Autumn</td>\n",
              "      <td>1969-09-25</td>\n",
              "      <td>1969-10-22</td>\n",
              "      <td>1969-10-26</td>\n",
              "      <td>Success (main peak)</td>\n",
              "      <td>7937.0</td>\n",
              "      <td>...</td>\n",
              "      <td>0</td>\n",
              "      <td>False</td>\n",
              "      <td>NaN</td>\n",
              "      <td>Annapurna II</td>\n",
              "      <td>NaN</td>\n",
              "      <td>7937</td>\n",
              "      <td>Climbed</td>\n",
              "      <td>1960.0</td>\n",
              "      <td>UK, Nepal</td>\n",
              "      <td>ANN260101</td>\n",
              "    </tr>\n",
              "    <tr>\n",
              "      <th>2</th>\n",
              "      <td>ANN273101</td>\n",
              "      <td>ANN2</td>\n",
              "      <td>Annapurna II</td>\n",
              "      <td>1973</td>\n",
              "      <td>Spring</td>\n",
              "      <td>1973-03-16</td>\n",
              "      <td>1973-05-06</td>\n",
              "      <td>NaN</td>\n",
              "      <td>Success (main peak)</td>\n",
              "      <td>7937.0</td>\n",
              "      <td>...</td>\n",
              "      <td>0</td>\n",
              "      <td>False</td>\n",
              "      <td>NaN</td>\n",
              "      <td>Annapurna II</td>\n",
              "      <td>NaN</td>\n",
              "      <td>7937</td>\n",
              "      <td>Climbed</td>\n",
              "      <td>1960.0</td>\n",
              "      <td>UK, Nepal</td>\n",
              "      <td>ANN260101</td>\n",
              "    </tr>\n",
              "    <tr>\n",
              "      <th>3</th>\n",
              "      <td>ANN278301</td>\n",
              "      <td>ANN2</td>\n",
              "      <td>Annapurna II</td>\n",
              "      <td>1978</td>\n",
              "      <td>Autumn</td>\n",
              "      <td>1978-09-08</td>\n",
              "      <td>1978-10-02</td>\n",
              "      <td>1978-10-05</td>\n",
              "      <td>Bad weather (storms, high winds)</td>\n",
              "      <td>7000.0</td>\n",
              "      <td>...</td>\n",
              "      <td>0</td>\n",
              "      <td>False</td>\n",
              "      <td>NaN</td>\n",
              "      <td>Annapurna II</td>\n",
              "      <td>NaN</td>\n",
              "      <td>7937</td>\n",
              "      <td>Climbed</td>\n",
              "      <td>1960.0</td>\n",
              "      <td>UK, Nepal</td>\n",
              "      <td>ANN260101</td>\n",
              "    </tr>\n",
              "    <tr>\n",
              "      <th>4</th>\n",
              "      <td>ANN279301</td>\n",
              "      <td>ANN2</td>\n",
              "      <td>Annapurna II</td>\n",
              "      <td>1979</td>\n",
              "      <td>Autumn</td>\n",
              "      <td>NaN</td>\n",
              "      <td>1979-10-18</td>\n",
              "      <td>1979-10-20</td>\n",
              "      <td>Bad weather (storms, high winds)</td>\n",
              "      <td>7160.0</td>\n",
              "      <td>...</td>\n",
              "      <td>0</td>\n",
              "      <td>False</td>\n",
              "      <td>NaN</td>\n",
              "      <td>Annapurna II</td>\n",
              "      <td>NaN</td>\n",
              "      <td>7937</td>\n",
              "      <td>Climbed</td>\n",
              "      <td>1960.0</td>\n",
              "      <td>UK, Nepal</td>\n",
              "      <td>ANN260101</td>\n",
              "    </tr>\n",
              "  </tbody>\n",
              "</table>\n",
              "<p>5 rows × 23 columns</p>\n",
              "</div>\n",
              "      <button class=\"colab-df-convert\" onclick=\"convertToInteractive('df-6d6ece0b-0d25-4d6e-9f25-e3741b15c1fe')\"\n",
              "              title=\"Convert this dataframe to an interactive table.\"\n",
              "              style=\"display:none;\">\n",
              "        \n",
              "  <svg xmlns=\"http://www.w3.org/2000/svg\" height=\"24px\"viewBox=\"0 0 24 24\"\n",
              "       width=\"24px\">\n",
              "    <path d=\"M0 0h24v24H0V0z\" fill=\"none\"/>\n",
              "    <path d=\"M18.56 5.44l.94 2.06.94-2.06 2.06-.94-2.06-.94-.94-2.06-.94 2.06-2.06.94zm-11 1L8.5 8.5l.94-2.06 2.06-.94-2.06-.94L8.5 2.5l-.94 2.06-2.06.94zm10 10l.94 2.06.94-2.06 2.06-.94-2.06-.94-.94-2.06-.94 2.06-2.06.94z\"/><path d=\"M17.41 7.96l-1.37-1.37c-.4-.4-.92-.59-1.43-.59-.52 0-1.04.2-1.43.59L10.3 9.45l-7.72 7.72c-.78.78-.78 2.05 0 2.83L4 21.41c.39.39.9.59 1.41.59.51 0 1.02-.2 1.41-.59l7.78-7.78 2.81-2.81c.8-.78.8-2.07 0-2.86zM5.41 20L4 18.59l7.72-7.72 1.47 1.35L5.41 20z\"/>\n",
              "  </svg>\n",
              "      </button>\n",
              "      \n",
              "  <style>\n",
              "    .colab-df-container {\n",
              "      display:flex;\n",
              "      flex-wrap:wrap;\n",
              "      gap: 12px;\n",
              "    }\n",
              "\n",
              "    .colab-df-convert {\n",
              "      background-color: #E8F0FE;\n",
              "      border: none;\n",
              "      border-radius: 50%;\n",
              "      cursor: pointer;\n",
              "      display: none;\n",
              "      fill: #1967D2;\n",
              "      height: 32px;\n",
              "      padding: 0 0 0 0;\n",
              "      width: 32px;\n",
              "    }\n",
              "\n",
              "    .colab-df-convert:hover {\n",
              "      background-color: #E2EBFA;\n",
              "      box-shadow: 0px 1px 2px rgba(60, 64, 67, 0.3), 0px 1px 3px 1px rgba(60, 64, 67, 0.15);\n",
              "      fill: #174EA6;\n",
              "    }\n",
              "\n",
              "    [theme=dark] .colab-df-convert {\n",
              "      background-color: #3B4455;\n",
              "      fill: #D2E3FC;\n",
              "    }\n",
              "\n",
              "    [theme=dark] .colab-df-convert:hover {\n",
              "      background-color: #434B5C;\n",
              "      box-shadow: 0px 1px 3px 1px rgba(0, 0, 0, 0.15);\n",
              "      filter: drop-shadow(0px 1px 2px rgba(0, 0, 0, 0.3));\n",
              "      fill: #FFFFFF;\n",
              "    }\n",
              "  </style>\n",
              "\n",
              "      <script>\n",
              "        const buttonEl =\n",
              "          document.querySelector('#df-6d6ece0b-0d25-4d6e-9f25-e3741b15c1fe button.colab-df-convert');\n",
              "        buttonEl.style.display =\n",
              "          google.colab.kernel.accessAllowed ? 'block' : 'none';\n",
              "\n",
              "        async function convertToInteractive(key) {\n",
              "          const element = document.querySelector('#df-6d6ece0b-0d25-4d6e-9f25-e3741b15c1fe');\n",
              "          const dataTable =\n",
              "            await google.colab.kernel.invokeFunction('convertToInteractive',\n",
              "                                                     [key], {});\n",
              "          if (!dataTable) return;\n",
              "\n",
              "          const docLinkHtml = 'Like what you see? Visit the ' +\n",
              "            '<a target=\"_blank\" href=https://colab.research.google.com/notebooks/data_table.ipynb>data table notebook</a>'\n",
              "            + ' to learn more about interactive tables.';\n",
              "          element.innerHTML = '';\n",
              "          dataTable['output_type'] = 'display_data';\n",
              "          await google.colab.output.renderOutput(dataTable, element);\n",
              "          const docLink = document.createElement('div');\n",
              "          docLink.innerHTML = docLinkHtml;\n",
              "          element.appendChild(docLink);\n",
              "        }\n",
              "      </script>\n",
              "    </div>\n",
              "  </div>\n",
              "  "
            ]
          },
          "metadata": {},
          "execution_count": 6
        }
      ]
    },
    {
      "cell_type": "markdown",
      "source": [
        "Next I done the same with my temporary dataframe and members.csv based on ‘expedition_id’ and assigned it to dataframe -’df’. I did used .merge command to combine all three csv’s."
      ],
      "metadata": {
        "id": "4IfpSWnw-uVM"
      }
    },
    {
      "cell_type": "code",
      "source": [
        "df = df1.merge(df_mem ,on ='expedition_id') \n",
        "print(df.shape) \n",
        "df.head()"
      ],
      "metadata": {
        "id": "U12ZgJpe--mQ",
        "colab": {
          "base_uri": "https://localhost:8080/",
          "height": 317
        },
        "outputId": "3361a49d-c8a5-46fc-fb11-d34a594f67a8"
      },
      "execution_count": null,
      "outputs": [
        {
          "output_type": "stream",
          "name": "stdout",
          "text": [
            "(76511, 43)\n"
          ]
        },
        {
          "output_type": "execute_result",
          "data": {
            "text/plain": [
              "  expedition_id peak_id_x   peak_name_x  year_x season_x basecamp_date  \\\n",
              "0     ANN260101      ANN2  Annapurna II    1960   Spring    1960-03-15   \n",
              "1     ANN260101      ANN2  Annapurna II    1960   Spring    1960-03-15   \n",
              "2     ANN260101      ANN2  Annapurna II    1960   Spring    1960-03-15   \n",
              "3     ANN260101      ANN2  Annapurna II    1960   Spring    1960-03-15   \n",
              "4     ANN260101      ANN2  Annapurna II    1960   Spring    1960-03-15   \n",
              "\n",
              "  highpoint_date termination_date   termination_reason  highpoint_metres_x  \\\n",
              "0     1960-05-17              NaN  Success (main peak)              7937.0   \n",
              "1     1960-05-17              NaN  Success (main peak)              7937.0   \n",
              "2     1960-05-17              NaN  Success (main peak)              7937.0   \n",
              "3     1960-05-17              NaN  Success (main peak)              7937.0   \n",
              "4     1960-05-17              NaN  Success (main peak)              7937.0   \n",
              "\n",
              "   ...  highpoint_metres_y  success   solo  oxygen_used_y   died death_cause  \\\n",
              "0  ...                 NaN    False  False          False  False         NaN   \n",
              "1  ...              7937.0     True  False           True  False         NaN   \n",
              "2  ...              7250.0    False  False          False  False         NaN   \n",
              "3  ...              7250.0    False  False          False  False         NaN   \n",
              "4  ...              7937.0     True  False           True  False         NaN   \n",
              "\n",
              "  death_height_metres injured  injury_type injury_height_metres  \n",
              "0                 NaN   False          NaN                  NaN  \n",
              "1                 NaN   False          NaN                  NaN  \n",
              "2                 NaN   False          NaN                  NaN  \n",
              "3                 NaN   False          NaN                  NaN  \n",
              "4                 NaN   False          NaN                  NaN  \n",
              "\n",
              "[5 rows x 43 columns]"
            ],
            "text/html": [
              "\n",
              "  <div id=\"df-cc539244-4d62-4db9-b4fd-966fe4e51ebd\">\n",
              "    <div class=\"colab-df-container\">\n",
              "      <div>\n",
              "<style scoped>\n",
              "    .dataframe tbody tr th:only-of-type {\n",
              "        vertical-align: middle;\n",
              "    }\n",
              "\n",
              "    .dataframe tbody tr th {\n",
              "        vertical-align: top;\n",
              "    }\n",
              "\n",
              "    .dataframe thead th {\n",
              "        text-align: right;\n",
              "    }\n",
              "</style>\n",
              "<table border=\"1\" class=\"dataframe\">\n",
              "  <thead>\n",
              "    <tr style=\"text-align: right;\">\n",
              "      <th></th>\n",
              "      <th>expedition_id</th>\n",
              "      <th>peak_id_x</th>\n",
              "      <th>peak_name_x</th>\n",
              "      <th>year_x</th>\n",
              "      <th>season_x</th>\n",
              "      <th>basecamp_date</th>\n",
              "      <th>highpoint_date</th>\n",
              "      <th>termination_date</th>\n",
              "      <th>termination_reason</th>\n",
              "      <th>highpoint_metres_x</th>\n",
              "      <th>...</th>\n",
              "      <th>highpoint_metres_y</th>\n",
              "      <th>success</th>\n",
              "      <th>solo</th>\n",
              "      <th>oxygen_used_y</th>\n",
              "      <th>died</th>\n",
              "      <th>death_cause</th>\n",
              "      <th>death_height_metres</th>\n",
              "      <th>injured</th>\n",
              "      <th>injury_type</th>\n",
              "      <th>injury_height_metres</th>\n",
              "    </tr>\n",
              "  </thead>\n",
              "  <tbody>\n",
              "    <tr>\n",
              "      <th>0</th>\n",
              "      <td>ANN260101</td>\n",
              "      <td>ANN2</td>\n",
              "      <td>Annapurna II</td>\n",
              "      <td>1960</td>\n",
              "      <td>Spring</td>\n",
              "      <td>1960-03-15</td>\n",
              "      <td>1960-05-17</td>\n",
              "      <td>NaN</td>\n",
              "      <td>Success (main peak)</td>\n",
              "      <td>7937.0</td>\n",
              "      <td>...</td>\n",
              "      <td>NaN</td>\n",
              "      <td>False</td>\n",
              "      <td>False</td>\n",
              "      <td>False</td>\n",
              "      <td>False</td>\n",
              "      <td>NaN</td>\n",
              "      <td>NaN</td>\n",
              "      <td>False</td>\n",
              "      <td>NaN</td>\n",
              "      <td>NaN</td>\n",
              "    </tr>\n",
              "    <tr>\n",
              "      <th>1</th>\n",
              "      <td>ANN260101</td>\n",
              "      <td>ANN2</td>\n",
              "      <td>Annapurna II</td>\n",
              "      <td>1960</td>\n",
              "      <td>Spring</td>\n",
              "      <td>1960-03-15</td>\n",
              "      <td>1960-05-17</td>\n",
              "      <td>NaN</td>\n",
              "      <td>Success (main peak)</td>\n",
              "      <td>7937.0</td>\n",
              "      <td>...</td>\n",
              "      <td>7937.0</td>\n",
              "      <td>True</td>\n",
              "      <td>False</td>\n",
              "      <td>True</td>\n",
              "      <td>False</td>\n",
              "      <td>NaN</td>\n",
              "      <td>NaN</td>\n",
              "      <td>False</td>\n",
              "      <td>NaN</td>\n",
              "      <td>NaN</td>\n",
              "    </tr>\n",
              "    <tr>\n",
              "      <th>2</th>\n",
              "      <td>ANN260101</td>\n",
              "      <td>ANN2</td>\n",
              "      <td>Annapurna II</td>\n",
              "      <td>1960</td>\n",
              "      <td>Spring</td>\n",
              "      <td>1960-03-15</td>\n",
              "      <td>1960-05-17</td>\n",
              "      <td>NaN</td>\n",
              "      <td>Success (main peak)</td>\n",
              "      <td>7937.0</td>\n",
              "      <td>...</td>\n",
              "      <td>7250.0</td>\n",
              "      <td>False</td>\n",
              "      <td>False</td>\n",
              "      <td>False</td>\n",
              "      <td>False</td>\n",
              "      <td>NaN</td>\n",
              "      <td>NaN</td>\n",
              "      <td>False</td>\n",
              "      <td>NaN</td>\n",
              "      <td>NaN</td>\n",
              "    </tr>\n",
              "    <tr>\n",
              "      <th>3</th>\n",
              "      <td>ANN260101</td>\n",
              "      <td>ANN2</td>\n",
              "      <td>Annapurna II</td>\n",
              "      <td>1960</td>\n",
              "      <td>Spring</td>\n",
              "      <td>1960-03-15</td>\n",
              "      <td>1960-05-17</td>\n",
              "      <td>NaN</td>\n",
              "      <td>Success (main peak)</td>\n",
              "      <td>7937.0</td>\n",
              "      <td>...</td>\n",
              "      <td>7250.0</td>\n",
              "      <td>False</td>\n",
              "      <td>False</td>\n",
              "      <td>False</td>\n",
              "      <td>False</td>\n",
              "      <td>NaN</td>\n",
              "      <td>NaN</td>\n",
              "      <td>False</td>\n",
              "      <td>NaN</td>\n",
              "      <td>NaN</td>\n",
              "    </tr>\n",
              "    <tr>\n",
              "      <th>4</th>\n",
              "      <td>ANN260101</td>\n",
              "      <td>ANN2</td>\n",
              "      <td>Annapurna II</td>\n",
              "      <td>1960</td>\n",
              "      <td>Spring</td>\n",
              "      <td>1960-03-15</td>\n",
              "      <td>1960-05-17</td>\n",
              "      <td>NaN</td>\n",
              "      <td>Success (main peak)</td>\n",
              "      <td>7937.0</td>\n",
              "      <td>...</td>\n",
              "      <td>7937.0</td>\n",
              "      <td>True</td>\n",
              "      <td>False</td>\n",
              "      <td>True</td>\n",
              "      <td>False</td>\n",
              "      <td>NaN</td>\n",
              "      <td>NaN</td>\n",
              "      <td>False</td>\n",
              "      <td>NaN</td>\n",
              "      <td>NaN</td>\n",
              "    </tr>\n",
              "  </tbody>\n",
              "</table>\n",
              "<p>5 rows × 43 columns</p>\n",
              "</div>\n",
              "      <button class=\"colab-df-convert\" onclick=\"convertToInteractive('df-cc539244-4d62-4db9-b4fd-966fe4e51ebd')\"\n",
              "              title=\"Convert this dataframe to an interactive table.\"\n",
              "              style=\"display:none;\">\n",
              "        \n",
              "  <svg xmlns=\"http://www.w3.org/2000/svg\" height=\"24px\"viewBox=\"0 0 24 24\"\n",
              "       width=\"24px\">\n",
              "    <path d=\"M0 0h24v24H0V0z\" fill=\"none\"/>\n",
              "    <path d=\"M18.56 5.44l.94 2.06.94-2.06 2.06-.94-2.06-.94-.94-2.06-.94 2.06-2.06.94zm-11 1L8.5 8.5l.94-2.06 2.06-.94-2.06-.94L8.5 2.5l-.94 2.06-2.06.94zm10 10l.94 2.06.94-2.06 2.06-.94-2.06-.94-.94-2.06-.94 2.06-2.06.94z\"/><path d=\"M17.41 7.96l-1.37-1.37c-.4-.4-.92-.59-1.43-.59-.52 0-1.04.2-1.43.59L10.3 9.45l-7.72 7.72c-.78.78-.78 2.05 0 2.83L4 21.41c.39.39.9.59 1.41.59.51 0 1.02-.2 1.41-.59l7.78-7.78 2.81-2.81c.8-.78.8-2.07 0-2.86zM5.41 20L4 18.59l7.72-7.72 1.47 1.35L5.41 20z\"/>\n",
              "  </svg>\n",
              "      </button>\n",
              "      \n",
              "  <style>\n",
              "    .colab-df-container {\n",
              "      display:flex;\n",
              "      flex-wrap:wrap;\n",
              "      gap: 12px;\n",
              "    }\n",
              "\n",
              "    .colab-df-convert {\n",
              "      background-color: #E8F0FE;\n",
              "      border: none;\n",
              "      border-radius: 50%;\n",
              "      cursor: pointer;\n",
              "      display: none;\n",
              "      fill: #1967D2;\n",
              "      height: 32px;\n",
              "      padding: 0 0 0 0;\n",
              "      width: 32px;\n",
              "    }\n",
              "\n",
              "    .colab-df-convert:hover {\n",
              "      background-color: #E2EBFA;\n",
              "      box-shadow: 0px 1px 2px rgba(60, 64, 67, 0.3), 0px 1px 3px 1px rgba(60, 64, 67, 0.15);\n",
              "      fill: #174EA6;\n",
              "    }\n",
              "\n",
              "    [theme=dark] .colab-df-convert {\n",
              "      background-color: #3B4455;\n",
              "      fill: #D2E3FC;\n",
              "    }\n",
              "\n",
              "    [theme=dark] .colab-df-convert:hover {\n",
              "      background-color: #434B5C;\n",
              "      box-shadow: 0px 1px 3px 1px rgba(0, 0, 0, 0.15);\n",
              "      filter: drop-shadow(0px 1px 2px rgba(0, 0, 0, 0.3));\n",
              "      fill: #FFFFFF;\n",
              "    }\n",
              "  </style>\n",
              "\n",
              "      <script>\n",
              "        const buttonEl =\n",
              "          document.querySelector('#df-cc539244-4d62-4db9-b4fd-966fe4e51ebd button.colab-df-convert');\n",
              "        buttonEl.style.display =\n",
              "          google.colab.kernel.accessAllowed ? 'block' : 'none';\n",
              "\n",
              "        async function convertToInteractive(key) {\n",
              "          const element = document.querySelector('#df-cc539244-4d62-4db9-b4fd-966fe4e51ebd');\n",
              "          const dataTable =\n",
              "            await google.colab.kernel.invokeFunction('convertToInteractive',\n",
              "                                                     [key], {});\n",
              "          if (!dataTable) return;\n",
              "\n",
              "          const docLinkHtml = 'Like what you see? Visit the ' +\n",
              "            '<a target=\"_blank\" href=https://colab.research.google.com/notebooks/data_table.ipynb>data table notebook</a>'\n",
              "            + ' to learn more about interactive tables.';\n",
              "          element.innerHTML = '';\n",
              "          dataTable['output_type'] = 'display_data';\n",
              "          await google.colab.output.renderOutput(dataTable, element);\n",
              "          const docLink = document.createElement('div');\n",
              "          docLink.innerHTML = docLinkHtml;\n",
              "          element.appendChild(docLink);\n",
              "        }\n",
              "      </script>\n",
              "    </div>\n",
              "  </div>\n",
              "  "
            ]
          },
          "metadata": {},
          "execution_count": 7
        }
      ]
    },
    {
      "cell_type": "markdown",
      "source": [
        "At this point I started looking for empty values in my current dataframe – ‘df’. I am using .isna() function to show all ‘nan’ values. Because I find the column that will make significant impact on my results I want to take closer look at column ‘death_cause’. That is why I am using df[‘death_cause’].unique() function."
      ],
      "metadata": {
        "id": "QlHkQrGgaRIN"
      }
    },
    {
      "cell_type": "code",
      "source": [
        "print(df.isna().sum().sort_values())"
      ],
      "metadata": {
        "id": "6U6vqaxUatya",
        "colab": {
          "base_uri": "https://localhost:8080/"
        },
        "outputId": "c484d1d7-5fc3-4974-f5f5-e5f3ec7b83c9"
      },
      "execution_count": null,
      "outputs": [
        {
          "output_type": "stream",
          "name": "stdout",
          "text": [
            "expedition_id                     0\n",
            "peak_name                         0\n",
            "peak_id_y                         0\n",
            "member_id                         0\n",
            "climbing_status                   0\n",
            "height_metres                     0\n",
            "hired                             0\n",
            "peak_name_y                       0\n",
            "success                           0\n",
            "oxygen_used_x                     0\n",
            "year_y                            0\n",
            "hired_staff                       0\n",
            "hired_staff_deaths                0\n",
            "members                           0\n",
            "solo                              0\n",
            "termination_reason                0\n",
            "oxygen_used_y                     0\n",
            "died                              0\n",
            "injured                           0\n",
            "season_x                          0\n",
            "year_x                            0\n",
            "peak_name_x                       0\n",
            "peak_id_x                         0\n",
            "member_deaths                     0\n",
            "season_y                          0\n",
            "sex                               2\n",
            "citizenship                      10\n",
            "expedition_role                  21\n",
            "first_ascent_country            603\n",
            "first_ascent_year               603\n",
            "first_ascent_expedition_id      621\n",
            "highpoint_metres_x             1708\n",
            "highpoint_date                 2661\n",
            "age                            3497\n",
            "basecamp_date                  5970\n",
            "trekking_agency               13459\n",
            "termination_date              17664\n",
            "highpoint_metres_y            21834\n",
            "peak_alternative_name         31623\n",
            "injury_type                   74799\n",
            "death_cause                   75405\n",
            "death_height_metres           75443\n",
            "injury_height_metres          75502\n",
            "dtype: int64\n"
          ]
        }
      ]
    },
    {
      "cell_type": "code",
      "source": [
        "#printing unique values\n",
        "print(df['death_cause'].unique())"
      ],
      "metadata": {
        "id": "XRi3QYYMrt3l",
        "colab": {
          "base_uri": "https://localhost:8080/"
        },
        "outputId": "0d4cacc3-a92a-4300-8507-3b5cc48c85ce"
      },
      "execution_count": null,
      "outputs": [
        {
          "output_type": "stream",
          "name": "stdout",
          "text": [
            "[nan 'Fall' 'Exposure / frostbite' 'Avalanche' 'AMS' 'Unknown'\n",
            " 'Illness (non-AMS)' 'Falling rock / ice' 'Exhaustion' 'Other'\n",
            " 'Disappearance (unexplained)' 'Crevasse' 'Icefall collapse']\n"
          ]
        }
      ]
    },
    {
      "cell_type": "markdown",
      "source": [
        "Thanks to that I see that value ‘Other’ is not really make more sense then ‘nan’ or ‘unknown’ but it generate more noise so I am replacing all ‘Other’ with ‘nan’. "
      ],
      "metadata": {
        "id": "RDWoBZp7tmMW"
      }
    },
    {
      "cell_type": "code",
      "source": [
        "#replacing missleading value\n",
        "df['death_cause'] = df.death_cause.replace(['Other'], [np.nan])\n",
        "#verifying that \"Other\" has been replaced with nan\n",
        "print(df['death_cause'].unique())"
      ],
      "metadata": {
        "id": "ACJbpwTHt-XF",
        "colab": {
          "base_uri": "https://localhost:8080/"
        },
        "outputId": "1c7d0323-de1c-4a07-de9d-6efe4269f3a7"
      },
      "execution_count": null,
      "outputs": [
        {
          "output_type": "stream",
          "name": "stdout",
          "text": [
            "[nan 'Fall' 'Exposure / frostbite' 'Avalanche' 'AMS' 'Unknown'\n",
            " 'Illness (non-AMS)' 'Falling rock / ice' 'Exhaustion'\n",
            " 'Disappearance (unexplained)' 'Crevasse' 'Icefall collapse']\n"
          ]
        }
      ]
    },
    {
      "cell_type": "markdown",
      "source": [
        "To limit variables in current dataset that are mainly repeated like year_x and year_y I will drop some of the columns that came after merging. Important columns from expedition.csv is ‘termination_reason’ and ‘expedition_id’, ‘year’. Important columns from peaks.csv is ‘peak_name’ and ‘climbing_status’. Important columns from members.csv is ‘death_cause’.Those I belive are important columns I want to keep. I will drop  the following columns that are not important:  'trekking_agency', 'peak_alternative_name', 'sex', 'expedition_role', 'injury_type', 'injury_height_metres', 'oxygen_used_x', 'age', 'first_ascent_country', 'hired', 'success', 'member_id', 'highpoint_metres_y', 'oxygen_used_y', 'died', 'death_height_metres', 'injured', 'citizenship', 'solo', 'year_y', 'season_y', 'peak_name_y', 'peak_name_x', 'peak_id_y', 'peak_id_x', 'season_x', 'climbing_status', 'first_ascent_expedition_id'. Result of dataframe without dropped columns was saved to temporary dataframe ‘cleaning’  "
      ],
      "metadata": {
        "id": "un6nxZAq1C2s"
      }
    },
    {
      "cell_type": "code",
      "source": [
        "#droping non-inportant columns\n",
        "cleaning = df.drop(columns=['trekking_agency', 'peak_alternative_name', 'sex', 'expedition_role', 'injury_type', 'injury_height_metres', 'oxygen_used_x', 'age', 'first_ascent_country', 'hired', 'success', 'member_id', 'highpoint_metres_y', 'oxygen_used_y', 'died', 'death_height_metres', 'injured', 'citizenship', 'solo', 'year_y', 'season_y', 'peak_name_y', 'peak_name_x', 'peak_id_y', 'peak_id_x', 'season_x', 'climbing_status', 'first_ascent_expedition_id'])"
      ],
      "metadata": {
        "id": "zmK10Ij_7jYA"
      },
      "execution_count": null,
      "outputs": []
    },
    {
      "cell_type": "code",
      "source": [
        "cleaning.head()"
      ],
      "metadata": {
        "id": "-535jUeg-T-Y",
        "colab": {
          "base_uri": "https://localhost:8080/",
          "height": 357
        },
        "outputId": "d89bb8f2-a191-4dc2-ce5f-bca387c58aca"
      },
      "execution_count": null,
      "outputs": [
        {
          "output_type": "execute_result",
          "data": {
            "text/plain": [
              "  expedition_id  year_x basecamp_date highpoint_date termination_date  \\\n",
              "0     ANN260101    1960    1960-03-15     1960-05-17              NaN   \n",
              "1     ANN260101    1960    1960-03-15     1960-05-17              NaN   \n",
              "2     ANN260101    1960    1960-03-15     1960-05-17              NaN   \n",
              "3     ANN260101    1960    1960-03-15     1960-05-17              NaN   \n",
              "4     ANN260101    1960    1960-03-15     1960-05-17              NaN   \n",
              "\n",
              "    termination_reason  highpoint_metres_x  members  member_deaths  \\\n",
              "0  Success (main peak)              7937.0       10              0   \n",
              "1  Success (main peak)              7937.0       10              0   \n",
              "2  Success (main peak)              7937.0       10              0   \n",
              "3  Success (main peak)              7937.0       10              0   \n",
              "4  Success (main peak)              7937.0       10              0   \n",
              "\n",
              "   hired_staff  hired_staff_deaths  height_metres  first_ascent_year  \\\n",
              "0            9                   0           7937             1960.0   \n",
              "1            9                   0           7937             1960.0   \n",
              "2            9                   0           7937             1960.0   \n",
              "3            9                   0           7937             1960.0   \n",
              "4            9                   0           7937             1960.0   \n",
              "\n",
              "      peak_name death_cause  \n",
              "0  Annapurna II         NaN  \n",
              "1  Annapurna II         NaN  \n",
              "2  Annapurna II         NaN  \n",
              "3  Annapurna II         NaN  \n",
              "4  Annapurna II         NaN  "
            ],
            "text/html": [
              "\n",
              "  <div id=\"df-8623e001-b556-4033-a73d-39a58c36810d\">\n",
              "    <div class=\"colab-df-container\">\n",
              "      <div>\n",
              "<style scoped>\n",
              "    .dataframe tbody tr th:only-of-type {\n",
              "        vertical-align: middle;\n",
              "    }\n",
              "\n",
              "    .dataframe tbody tr th {\n",
              "        vertical-align: top;\n",
              "    }\n",
              "\n",
              "    .dataframe thead th {\n",
              "        text-align: right;\n",
              "    }\n",
              "</style>\n",
              "<table border=\"1\" class=\"dataframe\">\n",
              "  <thead>\n",
              "    <tr style=\"text-align: right;\">\n",
              "      <th></th>\n",
              "      <th>expedition_id</th>\n",
              "      <th>year_x</th>\n",
              "      <th>basecamp_date</th>\n",
              "      <th>highpoint_date</th>\n",
              "      <th>termination_date</th>\n",
              "      <th>termination_reason</th>\n",
              "      <th>highpoint_metres_x</th>\n",
              "      <th>members</th>\n",
              "      <th>member_deaths</th>\n",
              "      <th>hired_staff</th>\n",
              "      <th>hired_staff_deaths</th>\n",
              "      <th>height_metres</th>\n",
              "      <th>first_ascent_year</th>\n",
              "      <th>peak_name</th>\n",
              "      <th>death_cause</th>\n",
              "    </tr>\n",
              "  </thead>\n",
              "  <tbody>\n",
              "    <tr>\n",
              "      <th>0</th>\n",
              "      <td>ANN260101</td>\n",
              "      <td>1960</td>\n",
              "      <td>1960-03-15</td>\n",
              "      <td>1960-05-17</td>\n",
              "      <td>NaN</td>\n",
              "      <td>Success (main peak)</td>\n",
              "      <td>7937.0</td>\n",
              "      <td>10</td>\n",
              "      <td>0</td>\n",
              "      <td>9</td>\n",
              "      <td>0</td>\n",
              "      <td>7937</td>\n",
              "      <td>1960.0</td>\n",
              "      <td>Annapurna II</td>\n",
              "      <td>NaN</td>\n",
              "    </tr>\n",
              "    <tr>\n",
              "      <th>1</th>\n",
              "      <td>ANN260101</td>\n",
              "      <td>1960</td>\n",
              "      <td>1960-03-15</td>\n",
              "      <td>1960-05-17</td>\n",
              "      <td>NaN</td>\n",
              "      <td>Success (main peak)</td>\n",
              "      <td>7937.0</td>\n",
              "      <td>10</td>\n",
              "      <td>0</td>\n",
              "      <td>9</td>\n",
              "      <td>0</td>\n",
              "      <td>7937</td>\n",
              "      <td>1960.0</td>\n",
              "      <td>Annapurna II</td>\n",
              "      <td>NaN</td>\n",
              "    </tr>\n",
              "    <tr>\n",
              "      <th>2</th>\n",
              "      <td>ANN260101</td>\n",
              "      <td>1960</td>\n",
              "      <td>1960-03-15</td>\n",
              "      <td>1960-05-17</td>\n",
              "      <td>NaN</td>\n",
              "      <td>Success (main peak)</td>\n",
              "      <td>7937.0</td>\n",
              "      <td>10</td>\n",
              "      <td>0</td>\n",
              "      <td>9</td>\n",
              "      <td>0</td>\n",
              "      <td>7937</td>\n",
              "      <td>1960.0</td>\n",
              "      <td>Annapurna II</td>\n",
              "      <td>NaN</td>\n",
              "    </tr>\n",
              "    <tr>\n",
              "      <th>3</th>\n",
              "      <td>ANN260101</td>\n",
              "      <td>1960</td>\n",
              "      <td>1960-03-15</td>\n",
              "      <td>1960-05-17</td>\n",
              "      <td>NaN</td>\n",
              "      <td>Success (main peak)</td>\n",
              "      <td>7937.0</td>\n",
              "      <td>10</td>\n",
              "      <td>0</td>\n",
              "      <td>9</td>\n",
              "      <td>0</td>\n",
              "      <td>7937</td>\n",
              "      <td>1960.0</td>\n",
              "      <td>Annapurna II</td>\n",
              "      <td>NaN</td>\n",
              "    </tr>\n",
              "    <tr>\n",
              "      <th>4</th>\n",
              "      <td>ANN260101</td>\n",
              "      <td>1960</td>\n",
              "      <td>1960-03-15</td>\n",
              "      <td>1960-05-17</td>\n",
              "      <td>NaN</td>\n",
              "      <td>Success (main peak)</td>\n",
              "      <td>7937.0</td>\n",
              "      <td>10</td>\n",
              "      <td>0</td>\n",
              "      <td>9</td>\n",
              "      <td>0</td>\n",
              "      <td>7937</td>\n",
              "      <td>1960.0</td>\n",
              "      <td>Annapurna II</td>\n",
              "      <td>NaN</td>\n",
              "    </tr>\n",
              "  </tbody>\n",
              "</table>\n",
              "</div>\n",
              "      <button class=\"colab-df-convert\" onclick=\"convertToInteractive('df-8623e001-b556-4033-a73d-39a58c36810d')\"\n",
              "              title=\"Convert this dataframe to an interactive table.\"\n",
              "              style=\"display:none;\">\n",
              "        \n",
              "  <svg xmlns=\"http://www.w3.org/2000/svg\" height=\"24px\"viewBox=\"0 0 24 24\"\n",
              "       width=\"24px\">\n",
              "    <path d=\"M0 0h24v24H0V0z\" fill=\"none\"/>\n",
              "    <path d=\"M18.56 5.44l.94 2.06.94-2.06 2.06-.94-2.06-.94-.94-2.06-.94 2.06-2.06.94zm-11 1L8.5 8.5l.94-2.06 2.06-.94-2.06-.94L8.5 2.5l-.94 2.06-2.06.94zm10 10l.94 2.06.94-2.06 2.06-.94-2.06-.94-.94-2.06-.94 2.06-2.06.94z\"/><path d=\"M17.41 7.96l-1.37-1.37c-.4-.4-.92-.59-1.43-.59-.52 0-1.04.2-1.43.59L10.3 9.45l-7.72 7.72c-.78.78-.78 2.05 0 2.83L4 21.41c.39.39.9.59 1.41.59.51 0 1.02-.2 1.41-.59l7.78-7.78 2.81-2.81c.8-.78.8-2.07 0-2.86zM5.41 20L4 18.59l7.72-7.72 1.47 1.35L5.41 20z\"/>\n",
              "  </svg>\n",
              "      </button>\n",
              "      \n",
              "  <style>\n",
              "    .colab-df-container {\n",
              "      display:flex;\n",
              "      flex-wrap:wrap;\n",
              "      gap: 12px;\n",
              "    }\n",
              "\n",
              "    .colab-df-convert {\n",
              "      background-color: #E8F0FE;\n",
              "      border: none;\n",
              "      border-radius: 50%;\n",
              "      cursor: pointer;\n",
              "      display: none;\n",
              "      fill: #1967D2;\n",
              "      height: 32px;\n",
              "      padding: 0 0 0 0;\n",
              "      width: 32px;\n",
              "    }\n",
              "\n",
              "    .colab-df-convert:hover {\n",
              "      background-color: #E2EBFA;\n",
              "      box-shadow: 0px 1px 2px rgba(60, 64, 67, 0.3), 0px 1px 3px 1px rgba(60, 64, 67, 0.15);\n",
              "      fill: #174EA6;\n",
              "    }\n",
              "\n",
              "    [theme=dark] .colab-df-convert {\n",
              "      background-color: #3B4455;\n",
              "      fill: #D2E3FC;\n",
              "    }\n",
              "\n",
              "    [theme=dark] .colab-df-convert:hover {\n",
              "      background-color: #434B5C;\n",
              "      box-shadow: 0px 1px 3px 1px rgba(0, 0, 0, 0.15);\n",
              "      filter: drop-shadow(0px 1px 2px rgba(0, 0, 0, 0.3));\n",
              "      fill: #FFFFFF;\n",
              "    }\n",
              "  </style>\n",
              "\n",
              "      <script>\n",
              "        const buttonEl =\n",
              "          document.querySelector('#df-8623e001-b556-4033-a73d-39a58c36810d button.colab-df-convert');\n",
              "        buttonEl.style.display =\n",
              "          google.colab.kernel.accessAllowed ? 'block' : 'none';\n",
              "\n",
              "        async function convertToInteractive(key) {\n",
              "          const element = document.querySelector('#df-8623e001-b556-4033-a73d-39a58c36810d');\n",
              "          const dataTable =\n",
              "            await google.colab.kernel.invokeFunction('convertToInteractive',\n",
              "                                                     [key], {});\n",
              "          if (!dataTable) return;\n",
              "\n",
              "          const docLinkHtml = 'Like what you see? Visit the ' +\n",
              "            '<a target=\"_blank\" href=https://colab.research.google.com/notebooks/data_table.ipynb>data table notebook</a>'\n",
              "            + ' to learn more about interactive tables.';\n",
              "          element.innerHTML = '';\n",
              "          dataTable['output_type'] = 'display_data';\n",
              "          await google.colab.output.renderOutput(dataTable, element);\n",
              "          const docLink = document.createElement('div');\n",
              "          docLink.innerHTML = docLinkHtml;\n",
              "          element.appendChild(docLink);\n",
              "        }\n",
              "      </script>\n",
              "    </div>\n",
              "  </div>\n",
              "  "
            ]
          },
          "metadata": {},
          "execution_count": 12
        }
      ]
    },
    {
      "cell_type": "markdown",
      "source": [
        "Dropped columns did not stopped me to find duplicates in this dataframe but as this review is about expeditions there was no need to have all members listedwhere most of the values were repeated per expedition. Right now i will be able to find all duplicates that can be dropped and makes more sense for this review. I done that based on field ‘expedition_id’. I sorted values and finally dropped it and result saved to ‘exp_dup’. "
      ],
      "metadata": {
        "id": "0SZVplsLC-yC"
      }
    },
    {
      "cell_type": "code",
      "source": [
        "#finding duplicates\n",
        "duplicates = cleaning.duplicated(subset='expedition_id', keep=False)\n",
        "\n",
        "#sorting duplicates\n",
        "duplicated_expedition = cleaning[duplicates].sort_values(by ='expedition_id') \n",
        "\n",
        "# printing relevant columns of duplicated_expedition\n",
        "print(duplicated_expedition[['expedition_id']]) "
      ],
      "metadata": {
        "id": "Jc4jM-A2TID0",
        "colab": {
          "base_uri": "https://localhost:8080/"
        },
        "outputId": "9bc1ea78-365c-461f-fd1d-5aee261ed02d"
      },
      "execution_count": null,
      "outputs": [
        {
          "output_type": "stream",
          "name": "stdout",
          "text": [
            "      expedition_id\n",
            "75903     ACHN15301\n",
            "75902     ACHN15301\n",
            "75906     ACHN15301\n",
            "75905     ACHN15301\n",
            "75904     ACHN15301\n",
            "...             ...\n",
            "74525     YAUP17101\n",
            "74515     YAUP89301\n",
            "74516     YAUP89301\n",
            "74517     YAUP89301\n",
            "74518     YAUP89301\n",
            "\n",
            "[75741 rows x 1 columns]\n"
          ]
        }
      ]
    },
    {
      "cell_type": "code",
      "source": [
        "# Drop complete duplicates from cleaning \n",
        "exp_dup = cleaning.drop_duplicates()\n",
        "\n",
        "#printing relevant columns of duplicated\n",
        "print(exp_dup[['expedition_id']])"
      ],
      "metadata": {
        "id": "F8dG1CGqVF_g",
        "colab": {
          "base_uri": "https://localhost:8080/"
        },
        "outputId": "b61a246a-79ad-476d-c1de-fa25fcfcb6b7"
      },
      "execution_count": null,
      "outputs": [
        {
          "output_type": "stream",
          "name": "stdout",
          "text": [
            "      expedition_id\n",
            "0         ANN260101\n",
            "19        ANN269301\n",
            "29        ANN273101\n",
            "35        ANN278301\n",
            "37        ANN279301\n",
            "...             ...\n",
            "76478     NUPL18301\n",
            "76490     TILK18301\n",
            "76495     YARA18301\n",
            "76498     GYLZ19101\n",
            "76508     SANK19101\n",
            "\n",
            "[11052 rows x 1 columns]\n"
          ]
        }
      ]
    },
    {
      "cell_type": "markdown",
      "source": [
        "Stripping down string from expedition_id using simple regex."
      ],
      "metadata": {
        "id": "URBsqkwLub7f"
      }
    },
    {
      "cell_type": "code",
      "source": [
        "#removing strings from expedition_id using regex\n",
        "exp_dup['expedition_id'].replace(to_replace=r'([a-zA-Z]+)', value='', regex=True)"
      ],
      "metadata": {
        "colab": {
          "base_uri": "https://localhost:8080/"
        },
        "id": "-kz1rsZtpSj_",
        "outputId": "021888d8-2253-4af1-c161-086a8702e518"
      },
      "execution_count": null,
      "outputs": [
        {
          "output_type": "execute_result",
          "data": {
            "text/plain": [
              "0        260101\n",
              "19       269301\n",
              "29       273101\n",
              "35       278301\n",
              "37       279301\n",
              "          ...  \n",
              "76478     18301\n",
              "76490     18301\n",
              "76495     18301\n",
              "76498     19101\n",
              "76508     19101\n",
              "Name: expedition_id, Length: 11052, dtype: object"
            ]
          },
          "metadata": {},
          "execution_count": 15
        }
      ]
    },
    {
      "cell_type": "markdown",
      "source": [
        "Cleaned data I saved to new file clean_everest.csv to avoid running all code boxes in python notebook. "
      ],
      "metadata": {
        "id": "_Q-X6on6J4xG"
      }
    },
    {
      "cell_type": "code",
      "source": [
        "#saving current content to a file \n",
        "exp_dup.to_csv(\"/content/drive/MyDrive/Colab Notebooks/everest_data/clean_everest.csv\")"
      ],
      "metadata": {
        "id": "x-DlqDVgDH2t"
      },
      "execution_count": null,
      "outputs": []
    },
    {
      "cell_type": "markdown",
      "source": [
        "###Data exploration\n",
        "Cleaned data saved as result of cleaning are loaded as ‘dfc’.   "
      ],
      "metadata": {
        "id": "TIrg5wYK3Efy"
      }
    },
    {
      "cell_type": "code",
      "source": [
        "dfc = pd.read_csv(\"/content/drive/MyDrive/Colab Notebooks/everest_data/clean_everest.csv\")\n",
        "print(dfc.columns)"
      ],
      "metadata": {
        "id": "mPkb_Huj3iF9",
        "colab": {
          "base_uri": "https://localhost:8080/"
        },
        "outputId": "37df7dd8-6c3d-4f2b-d3f5-e7e80cda48e4"
      },
      "execution_count": null,
      "outputs": [
        {
          "output_type": "stream",
          "name": "stdout",
          "text": [
            "Index(['Unnamed: 0', 'expedition_id', 'year_x', 'basecamp_date',\n",
            "       'highpoint_date', 'termination_date', 'termination_reason',\n",
            "       'highpoint_metres_x', 'members', 'member_deaths', 'hired_staff',\n",
            "       'hired_staff_deaths', 'height_metres', 'first_ascent_year', 'peak_name',\n",
            "       'death_cause'],\n",
            "      dtype='object')\n"
          ]
        }
      ]
    },
    {
      "cell_type": "markdown",
      "source": [
        "Features termination_reson and death_cause are nominal i need to convert it to dummy variables. I am doing it using dataframe option ‘.get_dummies’. "
      ],
      "metadata": {
        "id": "KWodoaWM_Mg9"
      }
    },
    {
      "cell_type": "code",
      "source": [
        "pd.get_dummies(dfc, columns=['death_cause', 'termination_reason'])"
      ],
      "metadata": {
        "colab": {
          "base_uri": "https://localhost:8080/",
          "height": 557
        },
        "id": "nNn8VB0j_aOB",
        "outputId": "9ca83eb1-41e0-4671-b937-585e32692166"
      },
      "execution_count": null,
      "outputs": [
        {
          "output_type": "execute_result",
          "data": {
            "text/plain": [
              "       Unnamed: 0 expedition_id  year_x basecamp_date highpoint_date  \\\n",
              "0               0     ANN260101    1960    1960-03-15     1960-05-17   \n",
              "1              19     ANN269301    1969    1969-09-25     1969-10-22   \n",
              "2              29     ANN273101    1973    1973-03-16     1973-05-06   \n",
              "3              35     ANN278301    1978    1978-09-08     1978-10-02   \n",
              "4              37     ANN279301    1979           NaN     1979-10-18   \n",
              "...           ...           ...     ...           ...            ...   \n",
              "11047       76478     NUPL18301    2018    2018-10-28     2018-11-02   \n",
              "11048       76490     TILK18301    2018    2018-10-06     2018-10-15   \n",
              "11049       76495     YARA18301    2018    2018-09-10     2018-10-10   \n",
              "11050       76498     GYLZ19101    2019    2019-04-03     2019-04-09   \n",
              "11051       76508     SANK19101    2019    2019-04-05     2019-04-28   \n",
              "\n",
              "      termination_date  highpoint_metres_x  members  member_deaths  \\\n",
              "0                  NaN              7937.0       10              0   \n",
              "1           1969-10-26              7937.0       10              0   \n",
              "2                  NaN              7937.0        6              0   \n",
              "3           1978-10-05              7000.0        2              0   \n",
              "4           1979-10-20              7160.0        3              0   \n",
              "...                ...                 ...      ...            ...   \n",
              "11047       2018-11-03              6861.0        7              0   \n",
              "11048       2018-10-20              6369.0        5              0   \n",
              "11049              NaN              5900.0        3              0   \n",
              "11050       2019-04-12              6151.0        6              0   \n",
              "11051       2019-04-29              6452.0        2              0   \n",
              "\n",
              "       hired_staff  ...  termination_reason_Did not reach base camp  \\\n",
              "0                9  ...                                           0   \n",
              "1                0  ...                                           0   \n",
              "2                8  ...                                           0   \n",
              "3                0  ...                                           0   \n",
              "4                0  ...                                           0   \n",
              "...            ...  ...                                         ...   \n",
              "11047            5  ...                                           0   \n",
              "11048            0  ...                                           0   \n",
              "11049            0  ...                                           0   \n",
              "11050            4  ...                                           0   \n",
              "11051            1  ...                                           0   \n",
              "\n",
              "       termination_reason_Illness, AMS, exhaustion, or frostbite  \\\n",
              "0                                                      0           \n",
              "1                                                      0           \n",
              "2                                                      0           \n",
              "3                                                      0           \n",
              "4                                                      0           \n",
              "...                                                  ...           \n",
              "11047                                                  0           \n",
              "11048                                                  0           \n",
              "11049                                                  0           \n",
              "11050                                                  0           \n",
              "11051                                                  0           \n",
              "\n",
              "       termination_reason_Lack (or loss) of supplies or equipment  \\\n",
              "0                                                      0            \n",
              "1                                                      0            \n",
              "2                                                      0            \n",
              "3                                                      0            \n",
              "4                                                      0            \n",
              "...                                                  ...            \n",
              "11047                                                  0            \n",
              "11048                                                  0            \n",
              "11049                                                  0            \n",
              "11050                                                  0            \n",
              "11051                                                  0            \n",
              "\n",
              "      termination_reason_Lack of time  termination_reason_Other  \\\n",
              "0                                   0                         0   \n",
              "1                                   0                         0   \n",
              "2                                   0                         0   \n",
              "3                                   0                         0   \n",
              "4                                   0                         0   \n",
              "...                               ...                       ...   \n",
              "11047                               0                         0   \n",
              "11048                               0                         0   \n",
              "11049                               0                         0   \n",
              "11050                               0                         0   \n",
              "11051                               0                         0   \n",
              "\n",
              "       termination_reason_Route technically too difficult, lack of experience, strength, or motivation  \\\n",
              "0                                                      0                                                 \n",
              "1                                                      0                                                 \n",
              "2                                                      0                                                 \n",
              "3                                                      0                                                 \n",
              "4                                                      0                                                 \n",
              "...                                                  ...                                                 \n",
              "11047                                                  0                                                 \n",
              "11048                                                  0                                                 \n",
              "11049                                                  0                                                 \n",
              "11050                                                  0                                                 \n",
              "11051                                                  0                                                 \n",
              "\n",
              "       termination_reason_Success (claimed)  \\\n",
              "0                                         0   \n",
              "1                                         0   \n",
              "2                                         0   \n",
              "3                                         0   \n",
              "4                                         0   \n",
              "...                                     ...   \n",
              "11047                                     0   \n",
              "11048                                     0   \n",
              "11049                                     0   \n",
              "11050                                     0   \n",
              "11051                                     0   \n",
              "\n",
              "       termination_reason_Success (main peak)  \\\n",
              "0                                           1   \n",
              "1                                           1   \n",
              "2                                           1   \n",
              "3                                           0   \n",
              "4                                           0   \n",
              "...                                       ...   \n",
              "11047                                       1   \n",
              "11048                                       1   \n",
              "11049                                       0   \n",
              "11050                                       1   \n",
              "11051                                       1   \n",
              "\n",
              "       termination_reason_Success (subpeak)  termination_reason_Unknown  \n",
              "0                                         0                           0  \n",
              "1                                         0                           0  \n",
              "2                                         0                           0  \n",
              "3                                         0                           0  \n",
              "4                                         0                           0  \n",
              "...                                     ...                         ...  \n",
              "11047                                     0                           0  \n",
              "11048                                     0                           0  \n",
              "11049                                     0                           0  \n",
              "11050                                     0                           0  \n",
              "11051                                     0                           0  \n",
              "\n",
              "[11052 rows x 40 columns]"
            ],
            "text/html": [
              "\n",
              "  <div id=\"df-a841e219-6055-40e6-b619-4608f304c273\">\n",
              "    <div class=\"colab-df-container\">\n",
              "      <div>\n",
              "<style scoped>\n",
              "    .dataframe tbody tr th:only-of-type {\n",
              "        vertical-align: middle;\n",
              "    }\n",
              "\n",
              "    .dataframe tbody tr th {\n",
              "        vertical-align: top;\n",
              "    }\n",
              "\n",
              "    .dataframe thead th {\n",
              "        text-align: right;\n",
              "    }\n",
              "</style>\n",
              "<table border=\"1\" class=\"dataframe\">\n",
              "  <thead>\n",
              "    <tr style=\"text-align: right;\">\n",
              "      <th></th>\n",
              "      <th>Unnamed: 0</th>\n",
              "      <th>expedition_id</th>\n",
              "      <th>year_x</th>\n",
              "      <th>basecamp_date</th>\n",
              "      <th>highpoint_date</th>\n",
              "      <th>termination_date</th>\n",
              "      <th>highpoint_metres_x</th>\n",
              "      <th>members</th>\n",
              "      <th>member_deaths</th>\n",
              "      <th>hired_staff</th>\n",
              "      <th>...</th>\n",
              "      <th>termination_reason_Did not reach base camp</th>\n",
              "      <th>termination_reason_Illness, AMS, exhaustion, or frostbite</th>\n",
              "      <th>termination_reason_Lack (or loss) of supplies or equipment</th>\n",
              "      <th>termination_reason_Lack of time</th>\n",
              "      <th>termination_reason_Other</th>\n",
              "      <th>termination_reason_Route technically too difficult, lack of experience, strength, or motivation</th>\n",
              "      <th>termination_reason_Success (claimed)</th>\n",
              "      <th>termination_reason_Success (main peak)</th>\n",
              "      <th>termination_reason_Success (subpeak)</th>\n",
              "      <th>termination_reason_Unknown</th>\n",
              "    </tr>\n",
              "  </thead>\n",
              "  <tbody>\n",
              "    <tr>\n",
              "      <th>0</th>\n",
              "      <td>0</td>\n",
              "      <td>ANN260101</td>\n",
              "      <td>1960</td>\n",
              "      <td>1960-03-15</td>\n",
              "      <td>1960-05-17</td>\n",
              "      <td>NaN</td>\n",
              "      <td>7937.0</td>\n",
              "      <td>10</td>\n",
              "      <td>0</td>\n",
              "      <td>9</td>\n",
              "      <td>...</td>\n",
              "      <td>0</td>\n",
              "      <td>0</td>\n",
              "      <td>0</td>\n",
              "      <td>0</td>\n",
              "      <td>0</td>\n",
              "      <td>0</td>\n",
              "      <td>0</td>\n",
              "      <td>1</td>\n",
              "      <td>0</td>\n",
              "      <td>0</td>\n",
              "    </tr>\n",
              "    <tr>\n",
              "      <th>1</th>\n",
              "      <td>19</td>\n",
              "      <td>ANN269301</td>\n",
              "      <td>1969</td>\n",
              "      <td>1969-09-25</td>\n",
              "      <td>1969-10-22</td>\n",
              "      <td>1969-10-26</td>\n",
              "      <td>7937.0</td>\n",
              "      <td>10</td>\n",
              "      <td>0</td>\n",
              "      <td>0</td>\n",
              "      <td>...</td>\n",
              "      <td>0</td>\n",
              "      <td>0</td>\n",
              "      <td>0</td>\n",
              "      <td>0</td>\n",
              "      <td>0</td>\n",
              "      <td>0</td>\n",
              "      <td>0</td>\n",
              "      <td>1</td>\n",
              "      <td>0</td>\n",
              "      <td>0</td>\n",
              "    </tr>\n",
              "    <tr>\n",
              "      <th>2</th>\n",
              "      <td>29</td>\n",
              "      <td>ANN273101</td>\n",
              "      <td>1973</td>\n",
              "      <td>1973-03-16</td>\n",
              "      <td>1973-05-06</td>\n",
              "      <td>NaN</td>\n",
              "      <td>7937.0</td>\n",
              "      <td>6</td>\n",
              "      <td>0</td>\n",
              "      <td>8</td>\n",
              "      <td>...</td>\n",
              "      <td>0</td>\n",
              "      <td>0</td>\n",
              "      <td>0</td>\n",
              "      <td>0</td>\n",
              "      <td>0</td>\n",
              "      <td>0</td>\n",
              "      <td>0</td>\n",
              "      <td>1</td>\n",
              "      <td>0</td>\n",
              "      <td>0</td>\n",
              "    </tr>\n",
              "    <tr>\n",
              "      <th>3</th>\n",
              "      <td>35</td>\n",
              "      <td>ANN278301</td>\n",
              "      <td>1978</td>\n",
              "      <td>1978-09-08</td>\n",
              "      <td>1978-10-02</td>\n",
              "      <td>1978-10-05</td>\n",
              "      <td>7000.0</td>\n",
              "      <td>2</td>\n",
              "      <td>0</td>\n",
              "      <td>0</td>\n",
              "      <td>...</td>\n",
              "      <td>0</td>\n",
              "      <td>0</td>\n",
              "      <td>0</td>\n",
              "      <td>0</td>\n",
              "      <td>0</td>\n",
              "      <td>0</td>\n",
              "      <td>0</td>\n",
              "      <td>0</td>\n",
              "      <td>0</td>\n",
              "      <td>0</td>\n",
              "    </tr>\n",
              "    <tr>\n",
              "      <th>4</th>\n",
              "      <td>37</td>\n",
              "      <td>ANN279301</td>\n",
              "      <td>1979</td>\n",
              "      <td>NaN</td>\n",
              "      <td>1979-10-18</td>\n",
              "      <td>1979-10-20</td>\n",
              "      <td>7160.0</td>\n",
              "      <td>3</td>\n",
              "      <td>0</td>\n",
              "      <td>0</td>\n",
              "      <td>...</td>\n",
              "      <td>0</td>\n",
              "      <td>0</td>\n",
              "      <td>0</td>\n",
              "      <td>0</td>\n",
              "      <td>0</td>\n",
              "      <td>0</td>\n",
              "      <td>0</td>\n",
              "      <td>0</td>\n",
              "      <td>0</td>\n",
              "      <td>0</td>\n",
              "    </tr>\n",
              "    <tr>\n",
              "      <th>...</th>\n",
              "      <td>...</td>\n",
              "      <td>...</td>\n",
              "      <td>...</td>\n",
              "      <td>...</td>\n",
              "      <td>...</td>\n",
              "      <td>...</td>\n",
              "      <td>...</td>\n",
              "      <td>...</td>\n",
              "      <td>...</td>\n",
              "      <td>...</td>\n",
              "      <td>...</td>\n",
              "      <td>...</td>\n",
              "      <td>...</td>\n",
              "      <td>...</td>\n",
              "      <td>...</td>\n",
              "      <td>...</td>\n",
              "      <td>...</td>\n",
              "      <td>...</td>\n",
              "      <td>...</td>\n",
              "      <td>...</td>\n",
              "      <td>...</td>\n",
              "    </tr>\n",
              "    <tr>\n",
              "      <th>11047</th>\n",
              "      <td>76478</td>\n",
              "      <td>NUPL18301</td>\n",
              "      <td>2018</td>\n",
              "      <td>2018-10-28</td>\n",
              "      <td>2018-11-02</td>\n",
              "      <td>2018-11-03</td>\n",
              "      <td>6861.0</td>\n",
              "      <td>7</td>\n",
              "      <td>0</td>\n",
              "      <td>5</td>\n",
              "      <td>...</td>\n",
              "      <td>0</td>\n",
              "      <td>0</td>\n",
              "      <td>0</td>\n",
              "      <td>0</td>\n",
              "      <td>0</td>\n",
              "      <td>0</td>\n",
              "      <td>0</td>\n",
              "      <td>1</td>\n",
              "      <td>0</td>\n",
              "      <td>0</td>\n",
              "    </tr>\n",
              "    <tr>\n",
              "      <th>11048</th>\n",
              "      <td>76490</td>\n",
              "      <td>TILK18301</td>\n",
              "      <td>2018</td>\n",
              "      <td>2018-10-06</td>\n",
              "      <td>2018-10-15</td>\n",
              "      <td>2018-10-20</td>\n",
              "      <td>6369.0</td>\n",
              "      <td>5</td>\n",
              "      <td>0</td>\n",
              "      <td>0</td>\n",
              "      <td>...</td>\n",
              "      <td>0</td>\n",
              "      <td>0</td>\n",
              "      <td>0</td>\n",
              "      <td>0</td>\n",
              "      <td>0</td>\n",
              "      <td>0</td>\n",
              "      <td>0</td>\n",
              "      <td>1</td>\n",
              "      <td>0</td>\n",
              "      <td>0</td>\n",
              "    </tr>\n",
              "    <tr>\n",
              "      <th>11049</th>\n",
              "      <td>76495</td>\n",
              "      <td>YARA18301</td>\n",
              "      <td>2018</td>\n",
              "      <td>2018-09-10</td>\n",
              "      <td>2018-10-10</td>\n",
              "      <td>NaN</td>\n",
              "      <td>5900.0</td>\n",
              "      <td>3</td>\n",
              "      <td>0</td>\n",
              "      <td>0</td>\n",
              "      <td>...</td>\n",
              "      <td>0</td>\n",
              "      <td>0</td>\n",
              "      <td>0</td>\n",
              "      <td>0</td>\n",
              "      <td>0</td>\n",
              "      <td>0</td>\n",
              "      <td>0</td>\n",
              "      <td>0</td>\n",
              "      <td>0</td>\n",
              "      <td>0</td>\n",
              "    </tr>\n",
              "    <tr>\n",
              "      <th>11050</th>\n",
              "      <td>76498</td>\n",
              "      <td>GYLZ19101</td>\n",
              "      <td>2019</td>\n",
              "      <td>2019-04-03</td>\n",
              "      <td>2019-04-09</td>\n",
              "      <td>2019-04-12</td>\n",
              "      <td>6151.0</td>\n",
              "      <td>6</td>\n",
              "      <td>0</td>\n",
              "      <td>4</td>\n",
              "      <td>...</td>\n",
              "      <td>0</td>\n",
              "      <td>0</td>\n",
              "      <td>0</td>\n",
              "      <td>0</td>\n",
              "      <td>0</td>\n",
              "      <td>0</td>\n",
              "      <td>0</td>\n",
              "      <td>1</td>\n",
              "      <td>0</td>\n",
              "      <td>0</td>\n",
              "    </tr>\n",
              "    <tr>\n",
              "      <th>11051</th>\n",
              "      <td>76508</td>\n",
              "      <td>SANK19101</td>\n",
              "      <td>2019</td>\n",
              "      <td>2019-04-05</td>\n",
              "      <td>2019-04-28</td>\n",
              "      <td>2019-04-29</td>\n",
              "      <td>6452.0</td>\n",
              "      <td>2</td>\n",
              "      <td>0</td>\n",
              "      <td>1</td>\n",
              "      <td>...</td>\n",
              "      <td>0</td>\n",
              "      <td>0</td>\n",
              "      <td>0</td>\n",
              "      <td>0</td>\n",
              "      <td>0</td>\n",
              "      <td>0</td>\n",
              "      <td>0</td>\n",
              "      <td>1</td>\n",
              "      <td>0</td>\n",
              "      <td>0</td>\n",
              "    </tr>\n",
              "  </tbody>\n",
              "</table>\n",
              "<p>11052 rows × 40 columns</p>\n",
              "</div>\n",
              "      <button class=\"colab-df-convert\" onclick=\"convertToInteractive('df-a841e219-6055-40e6-b619-4608f304c273')\"\n",
              "              title=\"Convert this dataframe to an interactive table.\"\n",
              "              style=\"display:none;\">\n",
              "        \n",
              "  <svg xmlns=\"http://www.w3.org/2000/svg\" height=\"24px\"viewBox=\"0 0 24 24\"\n",
              "       width=\"24px\">\n",
              "    <path d=\"M0 0h24v24H0V0z\" fill=\"none\"/>\n",
              "    <path d=\"M18.56 5.44l.94 2.06.94-2.06 2.06-.94-2.06-.94-.94-2.06-.94 2.06-2.06.94zm-11 1L8.5 8.5l.94-2.06 2.06-.94-2.06-.94L8.5 2.5l-.94 2.06-2.06.94zm10 10l.94 2.06.94-2.06 2.06-.94-2.06-.94-.94-2.06-.94 2.06-2.06.94z\"/><path d=\"M17.41 7.96l-1.37-1.37c-.4-.4-.92-.59-1.43-.59-.52 0-1.04.2-1.43.59L10.3 9.45l-7.72 7.72c-.78.78-.78 2.05 0 2.83L4 21.41c.39.39.9.59 1.41.59.51 0 1.02-.2 1.41-.59l7.78-7.78 2.81-2.81c.8-.78.8-2.07 0-2.86zM5.41 20L4 18.59l7.72-7.72 1.47 1.35L5.41 20z\"/>\n",
              "  </svg>\n",
              "      </button>\n",
              "      \n",
              "  <style>\n",
              "    .colab-df-container {\n",
              "      display:flex;\n",
              "      flex-wrap:wrap;\n",
              "      gap: 12px;\n",
              "    }\n",
              "\n",
              "    .colab-df-convert {\n",
              "      background-color: #E8F0FE;\n",
              "      border: none;\n",
              "      border-radius: 50%;\n",
              "      cursor: pointer;\n",
              "      display: none;\n",
              "      fill: #1967D2;\n",
              "      height: 32px;\n",
              "      padding: 0 0 0 0;\n",
              "      width: 32px;\n",
              "    }\n",
              "\n",
              "    .colab-df-convert:hover {\n",
              "      background-color: #E2EBFA;\n",
              "      box-shadow: 0px 1px 2px rgba(60, 64, 67, 0.3), 0px 1px 3px 1px rgba(60, 64, 67, 0.15);\n",
              "      fill: #174EA6;\n",
              "    }\n",
              "\n",
              "    [theme=dark] .colab-df-convert {\n",
              "      background-color: #3B4455;\n",
              "      fill: #D2E3FC;\n",
              "    }\n",
              "\n",
              "    [theme=dark] .colab-df-convert:hover {\n",
              "      background-color: #434B5C;\n",
              "      box-shadow: 0px 1px 3px 1px rgba(0, 0, 0, 0.15);\n",
              "      filter: drop-shadow(0px 1px 2px rgba(0, 0, 0, 0.3));\n",
              "      fill: #FFFFFF;\n",
              "    }\n",
              "  </style>\n",
              "\n",
              "      <script>\n",
              "        const buttonEl =\n",
              "          document.querySelector('#df-a841e219-6055-40e6-b619-4608f304c273 button.colab-df-convert');\n",
              "        buttonEl.style.display =\n",
              "          google.colab.kernel.accessAllowed ? 'block' : 'none';\n",
              "\n",
              "        async function convertToInteractive(key) {\n",
              "          const element = document.querySelector('#df-a841e219-6055-40e6-b619-4608f304c273');\n",
              "          const dataTable =\n",
              "            await google.colab.kernel.invokeFunction('convertToInteractive',\n",
              "                                                     [key], {});\n",
              "          if (!dataTable) return;\n",
              "\n",
              "          const docLinkHtml = 'Like what you see? Visit the ' +\n",
              "            '<a target=\"_blank\" href=https://colab.research.google.com/notebooks/data_table.ipynb>data table notebook</a>'\n",
              "            + ' to learn more about interactive tables.';\n",
              "          element.innerHTML = '';\n",
              "          dataTable['output_type'] = 'display_data';\n",
              "          await google.colab.output.renderOutput(dataTable, element);\n",
              "          const docLink = document.createElement('div');\n",
              "          docLink.innerHTML = docLinkHtml;\n",
              "          element.appendChild(docLink);\n",
              "        }\n",
              "      </script>\n",
              "    </div>\n",
              "  </div>\n",
              "  "
            ]
          },
          "metadata": {},
          "execution_count": 18
        }
      ]
    },
    {
      "cell_type": "markdown",
      "source": [
        "To  get feeling an overview current dataset I want to show overall procentage of reasons to die in Himalaya based on all 114 years of experience. I am not really curius about exact procentage value but more generic representaion. I am going to represent this using pie chart. "
      ],
      "metadata": {
        "id": "T5dP-yveYa1j"
      }
    },
    {
      "cell_type": "code",
      "source": [
        "reason = dfc['death_cause']\n",
        "sum_reason = reason.value_counts()\n",
        "plt.figure(figsize=(9,9), dpi=80)\n",
        "plt.pie(sum_reason, labels=sum_reason.index.tolist(), counterclock=False, startangle=0)\n",
        "plt.axis('equal')\n",
        "plt.title('Death reason', fontsize=16)\n",
        "plt.show()"
      ],
      "metadata": {
        "colab": {
          "base_uri": "https://localhost:8080/",
          "height": 597
        },
        "id": "MH_YYJH9cae8",
        "outputId": "3b293679-9120-4bcf-8b82-680d020c19e6"
      },
      "execution_count": null,
      "outputs": [
        {
          "output_type": "display_data",
          "data": {
            "text/plain": [
              "<Figure size 720x720 with 1 Axes>"
            ],
            "image/png": "[encoded data removed]"
          },
          "metadata": {}
        }
      ]
    },
    {
      "cell_type": "markdown",
      "source": [
        "Graph 1. Death reason based on 114 years dataframe.\n",
        "\n"
      ],
      "metadata": {
        "id": "LAlSIcR1IL9D"
      }
    },
    {
      "cell_type": "markdown",
      "source": [
        "Avalanches, AMS(Alternated Mind status - caused by trauma or intoxication) and Illnes are the main reasons for death after falling. The same chart and same period of time just on termination reason for expeditions. "
      ],
      "metadata": {
        "id": "Q4pFQArcaBzj"
      }
    },
    {
      "cell_type": "code",
      "source": [
        "termination=dfc['termination_reason']\n",
        "sum_reason = termination.value_counts()\n",
        "plt.figure(figsize=(9,9), dpi=80)\n",
        "plt.pie(sum_reason, labels=sum_reason.index.tolist(), counterclock=False, startangle=0)\n",
        "plt.axis('equal')\n",
        "plt.title('termination_reason', fontsize=16)\n",
        "plt.show()"
      ],
      "metadata": {
        "colab": {
          "base_uri": "https://localhost:8080/",
          "height": 606
        },
        "id": "3zjrhWCC5AcB",
        "outputId": "b4d02bdc-f5af-4eca-a636-22f3b9936860"
      },
      "execution_count": null,
      "outputs": [
        {
          "output_type": "display_data",
          "data": {
            "text/plain": [
              "<Figure size 720x720 with 1 Axes>"
            ],
            "image/png": "[encoded data removed]"
          },
          "metadata": {}
        }
      ]
    },
    {
      "cell_type": "markdown",
      "source": [
        "Graph 2. Termination reason based on 114 years data\n",
        "\n",
        "This column will get useful further in this paper when I will try to narrow down ‘goal 3’."
      ],
      "metadata": {
        "id": "frrsMYdfaIWB"
      }
    },
    {
      "cell_type": "markdown",
      "source": [
        "Getting back to our goals and split data for goal 1 which is before 1910 assign it to dataframe ‘before1910’ and after 1911 assigned to ‘after1910’ . For goal 2 I will split from 1905 to 1960 and assigned to ‘no_harness_rope’ and from 1961 to 2019 assigned to ‘yes_harnes_rope’"
      ],
      "metadata": {
        "id": "VWJXQnJVTcDL"
      }
    },
    {
      "cell_type": "code",
      "source": [
        "#spliting dfc for goal 1.\n",
        "before1910 = dfc[dfc['year_x'] < 1910]\n",
        "after1910 = dfc[dfc['year_x'] > 1911]\n",
        "\n",
        "#spliting dfc for goal 2.\n",
        "no_harness_rope = dfc[dfc['year_x'] < 1960]\n",
        "yes_harness_rope = dfc[dfc['year_x'] > 1961]\n"
      ],
      "metadata": {
        "id": "YWDqsNobf_Nz"
      },
      "execution_count": null,
      "outputs": []
    },
    {
      "cell_type": "markdown",
      "source": [
        "Before in the cleaning part there were columnes dropped as non-important for this review. At the moment as I am thinking to build predictive model I want to drop another column called 'peak_name' as its not numerical. "
      ],
      "metadata": {
        "id": "UOEXI9xK3u0u"
      }
    },
    {
      "cell_type": "code",
      "source": [
        "before1910 = before1910.drop(columns=['peak_name'])\n",
        "after1910 = after1910.drop(columns=['peak_name'])\n",
        "no_harness_rope = no_harness_rope.drop(columns=['peak_name'])\n",
        "yes_harness_rope = yes_harness_rope.drop(columns=['peak_name'])"
      ],
      "metadata": {
        "id": "uGGYzi_S4c8M"
      },
      "execution_count": null,
      "outputs": []
    },
    {
      "cell_type": "markdown",
      "source": [
        "I want to keep exploring to find at least \"apparent effect\" that reasons are changing within the years."
      ],
      "metadata": {
        "id": "0lVBeQKEO8fj"
      }
    },
    {
      "cell_type": "code",
      "source": [
        "reason_before1910 = before1910['death_cause']\n",
        "sum_reason = reason_before1910.value_counts()\n",
        "plt.figure(figsize=(9,9), dpi=80)\n",
        "plt.pie(sum_reason, labels=sum_reason.index.tolist(), counterclock=False, startangle=0)\n",
        "plt.axis('equal')\n",
        "plt.title('Death reason before 1910', fontsize=16)\n",
        "plt.show()"
      ],
      "metadata": {
        "colab": {
          "base_uri": "https://localhost:8080/",
          "height": 597
        },
        "id": "boBVFvs7QZmq",
        "outputId": "4de3fcb1-d4e8-4a07-848f-48220404bda2"
      },
      "execution_count": null,
      "outputs": [
        {
          "output_type": "display_data",
          "data": {
            "text/plain": [
              "<Figure size 720x720 with 1 Axes>"
            ],
            "image/png": "[encoded data removed]"
          },
          "metadata": {}
        }
      ]
    },
    {
      "cell_type": "markdown",
      "source": [
        "Graph 3: Death reason before 1910"
      ],
      "metadata": {
        "id": "yKzT56-1tS4c"
      }
    },
    {
      "cell_type": "markdown",
      "source": [
        "The result is actually schocking it appear that falling was the only reason to die in high montains before 1910. Other reasons like frostbite, ilness or avalanche was not the case in this years. However while looking at amount of records used for this graph its obvious that there was not enough observations."
      ],
      "metadata": {
        "id": "CQkPj0u8SBbM"
      }
    },
    {
      "cell_type": "code",
      "source": [
        "reason_no_harness_rope = no_harness_rope['death_cause']\n",
        "sum_reason = reason_no_harness_rope.value_counts()\n",
        "plt.figure(figsize=(9,9), dpi=80)\n",
        "plt.pie(sum_reason, labels=sum_reason.index.tolist(), counterclock=False, startangle=0)\n",
        "plt.axis('equal')\n",
        "plt.title('Death reason before 1960', fontsize=16)\n",
        "plt.show()"
      ],
      "metadata": {
        "colab": {
          "base_uri": "https://localhost:8080/",
          "height": 597
        },
        "id": "ecXTCV7bQsZV",
        "outputId": "bc749fcb-f2c1-40eb-bff1-b3976934a78e"
      },
      "execution_count": null,
      "outputs": [
        {
          "output_type": "display_data",
          "data": {
            "text/plain": [
              "<Figure size 720x720 with 1 Axes>"
            ],
            "image/png": "[encoded data removed]"
          },
          "metadata": {}
        }
      ]
    },
    {
      "cell_type": "markdown",
      "source": [
        "Graph 4: Death reason before 1960"
      ],
      "metadata": {
        "id": "ZYq8RqgztdzC"
      }
    },
    {
      "cell_type": "markdown",
      "source": [
        "Pie chart for data before 1960 indicate that avalanche and ilness was the biggest reasons to die and falling going into third place. "
      ],
      "metadata": {
        "id": "JrUz9WuAUUuG"
      }
    },
    {
      "cell_type": "code",
      "source": [
        "reason_yes_harness_rope = yes_harness_rope['death_cause']\n",
        "sum_reason = reason_yes_harness_rope.value_counts()\n",
        "plt.figure(figsize=(9,9), dpi=80)\n",
        "plt.pie(sum_reason, labels=sum_reason.index.tolist(), counterclock=False, startangle=0)\n",
        "plt.axis('equal')\n",
        "plt.title('Death reason after 1960', fontsize=16)\n",
        "plt.show()"
      ],
      "metadata": {
        "colab": {
          "base_uri": "https://localhost:8080/",
          "height": 597
        },
        "id": "qBrfAh2psTpQ",
        "outputId": "2a2b62f6-94da-46b6-95e6-507579d778e0"
      },
      "execution_count": null,
      "outputs": [
        {
          "output_type": "display_data",
          "data": {
            "text/plain": [
              "<Figure size 720x720 with 1 Axes>"
            ],
            "image/png": "[encoded data removed]"
          },
          "metadata": {}
        }
      ]
    },
    {
      "cell_type": "markdown",
      "source": [
        "Graph 5: Death reason after 1960"
      ],
      "metadata": {
        "id": "YZf5DHjetir-"
      }
    },
    {
      "cell_type": "markdown",
      "source": [
        "Graphs 5 and 1 are very similar but graphs 3 and 4 indicating that resons were changing along the years . "
      ],
      "metadata": {
        "id": "UYbF-hoNtzbb"
      }
    },
    {
      "cell_type": "code",
      "source": [
        "dfc.dtypes"
      ],
      "metadata": {
        "colab": {
          "base_uri": "https://localhost:8080/"
        },
        "id": "EU1FTj8WNgOz",
        "outputId": "131f4a1f-f65f-4c26-b468-59bc3f236ac3"
      },
      "execution_count": null,
      "outputs": [
        {
          "output_type": "execute_result",
          "data": {
            "text/plain": [
              "Unnamed: 0              int64\n",
              "expedition_id          object\n",
              "year_x                  int64\n",
              "basecamp_date          object\n",
              "highpoint_date         object\n",
              "termination_date       object\n",
              "termination_reason     object\n",
              "highpoint_metres_x    float64\n",
              "members                 int64\n",
              "member_deaths           int64\n",
              "hired_staff             int64\n",
              "hired_staff_deaths      int64\n",
              "height_metres           int64\n",
              "first_ascent_year     float64\n",
              "peak_name              object\n",
              "death_cause            object\n",
              "dtype: object"
            ]
          },
          "metadata": {},
          "execution_count": 26
        }
      ]
    },
    {
      "cell_type": "code",
      "source": [
        "#Analysing distribution on the depandant column\n",
        "dfc.describe().transpose()"
      ],
      "metadata": {
        "colab": {
          "base_uri": "https://localhost:8080/",
          "height": 332
        },
        "id": "sud2EFz3vIZI",
        "outputId": "895daa2d-a34e-4163-8112-c12c16e2c964"
      },
      "execution_count": null,
      "outputs": [
        {
          "output_type": "execute_result",
          "data": {
            "text/plain": [
              "                      count          mean           std     min      25%  \\\n",
              "Unnamed: 0          11052.0  37612.869888  22925.889055     0.0  17692.0   \n",
              "year_x              11052.0   2000.704126     14.979268  1905.0   1993.0   \n",
              "highpoint_metres_x  10639.0   7427.878748   1014.528513  3500.0   6707.0   \n",
              "members             11052.0      6.231904      5.760997     0.0      2.0   \n",
              "member_deaths       11052.0      0.142689      0.501917     0.0      0.0   \n",
              "hired_staff         11052.0      3.023887      5.752706     0.0      0.0   \n",
              "hired_staff_deaths  11052.0      0.057637      0.372365     0.0      0.0   \n",
              "height_metres       11052.0   7827.043612    840.296724  5407.0   7074.0   \n",
              "first_ascent_year   10925.0   1960.335378     27.126778   201.0   1953.0   \n",
              "\n",
              "                        50%       75%      max  \n",
              "Unnamed: 0          35106.0  59000.25  76508.0  \n",
              "year_x               2005.0   2012.00   2019.0  \n",
              "highpoint_metres_x   7350.0   8188.00   8850.0  \n",
              "members                 5.0      8.00     99.0  \n",
              "member_deaths           0.0      0.00     10.0  \n",
              "hired_staff             1.0      4.00     99.0  \n",
              "hired_staff_deaths      0.0      0.00     11.0  \n",
              "height_metres        8163.0   8516.00   8850.0  \n",
              "first_ascent_year    1956.0   1961.00   2019.0  "
            ],
            "text/html": [
              "\n",
              "  <div id=\"df-bda43257-dffb-4e6a-af8d-c047769ef87c\">\n",
              "    <div class=\"colab-df-container\">\n",
              "      <div>\n",
              "<style scoped>\n",
              "    .dataframe tbody tr th:only-of-type {\n",
              "        vertical-align: middle;\n",
              "    }\n",
              "\n",
              "    .dataframe tbody tr th {\n",
              "        vertical-align: top;\n",
              "    }\n",
              "\n",
              "    .dataframe thead th {\n",
              "        text-align: right;\n",
              "    }\n",
              "</style>\n",
              "<table border=\"1\" class=\"dataframe\">\n",
              "  <thead>\n",
              "    <tr style=\"text-align: right;\">\n",
              "      <th></th>\n",
              "      <th>count</th>\n",
              "      <th>mean</th>\n",
              "      <th>std</th>\n",
              "      <th>min</th>\n",
              "      <th>25%</th>\n",
              "      <th>50%</th>\n",
              "      <th>75%</th>\n",
              "      <th>max</th>\n",
              "    </tr>\n",
              "  </thead>\n",
              "  <tbody>\n",
              "    <tr>\n",
              "      <th>Unnamed: 0</th>\n",
              "      <td>11052.0</td>\n",
              "      <td>37612.869888</td>\n",
              "      <td>22925.889055</td>\n",
              "      <td>0.0</td>\n",
              "      <td>17692.0</td>\n",
              "      <td>35106.0</td>\n",
              "      <td>59000.25</td>\n",
              "      <td>76508.0</td>\n",
              "    </tr>\n",
              "    <tr>\n",
              "      <th>year_x</th>\n",
              "      <td>11052.0</td>\n",
              "      <td>2000.704126</td>\n",
              "      <td>14.979268</td>\n",
              "      <td>1905.0</td>\n",
              "      <td>1993.0</td>\n",
              "      <td>2005.0</td>\n",
              "      <td>2012.00</td>\n",
              "      <td>2019.0</td>\n",
              "    </tr>\n",
              "    <tr>\n",
              "      <th>highpoint_metres_x</th>\n",
              "      <td>10639.0</td>\n",
              "      <td>7427.878748</td>\n",
              "      <td>1014.528513</td>\n",
              "      <td>3500.0</td>\n",
              "      <td>6707.0</td>\n",
              "      <td>7350.0</td>\n",
              "      <td>8188.00</td>\n",
              "      <td>8850.0</td>\n",
              "    </tr>\n",
              "    <tr>\n",
              "      <th>members</th>\n",
              "      <td>11052.0</td>\n",
              "      <td>6.231904</td>\n",
              "      <td>5.760997</td>\n",
              "      <td>0.0</td>\n",
              "      <td>2.0</td>\n",
              "      <td>5.0</td>\n",
              "      <td>8.00</td>\n",
              "      <td>99.0</td>\n",
              "    </tr>\n",
              "    <tr>\n",
              "      <th>member_deaths</th>\n",
              "      <td>11052.0</td>\n",
              "      <td>0.142689</td>\n",
              "      <td>0.501917</td>\n",
              "      <td>0.0</td>\n",
              "      <td>0.0</td>\n",
              "      <td>0.0</td>\n",
              "      <td>0.00</td>\n",
              "      <td>10.0</td>\n",
              "    </tr>\n",
              "    <tr>\n",
              "      <th>hired_staff</th>\n",
              "      <td>11052.0</td>\n",
              "      <td>3.023887</td>\n",
              "      <td>5.752706</td>\n",
              "      <td>0.0</td>\n",
              "      <td>0.0</td>\n",
              "      <td>1.0</td>\n",
              "      <td>4.00</td>\n",
              "      <td>99.0</td>\n",
              "    </tr>\n",
              "    <tr>\n",
              "      <th>hired_staff_deaths</th>\n",
              "      <td>11052.0</td>\n",
              "      <td>0.057637</td>\n",
              "      <td>0.372365</td>\n",
              "      <td>0.0</td>\n",
              "      <td>0.0</td>\n",
              "      <td>0.0</td>\n",
              "      <td>0.00</td>\n",
              "      <td>11.0</td>\n",
              "    </tr>\n",
              "    <tr>\n",
              "      <th>height_metres</th>\n",
              "      <td>11052.0</td>\n",
              "      <td>7827.043612</td>\n",
              "      <td>840.296724</td>\n",
              "      <td>5407.0</td>\n",
              "      <td>7074.0</td>\n",
              "      <td>8163.0</td>\n",
              "      <td>8516.00</td>\n",
              "      <td>8850.0</td>\n",
              "    </tr>\n",
              "    <tr>\n",
              "      <th>first_ascent_year</th>\n",
              "      <td>10925.0</td>\n",
              "      <td>1960.335378</td>\n",
              "      <td>27.126778</td>\n",
              "      <td>201.0</td>\n",
              "      <td>1953.0</td>\n",
              "      <td>1956.0</td>\n",
              "      <td>1961.00</td>\n",
              "      <td>2019.0</td>\n",
              "    </tr>\n",
              "  </tbody>\n",
              "</table>\n",
              "</div>\n",
              "      <button class=\"colab-df-convert\" onclick=\"convertToInteractive('df-bda43257-dffb-4e6a-af8d-c047769ef87c')\"\n",
              "              title=\"Convert this dataframe to an interactive table.\"\n",
              "              style=\"display:none;\">\n",
              "        \n",
              "  <svg xmlns=\"http://www.w3.org/2000/svg\" height=\"24px\"viewBox=\"0 0 24 24\"\n",
              "       width=\"24px\">\n",
              "    <path d=\"M0 0h24v24H0V0z\" fill=\"none\"/>\n",
              "    <path d=\"M18.56 5.44l.94 2.06.94-2.06 2.06-.94-2.06-.94-.94-2.06-.94 2.06-2.06.94zm-11 1L8.5 8.5l.94-2.06 2.06-.94-2.06-.94L8.5 2.5l-.94 2.06-2.06.94zm10 10l.94 2.06.94-2.06 2.06-.94-2.06-.94-.94-2.06-.94 2.06-2.06.94z\"/><path d=\"M17.41 7.96l-1.37-1.37c-.4-.4-.92-.59-1.43-.59-.52 0-1.04.2-1.43.59L10.3 9.45l-7.72 7.72c-.78.78-.78 2.05 0 2.83L4 21.41c.39.39.9.59 1.41.59.51 0 1.02-.2 1.41-.59l7.78-7.78 2.81-2.81c.8-.78.8-2.07 0-2.86zM5.41 20L4 18.59l7.72-7.72 1.47 1.35L5.41 20z\"/>\n",
              "  </svg>\n",
              "      </button>\n",
              "      \n",
              "  <style>\n",
              "    .colab-df-container {\n",
              "      display:flex;\n",
              "      flex-wrap:wrap;\n",
              "      gap: 12px;\n",
              "    }\n",
              "\n",
              "    .colab-df-convert {\n",
              "      background-color: #E8F0FE;\n",
              "      border: none;\n",
              "      border-radius: 50%;\n",
              "      cursor: pointer;\n",
              "      display: none;\n",
              "      fill: #1967D2;\n",
              "      height: 32px;\n",
              "      padding: 0 0 0 0;\n",
              "      width: 32px;\n",
              "    }\n",
              "\n",
              "    .colab-df-convert:hover {\n",
              "      background-color: #E2EBFA;\n",
              "      box-shadow: 0px 1px 2px rgba(60, 64, 67, 0.3), 0px 1px 3px 1px rgba(60, 64, 67, 0.15);\n",
              "      fill: #174EA6;\n",
              "    }\n",
              "\n",
              "    [theme=dark] .colab-df-convert {\n",
              "      background-color: #3B4455;\n",
              "      fill: #D2E3FC;\n",
              "    }\n",
              "\n",
              "    [theme=dark] .colab-df-convert:hover {\n",
              "      background-color: #434B5C;\n",
              "      box-shadow: 0px 1px 3px 1px rgba(0, 0, 0, 0.15);\n",
              "      filter: drop-shadow(0px 1px 2px rgba(0, 0, 0, 0.3));\n",
              "      fill: #FFFFFF;\n",
              "    }\n",
              "  </style>\n",
              "\n",
              "      <script>\n",
              "        const buttonEl =\n",
              "          document.querySelector('#df-bda43257-dffb-4e6a-af8d-c047769ef87c button.colab-df-convert');\n",
              "        buttonEl.style.display =\n",
              "          google.colab.kernel.accessAllowed ? 'block' : 'none';\n",
              "\n",
              "        async function convertToInteractive(key) {\n",
              "          const element = document.querySelector('#df-bda43257-dffb-4e6a-af8d-c047769ef87c');\n",
              "          const dataTable =\n",
              "            await google.colab.kernel.invokeFunction('convertToInteractive',\n",
              "                                                     [key], {});\n",
              "          if (!dataTable) return;\n",
              "\n",
              "          const docLinkHtml = 'Like what you see? Visit the ' +\n",
              "            '<a target=\"_blank\" href=https://colab.research.google.com/notebooks/data_table.ipynb>data table notebook</a>'\n",
              "            + ' to learn more about interactive tables.';\n",
              "          element.innerHTML = '';\n",
              "          dataTable['output_type'] = 'display_data';\n",
              "          await google.colab.output.renderOutput(dataTable, element);\n",
              "          const docLink = document.createElement('div');\n",
              "          docLink.innerHTML = docLinkHtml;\n",
              "          element.appendChild(docLink);\n",
              "        }\n",
              "      </script>\n",
              "    </div>\n",
              "  </div>\n",
              "  "
            ]
          },
          "metadata": {},
          "execution_count": 27
        }
      ]
    },
    {
      "cell_type": "markdown",
      "source": [
        "###Analisys\n",
        "\n",
        "We have to move to goal 2 as data are more sufficient compares to goal 1. The only way it can be analyzed is to use grouping method. Groping it into categories it should be possible to measure percentage or frequency. Will try to apply hypothesis testing which is method of statistical inference. I am going to carry this analysis using Chi -squared. Refering to *goal 2*,\n",
        "\n",
        "Zero hypothesis is that climbing has became much saver after development of dynamic rope and harness which translates to probability of falling and die is less then  50%. This hypothesis will be marked as H0 and tried to be proved as correct. \n",
        "\n",
        " H0 = (.50, .50)\n"
      ],
      "metadata": {
        "id": "nerEFxioEpkF"
      }
    },
    {
      "cell_type": "markdown",
      "source": [
        "Creating function that will save yes and no for falls in separate feature."
      ],
      "metadata": {
        "id": "QIiUvCcmkcv1"
      }
    },
    {
      "cell_type": "code",
      "source": [
        "#creating categorise function\n",
        "def categorise(row):\n",
        "  if row['death_cause'] == 'Fall':\n",
        "    return 'yes'\n",
        "  elif row['death_cause'] != 'Fall':\n",
        "    return 'no' "
      ],
      "metadata": {
        "id": "Alvj2b_uBDgS"
      },
      "execution_count": null,
      "outputs": []
    },
    {
      "cell_type": "code",
      "source": [
        "#storing result of categorise function in new feature\n",
        "dfc['falls'] = dfc.apply(lambda row: categorise(row), axis=1)"
      ],
      "metadata": {
        "id": "A7DqVhNPCt1Q"
      },
      "execution_count": null,
      "outputs": []
    },
    {
      "cell_type": "code",
      "source": [
        "#want to simplify my dataframe\n",
        "dfS = dfc[['year_x', 'members', 'hired_staff', 'falls']]\n"
      ],
      "metadata": {
        "id": "FyFx6CtQYrtW"
      },
      "execution_count": null,
      "outputs": []
    },
    {
      "cell_type": "code",
      "source": [
        "#split dataframe again for before and after with new column\n",
        "before = dfS[dfS['year_x'] < 1960]\n",
        "after = dfS[dfS['year_x'] > 1961]"
      ],
      "metadata": {
        "id": "FenukMWpD6zz"
      },
      "execution_count": null,
      "outputs": []
    },
    {
      "cell_type": "code",
      "source": [
        "observed_b4 = before['falls'].value_counts()\n",
        "observed_after = after['falls'].value_counts()"
      ],
      "metadata": {
        "id": "0it9oyV6oGur"
      },
      "execution_count": null,
      "outputs": []
    },
    {
      "cell_type": "code",
      "source": [
        "fallb4 = before['falls']\n",
        "crowd_b4=before['members'] + before['hired_staff']\n",
        "#ploting\n",
        "_ = sns.boxplot(x=fallb4, y=crowd_b4)\n",
        "_ = plt.xlabel('falls before 1960')\n",
        "_ = plt.ylabel('members + hired_staff')\n",
        "plt.show()"
      ],
      "metadata": {
        "colab": {
          "base_uri": "https://localhost:8080/",
          "height": 281
        },
        "id": "feET-cEA9Ogr",
        "outputId": "c10f5b2f-d099-40e7-ab15-9d6122c3a10d"
      },
      "execution_count": null,
      "outputs": [
        {
          "output_type": "display_data",
          "data": {
            "text/plain": [
              "<Figure size 432x288 with 1 Axes>"
            ],
            "image/png": "[encoded data removed]"
          },
          "metadata": {
            "needs_background": "light"
          }
        }
      ]
    },
    {
      "cell_type": "code",
      "source": [
        "fall = after['falls']\n",
        "crowd_after=after['members'] + after['hired_staff']\n",
        "#ploting\n",
        "_ = sns.boxplot(x=fall, y=crowd_after)\n",
        "_ = plt.xlabel('falls after 1960')\n",
        "_ = plt.ylabel('members + hired_staff')\n",
        "plt.show()"
      ],
      "metadata": {
        "colab": {
          "base_uri": "https://localhost:8080/",
          "height": 279
        },
        "id": "WR0ILItNI9A2",
        "outputId": "c96a1d88-2fe8-42d0-b3e0-d464ca52c8eb"
      },
      "execution_count": null,
      "outputs": [
        {
          "output_type": "display_data",
          "data": {
            "text/plain": [
              "<Figure size 432x288 with 1 Axes>"
            ],
            "image/png": "[encoded data removed]"
          },
          "metadata": {
            "needs_background": "light"
          }
        }
      ]
    },
    {
      "cell_type": "code",
      "source": [
        "crowd_b4=before['members'].sum()\n",
        "crowd_after=after['members'].sum()\n",
        "percent_before = (observed_b4[1]/crowd_b4)*100\n",
        "percent_after = (observed_after[1]/crowd_after)*100\n",
        "print('Falls before 1960 %- ', percent_before ,'Falls after 1960 %-', percent_after)"
      ],
      "metadata": {
        "colab": {
          "base_uri": "https://localhost:8080/"
        },
        "id": "9BsV1QZMlBZ2",
        "outputId": "39f59b54-88ae-4561-be26-cbf717a9ccf0"
      },
      "execution_count": null,
      "outputs": [
        {
          "output_type": "stream",
          "name": "stdout",
          "text": [
            "Falls before 1960 %-  0.3703703703703704 Falls after 1960 %- 0.3672971686890317\n"
          ]
        }
      ]
    },
    {
      "cell_type": "markdown",
      "source": [
        "By looking at the frequenties in each set looks like amount of people that tried to reach summits in Nepal has increased about 50 times after 1960. Thats why its usefull to calculate percent from both dataset and compare it.Dictionary with my probabilities. "
      ],
      "metadata": {
        "id": "dkRVEJPBe-qj"
      }
    },
    {
      "cell_type": "code",
      "source": [
        "dict = {'yes': .50,\n",
        "        'no': .50}\n",
        "  \n",
        "dicta = {'yes': .50,\n",
        "         'no': .50}\n",
        "#series from dictionary\n",
        "probabilities_b = pd.Series(dict)\n",
        "probabilities_a = pd.Series(dicta)\n",
        "\n",
        "#I am spliting probabilities as there are different count of results per set"
      ],
      "metadata": {
        "id": "gcoIL9o8mirU"
      },
      "execution_count": null,
      "outputs": []
    },
    {
      "cell_type": "code",
      "source": [
        "#B and N is exact number of observations per set\n",
        "B = 260\n",
        "N = 10754\n",
        "expected_b = B * probabilities_b\n",
        "expected_a = N * probabilities_a\n",
        "print('\\n before \\n', expected_b, '\\n after \\n', expected_a)"
      ],
      "metadata": {
        "colab": {
          "base_uri": "https://localhost:8080/"
        },
        "id": "IVP9aphznPnR",
        "outputId": "6f163cb6-898f-48c5-e57a-b5c68ea1947a"
      },
      "execution_count": null,
      "outputs": [
        {
          "output_type": "stream",
          "name": "stdout",
          "text": [
            "\n",
            " before \n",
            " yes    130.0\n",
            "no     130.0\n",
            "dtype: float64 \n",
            " after \n",
            " yes    5377.0\n",
            "no     5377.0\n",
            "dtype: float64\n"
          ]
        }
      ]
    },
    {
      "cell_type": "code",
      "source": [
        "from scipy.stats import chisquare\n",
        "\n",
        "chisquare(f_obs = observed_b4, f_exp = expected_b)"
      ],
      "metadata": {
        "colab": {
          "base_uri": "https://localhost:8080/"
        },
        "id": "L9fWYEjDxZeu",
        "outputId": "ca566fe6-9d76-447e-8250-aacdd226b722"
      },
      "execution_count": null,
      "outputs": [
        {
          "output_type": "execute_result",
          "data": {
            "text/plain": [
              "Power_divergenceResult(statistic=240.3846153846154, pvalue=3.242219985667723e-54)"
            ]
          },
          "metadata": {},
          "execution_count": 38
        }
      ]
    },
    {
      "cell_type": "code",
      "source": [
        "chisquare(f_obs = observed_after, f_exp = expected_a)"
      ],
      "metadata": {
        "colab": {
          "base_uri": "https://localhost:8080/"
        },
        "id": "bmGBCGgh89Jq",
        "outputId": "7e777ce4-01a2-44d9-beaf-efb291a97658"
      },
      "execution_count": null,
      "outputs": [
        {
          "output_type": "execute_result",
          "data": {
            "text/plain": [
              "Power_divergenceResult(statistic=9788.692579505301, pvalue=0.0)"
            ]
          },
          "metadata": {},
          "execution_count": 39
        }
      ]
    },
    {
      "cell_type": "markdown",
      "source": [
        "The numbers I got are so strange that I decided to use automated statistics using pinguin package. Instaling and import pingouin as pg. This will make dirty work for me using scipy to calculate statistics. "
      ],
      "metadata": {
        "id": "yqWZPMdnA777"
      }
    },
    {
      "cell_type": "code",
      "source": [
        "expected_before, observed_before, stats =pg.chi2_independence(before, x='members', y='falls')\n",
        "stats"
      ],
      "metadata": {
        "colab": {
          "base_uri": "https://localhost:8080/",
          "height": 411
        },
        "id": "biXnqlWKBgVh",
        "outputId": "8cda29e8-090b-4fd4-add3-81510727b022"
      },
      "execution_count": null,
      "outputs": [
        {
          "output_type": "stream",
          "name": "stderr",
          "text": [
            "/usr/local/lib/python3.8/dist-packages/pingouin/contingency.py:150: UserWarning: Low count on observed frequencies.\n",
            "  warnings.warn(\"Low count on {} frequencies.\".format(name))\n",
            "/usr/local/lib/python3.8/dist-packages/pingouin/contingency.py:150: UserWarning: Low count on expected frequencies.\n",
            "  warnings.warn(\"Low count on {} frequencies.\".format(name))\n",
            "/usr/local/lib/python3.8/dist-packages/scipy/stats/_stats_py.py:7416: RuntimeWarning: divide by zero encountered in power\n",
            "  terms = f_obs * ((f_obs / f_exp)**lambda_ - 1)\n",
            "/usr/local/lib/python3.8/dist-packages/scipy/stats/_stats_py.py:7416: RuntimeWarning: invalid value encountered in multiply\n",
            "  terms = f_obs * ((f_obs / f_exp)**lambda_ - 1)\n",
            "/usr/local/lib/python3.8/dist-packages/scipy/stats/_stats_py.py:7413: RuntimeWarning: divide by zero encountered in true_divide\n",
            "  terms = 2.0 * special.xlogy(f_exp, f_exp / f_obs)\n"
          ]
        },
        {
          "output_type": "execute_result",
          "data": {
            "text/plain": [
              "                 test    lambda       chi2   dof      pval    cramer     power\n",
              "0             pearson  1.000000  11.490993  16.0  0.778214  0.210229  0.515164\n",
              "1        cressie-read  0.666667  10.610864  16.0  0.832844  0.202017  0.474687\n",
              "2      log-likelihood  0.000000  11.125642  16.0  0.801664  0.206860  0.498486\n",
              "3       freeman-tukey -0.500000        NaN  16.0       NaN       NaN       NaN\n",
              "4  mod-log-likelihood -1.000000        inf  16.0  0.000000       inf       NaN\n",
              "5              neyman -2.000000        NaN  16.0       NaN       NaN       NaN"
            ],
            "text/html": [
              "\n",
              "  <div id=\"df-3d3c682e-961d-4ec8-9184-c96d3675d1d4\">\n",
              "    <div class=\"colab-df-container\">\n",
              "      <div>\n",
              "<style scoped>\n",
              "    .dataframe tbody tr th:only-of-type {\n",
              "        vertical-align: middle;\n",
              "    }\n",
              "\n",
              "    .dataframe tbody tr th {\n",
              "        vertical-align: top;\n",
              "    }\n",
              "\n",
              "    .dataframe thead th {\n",
              "        text-align: right;\n",
              "    }\n",
              "</style>\n",
              "<table border=\"1\" class=\"dataframe\">\n",
              "  <thead>\n",
              "    <tr style=\"text-align: right;\">\n",
              "      <th></th>\n",
              "      <th>test</th>\n",
              "      <th>lambda</th>\n",
              "      <th>chi2</th>\n",
              "      <th>dof</th>\n",
              "      <th>pval</th>\n",
              "      <th>cramer</th>\n",
              "      <th>power</th>\n",
              "    </tr>\n",
              "  </thead>\n",
              "  <tbody>\n",
              "    <tr>\n",
              "      <th>0</th>\n",
              "      <td>pearson</td>\n",
              "      <td>1.000000</td>\n",
              "      <td>11.490993</td>\n",
              "      <td>16.0</td>\n",
              "      <td>0.778214</td>\n",
              "      <td>0.210229</td>\n",
              "      <td>0.515164</td>\n",
              "    </tr>\n",
              "    <tr>\n",
              "      <th>1</th>\n",
              "      <td>cressie-read</td>\n",
              "      <td>0.666667</td>\n",
              "      <td>10.610864</td>\n",
              "      <td>16.0</td>\n",
              "      <td>0.832844</td>\n",
              "      <td>0.202017</td>\n",
              "      <td>0.474687</td>\n",
              "    </tr>\n",
              "    <tr>\n",
              "      <th>2</th>\n",
              "      <td>log-likelihood</td>\n",
              "      <td>0.000000</td>\n",
              "      <td>11.125642</td>\n",
              "      <td>16.0</td>\n",
              "      <td>0.801664</td>\n",
              "      <td>0.206860</td>\n",
              "      <td>0.498486</td>\n",
              "    </tr>\n",
              "    <tr>\n",
              "      <th>3</th>\n",
              "      <td>freeman-tukey</td>\n",
              "      <td>-0.500000</td>\n",
              "      <td>NaN</td>\n",
              "      <td>16.0</td>\n",
              "      <td>NaN</td>\n",
              "      <td>NaN</td>\n",
              "      <td>NaN</td>\n",
              "    </tr>\n",
              "    <tr>\n",
              "      <th>4</th>\n",
              "      <td>mod-log-likelihood</td>\n",
              "      <td>-1.000000</td>\n",
              "      <td>inf</td>\n",
              "      <td>16.0</td>\n",
              "      <td>0.000000</td>\n",
              "      <td>inf</td>\n",
              "      <td>NaN</td>\n",
              "    </tr>\n",
              "    <tr>\n",
              "      <th>5</th>\n",
              "      <td>neyman</td>\n",
              "      <td>-2.000000</td>\n",
              "      <td>NaN</td>\n",
              "      <td>16.0</td>\n",
              "      <td>NaN</td>\n",
              "      <td>NaN</td>\n",
              "      <td>NaN</td>\n",
              "    </tr>\n",
              "  </tbody>\n",
              "</table>\n",
              "</div>\n",
              "      <button class=\"colab-df-convert\" onclick=\"convertToInteractive('df-3d3c682e-961d-4ec8-9184-c96d3675d1d4')\"\n",
              "              title=\"Convert this dataframe to an interactive table.\"\n",
              "              style=\"display:none;\">\n",
              "        \n",
              "  <svg xmlns=\"http://www.w3.org/2000/svg\" height=\"24px\"viewBox=\"0 0 24 24\"\n",
              "       width=\"24px\">\n",
              "    <path d=\"M0 0h24v24H0V0z\" fill=\"none\"/>\n",
              "    <path d=\"M18.56 5.44l.94 2.06.94-2.06 2.06-.94-2.06-.94-.94-2.06-.94 2.06-2.06.94zm-11 1L8.5 8.5l.94-2.06 2.06-.94-2.06-.94L8.5 2.5l-.94 2.06-2.06.94zm10 10l.94 2.06.94-2.06 2.06-.94-2.06-.94-.94-2.06-.94 2.06-2.06.94z\"/><path d=\"M17.41 7.96l-1.37-1.37c-.4-.4-.92-.59-1.43-.59-.52 0-1.04.2-1.43.59L10.3 9.45l-7.72 7.72c-.78.78-.78 2.05 0 2.83L4 21.41c.39.39.9.59 1.41.59.51 0 1.02-.2 1.41-.59l7.78-7.78 2.81-2.81c.8-.78.8-2.07 0-2.86zM5.41 20L4 18.59l7.72-7.72 1.47 1.35L5.41 20z\"/>\n",
              "  </svg>\n",
              "      </button>\n",
              "      \n",
              "  <style>\n",
              "    .colab-df-container {\n",
              "      display:flex;\n",
              "      flex-wrap:wrap;\n",
              "      gap: 12px;\n",
              "    }\n",
              "\n",
              "    .colab-df-convert {\n",
              "      background-color: #E8F0FE;\n",
              "      border: none;\n",
              "      border-radius: 50%;\n",
              "      cursor: pointer;\n",
              "      display: none;\n",
              "      fill: #1967D2;\n",
              "      height: 32px;\n",
              "      padding: 0 0 0 0;\n",
              "      width: 32px;\n",
              "    }\n",
              "\n",
              "    .colab-df-convert:hover {\n",
              "      background-color: #E2EBFA;\n",
              "      box-shadow: 0px 1px 2px rgba(60, 64, 67, 0.3), 0px 1px 3px 1px rgba(60, 64, 67, 0.15);\n",
              "      fill: #174EA6;\n",
              "    }\n",
              "\n",
              "    [theme=dark] .colab-df-convert {\n",
              "      background-color: #3B4455;\n",
              "      fill: #D2E3FC;\n",
              "    }\n",
              "\n",
              "    [theme=dark] .colab-df-convert:hover {\n",
              "      background-color: #434B5C;\n",
              "      box-shadow: 0px 1px 3px 1px rgba(0, 0, 0, 0.15);\n",
              "      filter: drop-shadow(0px 1px 2px rgba(0, 0, 0, 0.3));\n",
              "      fill: #FFFFFF;\n",
              "    }\n",
              "  </style>\n",
              "\n",
              "      <script>\n",
              "        const buttonEl =\n",
              "          document.querySelector('#df-3d3c682e-961d-4ec8-9184-c96d3675d1d4 button.colab-df-convert');\n",
              "        buttonEl.style.display =\n",
              "          google.colab.kernel.accessAllowed ? 'block' : 'none';\n",
              "\n",
              "        async function convertToInteractive(key) {\n",
              "          const element = document.querySelector('#df-3d3c682e-961d-4ec8-9184-c96d3675d1d4');\n",
              "          const dataTable =\n",
              "            await google.colab.kernel.invokeFunction('convertToInteractive',\n",
              "                                                     [key], {});\n",
              "          if (!dataTable) return;\n",
              "\n",
              "          const docLinkHtml = 'Like what you see? Visit the ' +\n",
              "            '<a target=\"_blank\" href=https://colab.research.google.com/notebooks/data_table.ipynb>data table notebook</a>'\n",
              "            + ' to learn more about interactive tables.';\n",
              "          element.innerHTML = '';\n",
              "          dataTable['output_type'] = 'display_data';\n",
              "          await google.colab.output.renderOutput(dataTable, element);\n",
              "          const docLink = document.createElement('div');\n",
              "          docLink.innerHTML = docLinkHtml;\n",
              "          element.appendChild(docLink);\n",
              "        }\n",
              "      </script>\n",
              "    </div>\n",
              "  </div>\n",
              "  "
            ]
          },
          "metadata": {},
          "execution_count": 41
        }
      ]
    },
    {
      "cell_type": "code",
      "source": [
        "expected_after, observed_afterp, statsa = pg.chi2_independence(after, x='members', y='falls')\n",
        "stats\n"
      ],
      "metadata": {
        "colab": {
          "base_uri": "https://localhost:8080/",
          "height": 411
        },
        "id": "fMRwQMHtCPgG",
        "outputId": "745bf6d7-8bbb-4454-d03b-2d2fe6ed6d40"
      },
      "execution_count": null,
      "outputs": [
        {
          "output_type": "stream",
          "name": "stderr",
          "text": [
            "/usr/local/lib/python3.8/dist-packages/pingouin/contingency.py:150: UserWarning: Low count on observed frequencies.\n",
            "  warnings.warn(\"Low count on {} frequencies.\".format(name))\n",
            "/usr/local/lib/python3.8/dist-packages/pingouin/contingency.py:150: UserWarning: Low count on expected frequencies.\n",
            "  warnings.warn(\"Low count on {} frequencies.\".format(name))\n",
            "/usr/local/lib/python3.8/dist-packages/scipy/stats/_stats_py.py:7416: RuntimeWarning: divide by zero encountered in power\n",
            "  terms = f_obs * ((f_obs / f_exp)**lambda_ - 1)\n",
            "/usr/local/lib/python3.8/dist-packages/scipy/stats/_stats_py.py:7416: RuntimeWarning: invalid value encountered in multiply\n",
            "  terms = f_obs * ((f_obs / f_exp)**lambda_ - 1)\n",
            "/usr/local/lib/python3.8/dist-packages/scipy/stats/_stats_py.py:7413: RuntimeWarning: divide by zero encountered in true_divide\n",
            "  terms = 2.0 * special.xlogy(f_exp, f_exp / f_obs)\n"
          ]
        },
        {
          "output_type": "execute_result",
          "data": {
            "text/plain": [
              "                 test    lambda       chi2   dof      pval    cramer     power\n",
              "0             pearson  1.000000  11.490993  16.0  0.778214  0.210229  0.515164\n",
              "1        cressie-read  0.666667  10.610864  16.0  0.832844  0.202017  0.474687\n",
              "2      log-likelihood  0.000000  11.125642  16.0  0.801664  0.206860  0.498486\n",
              "3       freeman-tukey -0.500000        NaN  16.0       NaN       NaN       NaN\n",
              "4  mod-log-likelihood -1.000000        inf  16.0  0.000000       inf       NaN\n",
              "5              neyman -2.000000        NaN  16.0       NaN       NaN       NaN"
            ],
            "text/html": [
              "\n",
              "  <div id=\"df-69da57b8-2cf9-46aa-bff9-b9f435fd4fe7\">\n",
              "    <div class=\"colab-df-container\">\n",
              "      <div>\n",
              "<style scoped>\n",
              "    .dataframe tbody tr th:only-of-type {\n",
              "        vertical-align: middle;\n",
              "    }\n",
              "\n",
              "    .dataframe tbody tr th {\n",
              "        vertical-align: top;\n",
              "    }\n",
              "\n",
              "    .dataframe thead th {\n",
              "        text-align: right;\n",
              "    }\n",
              "</style>\n",
              "<table border=\"1\" class=\"dataframe\">\n",
              "  <thead>\n",
              "    <tr style=\"text-align: right;\">\n",
              "      <th></th>\n",
              "      <th>test</th>\n",
              "      <th>lambda</th>\n",
              "      <th>chi2</th>\n",
              "      <th>dof</th>\n",
              "      <th>pval</th>\n",
              "      <th>cramer</th>\n",
              "      <th>power</th>\n",
              "    </tr>\n",
              "  </thead>\n",
              "  <tbody>\n",
              "    <tr>\n",
              "      <th>0</th>\n",
              "      <td>pearson</td>\n",
              "      <td>1.000000</td>\n",
              "      <td>11.490993</td>\n",
              "      <td>16.0</td>\n",
              "      <td>0.778214</td>\n",
              "      <td>0.210229</td>\n",
              "      <td>0.515164</td>\n",
              "    </tr>\n",
              "    <tr>\n",
              "      <th>1</th>\n",
              "      <td>cressie-read</td>\n",
              "      <td>0.666667</td>\n",
              "      <td>10.610864</td>\n",
              "      <td>16.0</td>\n",
              "      <td>0.832844</td>\n",
              "      <td>0.202017</td>\n",
              "      <td>0.474687</td>\n",
              "    </tr>\n",
              "    <tr>\n",
              "      <th>2</th>\n",
              "      <td>log-likelihood</td>\n",
              "      <td>0.000000</td>\n",
              "      <td>11.125642</td>\n",
              "      <td>16.0</td>\n",
              "      <td>0.801664</td>\n",
              "      <td>0.206860</td>\n",
              "      <td>0.498486</td>\n",
              "    </tr>\n",
              "    <tr>\n",
              "      <th>3</th>\n",
              "      <td>freeman-tukey</td>\n",
              "      <td>-0.500000</td>\n",
              "      <td>NaN</td>\n",
              "      <td>16.0</td>\n",
              "      <td>NaN</td>\n",
              "      <td>NaN</td>\n",
              "      <td>NaN</td>\n",
              "    </tr>\n",
              "    <tr>\n",
              "      <th>4</th>\n",
              "      <td>mod-log-likelihood</td>\n",
              "      <td>-1.000000</td>\n",
              "      <td>inf</td>\n",
              "      <td>16.0</td>\n",
              "      <td>0.000000</td>\n",
              "      <td>inf</td>\n",
              "      <td>NaN</td>\n",
              "    </tr>\n",
              "    <tr>\n",
              "      <th>5</th>\n",
              "      <td>neyman</td>\n",
              "      <td>-2.000000</td>\n",
              "      <td>NaN</td>\n",
              "      <td>16.0</td>\n",
              "      <td>NaN</td>\n",
              "      <td>NaN</td>\n",
              "      <td>NaN</td>\n",
              "    </tr>\n",
              "  </tbody>\n",
              "</table>\n",
              "</div>\n",
              "      <button class=\"colab-df-convert\" onclick=\"convertToInteractive('df-69da57b8-2cf9-46aa-bff9-b9f435fd4fe7')\"\n",
              "              title=\"Convert this dataframe to an interactive table.\"\n",
              "              style=\"display:none;\">\n",
              "        \n",
              "  <svg xmlns=\"http://www.w3.org/2000/svg\" height=\"24px\"viewBox=\"0 0 24 24\"\n",
              "       width=\"24px\">\n",
              "    <path d=\"M0 0h24v24H0V0z\" fill=\"none\"/>\n",
              "    <path d=\"M18.56 5.44l.94 2.06.94-2.06 2.06-.94-2.06-.94-.94-2.06-.94 2.06-2.06.94zm-11 1L8.5 8.5l.94-2.06 2.06-.94-2.06-.94L8.5 2.5l-.94 2.06-2.06.94zm10 10l.94 2.06.94-2.06 2.06-.94-2.06-.94-.94-2.06-.94 2.06-2.06.94z\"/><path d=\"M17.41 7.96l-1.37-1.37c-.4-.4-.92-.59-1.43-.59-.52 0-1.04.2-1.43.59L10.3 9.45l-7.72 7.72c-.78.78-.78 2.05 0 2.83L4 21.41c.39.39.9.59 1.41.59.51 0 1.02-.2 1.41-.59l7.78-7.78 2.81-2.81c.8-.78.8-2.07 0-2.86zM5.41 20L4 18.59l7.72-7.72 1.47 1.35L5.41 20z\"/>\n",
              "  </svg>\n",
              "      </button>\n",
              "      \n",
              "  <style>\n",
              "    .colab-df-container {\n",
              "      display:flex;\n",
              "      flex-wrap:wrap;\n",
              "      gap: 12px;\n",
              "    }\n",
              "\n",
              "    .colab-df-convert {\n",
              "      background-color: #E8F0FE;\n",
              "      border: none;\n",
              "      border-radius: 50%;\n",
              "      cursor: pointer;\n",
              "      display: none;\n",
              "      fill: #1967D2;\n",
              "      height: 32px;\n",
              "      padding: 0 0 0 0;\n",
              "      width: 32px;\n",
              "    }\n",
              "\n",
              "    .colab-df-convert:hover {\n",
              "      background-color: #E2EBFA;\n",
              "      box-shadow: 0px 1px 2px rgba(60, 64, 67, 0.3), 0px 1px 3px 1px rgba(60, 64, 67, 0.15);\n",
              "      fill: #174EA6;\n",
              "    }\n",
              "\n",
              "    [theme=dark] .colab-df-convert {\n",
              "      background-color: #3B4455;\n",
              "      fill: #D2E3FC;\n",
              "    }\n",
              "\n",
              "    [theme=dark] .colab-df-convert:hover {\n",
              "      background-color: #434B5C;\n",
              "      box-shadow: 0px 1px 3px 1px rgba(0, 0, 0, 0.15);\n",
              "      filter: drop-shadow(0px 1px 2px rgba(0, 0, 0, 0.3));\n",
              "      fill: #FFFFFF;\n",
              "    }\n",
              "  </style>\n",
              "\n",
              "      <script>\n",
              "        const buttonEl =\n",
              "          document.querySelector('#df-69da57b8-2cf9-46aa-bff9-b9f435fd4fe7 button.colab-df-convert');\n",
              "        buttonEl.style.display =\n",
              "          google.colab.kernel.accessAllowed ? 'block' : 'none';\n",
              "\n",
              "        async function convertToInteractive(key) {\n",
              "          const element = document.querySelector('#df-69da57b8-2cf9-46aa-bff9-b9f435fd4fe7');\n",
              "          const dataTable =\n",
              "            await google.colab.kernel.invokeFunction('convertToInteractive',\n",
              "                                                     [key], {});\n",
              "          if (!dataTable) return;\n",
              "\n",
              "          const docLinkHtml = 'Like what you see? Visit the ' +\n",
              "            '<a target=\"_blank\" href=https://colab.research.google.com/notebooks/data_table.ipynb>data table notebook</a>'\n",
              "            + ' to learn more about interactive tables.';\n",
              "          element.innerHTML = '';\n",
              "          dataTable['output_type'] = 'display_data';\n",
              "          await google.colab.output.renderOutput(dataTable, element);\n",
              "          const docLink = document.createElement('div');\n",
              "          docLink.innerHTML = docLinkHtml;\n",
              "          element.appendChild(docLink);\n",
              "        }\n",
              "      </script>\n",
              "    </div>\n",
              "  </div>\n",
              "  "
            ]
          },
          "metadata": {},
          "execution_count": 42
        }
      ]
    },
    {
      "cell_type": "markdown",
      "source": [
        "Goal 3. Whats the percentage of hired_staff that need to be hired for expedition to be sucessful. "
      ],
      "metadata": {
        "id": "ldH_bkaJJSqQ"
      }
    },
    {
      "cell_type": "code",
      "source": [
        "goal3= dfc[['year_x', 'members', 'hired_staff', 'termination_reason']].copy()\n",
        "#only  subset for sucess as a termination reason will be considered \n",
        "G3= goal3[(goal3[\"termination_reason\"] == 'Success (main peak)')] \n",
        "#droping termination reason as not needed anymore\n",
        "G3 = goal3.drop('termination_reason', axis=1)\n",
        "G3"
      ],
      "metadata": {
        "colab": {
          "base_uri": "https://localhost:8080/",
          "height": 424
        },
        "id": "IxSz7ziQJmJU",
        "outputId": "e4928ed2-d64e-47f5-b7fa-c90c3aa423cd"
      },
      "execution_count": null,
      "outputs": [
        {
          "output_type": "execute_result",
          "data": {
            "text/plain": [
              "       year_x  members  hired_staff\n",
              "0        1960       10            9\n",
              "1        1969       10            0\n",
              "2        1973        6            8\n",
              "3        1978        2            0\n",
              "4        1979        3            0\n",
              "...       ...      ...          ...\n",
              "11047    2018        7            5\n",
              "11048    2018        5            0\n",
              "11049    2018        3            0\n",
              "11050    2019        6            4\n",
              "11051    2019        2            1\n",
              "\n",
              "[11052 rows x 3 columns]"
            ],
            "text/html": [
              "\n",
              "  <div id=\"df-a5b6f95a-9930-4fa3-a0fb-92df0b2fc11a\">\n",
              "    <div class=\"colab-df-container\">\n",
              "      <div>\n",
              "<style scoped>\n",
              "    .dataframe tbody tr th:only-of-type {\n",
              "        vertical-align: middle;\n",
              "    }\n",
              "\n",
              "    .dataframe tbody tr th {\n",
              "        vertical-align: top;\n",
              "    }\n",
              "\n",
              "    .dataframe thead th {\n",
              "        text-align: right;\n",
              "    }\n",
              "</style>\n",
              "<table border=\"1\" class=\"dataframe\">\n",
              "  <thead>\n",
              "    <tr style=\"text-align: right;\">\n",
              "      <th></th>\n",
              "      <th>year_x</th>\n",
              "      <th>members</th>\n",
              "      <th>hired_staff</th>\n",
              "    </tr>\n",
              "  </thead>\n",
              "  <tbody>\n",
              "    <tr>\n",
              "      <th>0</th>\n",
              "      <td>1960</td>\n",
              "      <td>10</td>\n",
              "      <td>9</td>\n",
              "    </tr>\n",
              "    <tr>\n",
              "      <th>1</th>\n",
              "      <td>1969</td>\n",
              "      <td>10</td>\n",
              "      <td>0</td>\n",
              "    </tr>\n",
              "    <tr>\n",
              "      <th>2</th>\n",
              "      <td>1973</td>\n",
              "      <td>6</td>\n",
              "      <td>8</td>\n",
              "    </tr>\n",
              "    <tr>\n",
              "      <th>3</th>\n",
              "      <td>1978</td>\n",
              "      <td>2</td>\n",
              "      <td>0</td>\n",
              "    </tr>\n",
              "    <tr>\n",
              "      <th>4</th>\n",
              "      <td>1979</td>\n",
              "      <td>3</td>\n",
              "      <td>0</td>\n",
              "    </tr>\n",
              "    <tr>\n",
              "      <th>...</th>\n",
              "      <td>...</td>\n",
              "      <td>...</td>\n",
              "      <td>...</td>\n",
              "    </tr>\n",
              "    <tr>\n",
              "      <th>11047</th>\n",
              "      <td>2018</td>\n",
              "      <td>7</td>\n",
              "      <td>5</td>\n",
              "    </tr>\n",
              "    <tr>\n",
              "      <th>11048</th>\n",
              "      <td>2018</td>\n",
              "      <td>5</td>\n",
              "      <td>0</td>\n",
              "    </tr>\n",
              "    <tr>\n",
              "      <th>11049</th>\n",
              "      <td>2018</td>\n",
              "      <td>3</td>\n",
              "      <td>0</td>\n",
              "    </tr>\n",
              "    <tr>\n",
              "      <th>11050</th>\n",
              "      <td>2019</td>\n",
              "      <td>6</td>\n",
              "      <td>4</td>\n",
              "    </tr>\n",
              "    <tr>\n",
              "      <th>11051</th>\n",
              "      <td>2019</td>\n",
              "      <td>2</td>\n",
              "      <td>1</td>\n",
              "    </tr>\n",
              "  </tbody>\n",
              "</table>\n",
              "<p>11052 rows × 3 columns</p>\n",
              "</div>\n",
              "      <button class=\"colab-df-convert\" onclick=\"convertToInteractive('df-a5b6f95a-9930-4fa3-a0fb-92df0b2fc11a')\"\n",
              "              title=\"Convert this dataframe to an interactive table.\"\n",
              "              style=\"display:none;\">\n",
              "        \n",
              "  <svg xmlns=\"http://www.w3.org/2000/svg\" height=\"24px\"viewBox=\"0 0 24 24\"\n",
              "       width=\"24px\">\n",
              "    <path d=\"M0 0h24v24H0V0z\" fill=\"none\"/>\n",
              "    <path d=\"M18.56 5.44l.94 2.06.94-2.06 2.06-.94-2.06-.94-.94-2.06-.94 2.06-2.06.94zm-11 1L8.5 8.5l.94-2.06 2.06-.94-2.06-.94L8.5 2.5l-.94 2.06-2.06.94zm10 10l.94 2.06.94-2.06 2.06-.94-2.06-.94-.94-2.06-.94 2.06-2.06.94z\"/><path d=\"M17.41 7.96l-1.37-1.37c-.4-.4-.92-.59-1.43-.59-.52 0-1.04.2-1.43.59L10.3 9.45l-7.72 7.72c-.78.78-.78 2.05 0 2.83L4 21.41c.39.39.9.59 1.41.59.51 0 1.02-.2 1.41-.59l7.78-7.78 2.81-2.81c.8-.78.8-2.07 0-2.86zM5.41 20L4 18.59l7.72-7.72 1.47 1.35L5.41 20z\"/>\n",
              "  </svg>\n",
              "      </button>\n",
              "      \n",
              "  <style>\n",
              "    .colab-df-container {\n",
              "      display:flex;\n",
              "      flex-wrap:wrap;\n",
              "      gap: 12px;\n",
              "    }\n",
              "\n",
              "    .colab-df-convert {\n",
              "      background-color: #E8F0FE;\n",
              "      border: none;\n",
              "      border-radius: 50%;\n",
              "      cursor: pointer;\n",
              "      display: none;\n",
              "      fill: #1967D2;\n",
              "      height: 32px;\n",
              "      padding: 0 0 0 0;\n",
              "      width: 32px;\n",
              "    }\n",
              "\n",
              "    .colab-df-convert:hover {\n",
              "      background-color: #E2EBFA;\n",
              "      box-shadow: 0px 1px 2px rgba(60, 64, 67, 0.3), 0px 1px 3px 1px rgba(60, 64, 67, 0.15);\n",
              "      fill: #174EA6;\n",
              "    }\n",
              "\n",
              "    [theme=dark] .colab-df-convert {\n",
              "      background-color: #3B4455;\n",
              "      fill: #D2E3FC;\n",
              "    }\n",
              "\n",
              "    [theme=dark] .colab-df-convert:hover {\n",
              "      background-color: #434B5C;\n",
              "      box-shadow: 0px 1px 3px 1px rgba(0, 0, 0, 0.15);\n",
              "      filter: drop-shadow(0px 1px 2px rgba(0, 0, 0, 0.3));\n",
              "      fill: #FFFFFF;\n",
              "    }\n",
              "  </style>\n",
              "\n",
              "      <script>\n",
              "        const buttonEl =\n",
              "          document.querySelector('#df-a5b6f95a-9930-4fa3-a0fb-92df0b2fc11a button.colab-df-convert');\n",
              "        buttonEl.style.display =\n",
              "          google.colab.kernel.accessAllowed ? 'block' : 'none';\n",
              "\n",
              "        async function convertToInteractive(key) {\n",
              "          const element = document.querySelector('#df-a5b6f95a-9930-4fa3-a0fb-92df0b2fc11a');\n",
              "          const dataTable =\n",
              "            await google.colab.kernel.invokeFunction('convertToInteractive',\n",
              "                                                     [key], {});\n",
              "          if (!dataTable) return;\n",
              "\n",
              "          const docLinkHtml = 'Like what you see? Visit the ' +\n",
              "            '<a target=\"_blank\" href=https://colab.research.google.com/notebooks/data_table.ipynb>data table notebook</a>'\n",
              "            + ' to learn more about interactive tables.';\n",
              "          element.innerHTML = '';\n",
              "          dataTable['output_type'] = 'display_data';\n",
              "          await google.colab.output.renderOutput(dataTable, element);\n",
              "          const docLink = document.createElement('div');\n",
              "          docLink.innerHTML = docLinkHtml;\n",
              "          element.appendChild(docLink);\n",
              "        }\n",
              "      </script>\n",
              "    </div>\n",
              "  </div>\n",
              "  "
            ]
          },
          "metadata": {},
          "execution_count": 13
        }
      ]
    },
    {
      "cell_type": "code",
      "source": [
        "# Using DataFrame.transform() method. I want to get percant of hired staff for amount of members\n",
        "G3['percent_hired'] = round(G3['hired_staff']/G3['members']*100)\n",
        "G3"
      ],
      "metadata": {
        "colab": {
          "base_uri": "https://localhost:8080/",
          "height": 424
        },
        "id": "mc0GfCUT4b67",
        "outputId": "68a6d994-f3ad-4251-ae49-03e56a1d3a8d"
      },
      "execution_count": null,
      "outputs": [
        {
          "output_type": "execute_result",
          "data": {
            "text/plain": [
              "       year_x  members  hired_staff  percent_hired\n",
              "0        1960       10            9           90.0\n",
              "1        1969       10            0            0.0\n",
              "2        1973        6            8          133.0\n",
              "3        1978        2            0            0.0\n",
              "4        1979        3            0            0.0\n",
              "...       ...      ...          ...            ...\n",
              "11047    2018        7            5           71.0\n",
              "11048    2018        5            0            0.0\n",
              "11049    2018        3            0            0.0\n",
              "11050    2019        6            4           67.0\n",
              "11051    2019        2            1           50.0\n",
              "\n",
              "[11052 rows x 4 columns]"
            ],
            "text/html": [
              "\n",
              "  <div id=\"df-da2ea19f-b6c5-43b6-8b12-9c100f31470f\">\n",
              "    <div class=\"colab-df-container\">\n",
              "      <div>\n",
              "<style scoped>\n",
              "    .dataframe tbody tr th:only-of-type {\n",
              "        vertical-align: middle;\n",
              "    }\n",
              "\n",
              "    .dataframe tbody tr th {\n",
              "        vertical-align: top;\n",
              "    }\n",
              "\n",
              "    .dataframe thead th {\n",
              "        text-align: right;\n",
              "    }\n",
              "</style>\n",
              "<table border=\"1\" class=\"dataframe\">\n",
              "  <thead>\n",
              "    <tr style=\"text-align: right;\">\n",
              "      <th></th>\n",
              "      <th>year_x</th>\n",
              "      <th>members</th>\n",
              "      <th>hired_staff</th>\n",
              "      <th>percent_hired</th>\n",
              "    </tr>\n",
              "  </thead>\n",
              "  <tbody>\n",
              "    <tr>\n",
              "      <th>0</th>\n",
              "      <td>1960</td>\n",
              "      <td>10</td>\n",
              "      <td>9</td>\n",
              "      <td>90.0</td>\n",
              "    </tr>\n",
              "    <tr>\n",
              "      <th>1</th>\n",
              "      <td>1969</td>\n",
              "      <td>10</td>\n",
              "      <td>0</td>\n",
              "      <td>0.0</td>\n",
              "    </tr>\n",
              "    <tr>\n",
              "      <th>2</th>\n",
              "      <td>1973</td>\n",
              "      <td>6</td>\n",
              "      <td>8</td>\n",
              "      <td>133.0</td>\n",
              "    </tr>\n",
              "    <tr>\n",
              "      <th>3</th>\n",
              "      <td>1978</td>\n",
              "      <td>2</td>\n",
              "      <td>0</td>\n",
              "      <td>0.0</td>\n",
              "    </tr>\n",
              "    <tr>\n",
              "      <th>4</th>\n",
              "      <td>1979</td>\n",
              "      <td>3</td>\n",
              "      <td>0</td>\n",
              "      <td>0.0</td>\n",
              "    </tr>\n",
              "    <tr>\n",
              "      <th>...</th>\n",
              "      <td>...</td>\n",
              "      <td>...</td>\n",
              "      <td>...</td>\n",
              "      <td>...</td>\n",
              "    </tr>\n",
              "    <tr>\n",
              "      <th>11047</th>\n",
              "      <td>2018</td>\n",
              "      <td>7</td>\n",
              "      <td>5</td>\n",
              "      <td>71.0</td>\n",
              "    </tr>\n",
              "    <tr>\n",
              "      <th>11048</th>\n",
              "      <td>2018</td>\n",
              "      <td>5</td>\n",
              "      <td>0</td>\n",
              "      <td>0.0</td>\n",
              "    </tr>\n",
              "    <tr>\n",
              "      <th>11049</th>\n",
              "      <td>2018</td>\n",
              "      <td>3</td>\n",
              "      <td>0</td>\n",
              "      <td>0.0</td>\n",
              "    </tr>\n",
              "    <tr>\n",
              "      <th>11050</th>\n",
              "      <td>2019</td>\n",
              "      <td>6</td>\n",
              "      <td>4</td>\n",
              "      <td>67.0</td>\n",
              "    </tr>\n",
              "    <tr>\n",
              "      <th>11051</th>\n",
              "      <td>2019</td>\n",
              "      <td>2</td>\n",
              "      <td>1</td>\n",
              "      <td>50.0</td>\n",
              "    </tr>\n",
              "  </tbody>\n",
              "</table>\n",
              "<p>11052 rows × 4 columns</p>\n",
              "</div>\n",
              "      <button class=\"colab-df-convert\" onclick=\"convertToInteractive('df-da2ea19f-b6c5-43b6-8b12-9c100f31470f')\"\n",
              "              title=\"Convert this dataframe to an interactive table.\"\n",
              "              style=\"display:none;\">\n",
              "        \n",
              "  <svg xmlns=\"http://www.w3.org/2000/svg\" height=\"24px\"viewBox=\"0 0 24 24\"\n",
              "       width=\"24px\">\n",
              "    <path d=\"M0 0h24v24H0V0z\" fill=\"none\"/>\n",
              "    <path d=\"M18.56 5.44l.94 2.06.94-2.06 2.06-.94-2.06-.94-.94-2.06-.94 2.06-2.06.94zm-11 1L8.5 8.5l.94-2.06 2.06-.94-2.06-.94L8.5 2.5l-.94 2.06-2.06.94zm10 10l.94 2.06.94-2.06 2.06-.94-2.06-.94-.94-2.06-.94 2.06-2.06.94z\"/><path d=\"M17.41 7.96l-1.37-1.37c-.4-.4-.92-.59-1.43-.59-.52 0-1.04.2-1.43.59L10.3 9.45l-7.72 7.72c-.78.78-.78 2.05 0 2.83L4 21.41c.39.39.9.59 1.41.59.51 0 1.02-.2 1.41-.59l7.78-7.78 2.81-2.81c.8-.78.8-2.07 0-2.86zM5.41 20L4 18.59l7.72-7.72 1.47 1.35L5.41 20z\"/>\n",
              "  </svg>\n",
              "      </button>\n",
              "      \n",
              "  <style>\n",
              "    .colab-df-container {\n",
              "      display:flex;\n",
              "      flex-wrap:wrap;\n",
              "      gap: 12px;\n",
              "    }\n",
              "\n",
              "    .colab-df-convert {\n",
              "      background-color: #E8F0FE;\n",
              "      border: none;\n",
              "      border-radius: 50%;\n",
              "      cursor: pointer;\n",
              "      display: none;\n",
              "      fill: #1967D2;\n",
              "      height: 32px;\n",
              "      padding: 0 0 0 0;\n",
              "      width: 32px;\n",
              "    }\n",
              "\n",
              "    .colab-df-convert:hover {\n",
              "      background-color: #E2EBFA;\n",
              "      box-shadow: 0px 1px 2px rgba(60, 64, 67, 0.3), 0px 1px 3px 1px rgba(60, 64, 67, 0.15);\n",
              "      fill: #174EA6;\n",
              "    }\n",
              "\n",
              "    [theme=dark] .colab-df-convert {\n",
              "      background-color: #3B4455;\n",
              "      fill: #D2E3FC;\n",
              "    }\n",
              "\n",
              "    [theme=dark] .colab-df-convert:hover {\n",
              "      background-color: #434B5C;\n",
              "      box-shadow: 0px 1px 3px 1px rgba(0, 0, 0, 0.15);\n",
              "      filter: drop-shadow(0px 1px 2px rgba(0, 0, 0, 0.3));\n",
              "      fill: #FFFFFF;\n",
              "    }\n",
              "  </style>\n",
              "\n",
              "      <script>\n",
              "        const buttonEl =\n",
              "          document.querySelector('#df-da2ea19f-b6c5-43b6-8b12-9c100f31470f button.colab-df-convert');\n",
              "        buttonEl.style.display =\n",
              "          google.colab.kernel.accessAllowed ? 'block' : 'none';\n",
              "\n",
              "        async function convertToInteractive(key) {\n",
              "          const element = document.querySelector('#df-da2ea19f-b6c5-43b6-8b12-9c100f31470f');\n",
              "          const dataTable =\n",
              "            await google.colab.kernel.invokeFunction('convertToInteractive',\n",
              "                                                     [key], {});\n",
              "          if (!dataTable) return;\n",
              "\n",
              "          const docLinkHtml = 'Like what you see? Visit the ' +\n",
              "            '<a target=\"_blank\" href=https://colab.research.google.com/notebooks/data_table.ipynb>data table notebook</a>'\n",
              "            + ' to learn more about interactive tables.';\n",
              "          element.innerHTML = '';\n",
              "          dataTable['output_type'] = 'display_data';\n",
              "          await google.colab.output.renderOutput(dataTable, element);\n",
              "          const docLink = document.createElement('div');\n",
              "          docLink.innerHTML = docLinkHtml;\n",
              "          element.appendChild(docLink);\n",
              "        }\n",
              "      </script>\n",
              "    </div>\n",
              "  </div>\n",
              "  "
            ]
          },
          "metadata": {},
          "execution_count": 14
        }
      ]
    },
    {
      "cell_type": "code",
      "source": [
        "G3.describe().transpose()"
      ],
      "metadata": {
        "colab": {
          "base_uri": "https://localhost:8080/",
          "height": 175
        },
        "id": "pi3anUiksW_E",
        "outputId": "c62e7995-3f86-452f-eef1-976995991ae9"
      },
      "execution_count": null,
      "outputs": [
        {
          "output_type": "execute_result",
          "data": {
            "text/plain": [
              "                 count         mean        std     min     25%     50%  \\\n",
              "year_x         11052.0  2000.704126  14.979268  1905.0  1993.0  2005.0   \n",
              "members        11052.0     6.231904   5.760997     0.0     2.0     5.0   \n",
              "hired_staff    11052.0     3.023887   5.752706     0.0     0.0     1.0   \n",
              "percent_hired  11026.0          inf        NaN     0.0     0.0    33.0   \n",
              "\n",
              "                  75%     max  \n",
              "year_x         2012.0  2019.0  \n",
              "members           8.0    99.0  \n",
              "hired_staff       4.0    99.0  \n",
              "percent_hired    83.0     inf  "
            ],
            "text/html": [
              "\n",
              "  <div id=\"df-2cd761de-b267-4518-80de-56af58c4a160\">\n",
              "    <div class=\"colab-df-container\">\n",
              "      <div>\n",
              "<style scoped>\n",
              "    .dataframe tbody tr th:only-of-type {\n",
              "        vertical-align: middle;\n",
              "    }\n",
              "\n",
              "    .dataframe tbody tr th {\n",
              "        vertical-align: top;\n",
              "    }\n",
              "\n",
              "    .dataframe thead th {\n",
              "        text-align: right;\n",
              "    }\n",
              "</style>\n",
              "<table border=\"1\" class=\"dataframe\">\n",
              "  <thead>\n",
              "    <tr style=\"text-align: right;\">\n",
              "      <th></th>\n",
              "      <th>count</th>\n",
              "      <th>mean</th>\n",
              "      <th>std</th>\n",
              "      <th>min</th>\n",
              "      <th>25%</th>\n",
              "      <th>50%</th>\n",
              "      <th>75%</th>\n",
              "      <th>max</th>\n",
              "    </tr>\n",
              "  </thead>\n",
              "  <tbody>\n",
              "    <tr>\n",
              "      <th>year_x</th>\n",
              "      <td>11052.0</td>\n",
              "      <td>2000.704126</td>\n",
              "      <td>14.979268</td>\n",
              "      <td>1905.0</td>\n",
              "      <td>1993.0</td>\n",
              "      <td>2005.0</td>\n",
              "      <td>2012.0</td>\n",
              "      <td>2019.0</td>\n",
              "    </tr>\n",
              "    <tr>\n",
              "      <th>members</th>\n",
              "      <td>11052.0</td>\n",
              "      <td>6.231904</td>\n",
              "      <td>5.760997</td>\n",
              "      <td>0.0</td>\n",
              "      <td>2.0</td>\n",
              "      <td>5.0</td>\n",
              "      <td>8.0</td>\n",
              "      <td>99.0</td>\n",
              "    </tr>\n",
              "    <tr>\n",
              "      <th>hired_staff</th>\n",
              "      <td>11052.0</td>\n",
              "      <td>3.023887</td>\n",
              "      <td>5.752706</td>\n",
              "      <td>0.0</td>\n",
              "      <td>0.0</td>\n",
              "      <td>1.0</td>\n",
              "      <td>4.0</td>\n",
              "      <td>99.0</td>\n",
              "    </tr>\n",
              "    <tr>\n",
              "      <th>percent_hired</th>\n",
              "      <td>11026.0</td>\n",
              "      <td>inf</td>\n",
              "      <td>NaN</td>\n",
              "      <td>0.0</td>\n",
              "      <td>0.0</td>\n",
              "      <td>33.0</td>\n",
              "      <td>83.0</td>\n",
              "      <td>inf</td>\n",
              "    </tr>\n",
              "  </tbody>\n",
              "</table>\n",
              "</div>\n",
              "      <button class=\"colab-df-convert\" onclick=\"convertToInteractive('df-2cd761de-b267-4518-80de-56af58c4a160')\"\n",
              "              title=\"Convert this dataframe to an interactive table.\"\n",
              "              style=\"display:none;\">\n",
              "        \n",
              "  <svg xmlns=\"http://www.w3.org/2000/svg\" height=\"24px\"viewBox=\"0 0 24 24\"\n",
              "       width=\"24px\">\n",
              "    <path d=\"M0 0h24v24H0V0z\" fill=\"none\"/>\n",
              "    <path d=\"M18.56 5.44l.94 2.06.94-2.06 2.06-.94-2.06-.94-.94-2.06-.94 2.06-2.06.94zm-11 1L8.5 8.5l.94-2.06 2.06-.94-2.06-.94L8.5 2.5l-.94 2.06-2.06.94zm10 10l.94 2.06.94-2.06 2.06-.94-2.06-.94-.94-2.06-.94 2.06-2.06.94z\"/><path d=\"M17.41 7.96l-1.37-1.37c-.4-.4-.92-.59-1.43-.59-.52 0-1.04.2-1.43.59L10.3 9.45l-7.72 7.72c-.78.78-.78 2.05 0 2.83L4 21.41c.39.39.9.59 1.41.59.51 0 1.02-.2 1.41-.59l7.78-7.78 2.81-2.81c.8-.78.8-2.07 0-2.86zM5.41 20L4 18.59l7.72-7.72 1.47 1.35L5.41 20z\"/>\n",
              "  </svg>\n",
              "      </button>\n",
              "      \n",
              "  <style>\n",
              "    .colab-df-container {\n",
              "      display:flex;\n",
              "      flex-wrap:wrap;\n",
              "      gap: 12px;\n",
              "    }\n",
              "\n",
              "    .colab-df-convert {\n",
              "      background-color: #E8F0FE;\n",
              "      border: none;\n",
              "      border-radius: 50%;\n",
              "      cursor: pointer;\n",
              "      display: none;\n",
              "      fill: #1967D2;\n",
              "      height: 32px;\n",
              "      padding: 0 0 0 0;\n",
              "      width: 32px;\n",
              "    }\n",
              "\n",
              "    .colab-df-convert:hover {\n",
              "      background-color: #E2EBFA;\n",
              "      box-shadow: 0px 1px 2px rgba(60, 64, 67, 0.3), 0px 1px 3px 1px rgba(60, 64, 67, 0.15);\n",
              "      fill: #174EA6;\n",
              "    }\n",
              "\n",
              "    [theme=dark] .colab-df-convert {\n",
              "      background-color: #3B4455;\n",
              "      fill: #D2E3FC;\n",
              "    }\n",
              "\n",
              "    [theme=dark] .colab-df-convert:hover {\n",
              "      background-color: #434B5C;\n",
              "      box-shadow: 0px 1px 3px 1px rgba(0, 0, 0, 0.15);\n",
              "      filter: drop-shadow(0px 1px 2px rgba(0, 0, 0, 0.3));\n",
              "      fill: #FFFFFF;\n",
              "    }\n",
              "  </style>\n",
              "\n",
              "      <script>\n",
              "        const buttonEl =\n",
              "          document.querySelector('#df-2cd761de-b267-4518-80de-56af58c4a160 button.colab-df-convert');\n",
              "        buttonEl.style.display =\n",
              "          google.colab.kernel.accessAllowed ? 'block' : 'none';\n",
              "\n",
              "        async function convertToInteractive(key) {\n",
              "          const element = document.querySelector('#df-2cd761de-b267-4518-80de-56af58c4a160');\n",
              "          const dataTable =\n",
              "            await google.colab.kernel.invokeFunction('convertToInteractive',\n",
              "                                                     [key], {});\n",
              "          if (!dataTable) return;\n",
              "\n",
              "          const docLinkHtml = 'Like what you see? Visit the ' +\n",
              "            '<a target=\"_blank\" href=https://colab.research.google.com/notebooks/data_table.ipynb>data table notebook</a>'\n",
              "            + ' to learn more about interactive tables.';\n",
              "          element.innerHTML = '';\n",
              "          dataTable['output_type'] = 'display_data';\n",
              "          await google.colab.output.renderOutput(dataTable, element);\n",
              "          const docLink = document.createElement('div');\n",
              "          docLink.innerHTML = docLinkHtml;\n",
              "          element.appendChild(docLink);\n",
              "        }\n",
              "      </script>\n",
              "    </div>\n",
              "  </div>\n",
              "  "
            ]
          },
          "metadata": {},
          "execution_count": 15
        }
      ]
    },
    {
      "cell_type": "markdown",
      "source": [
        "Data contain some inf and NaN values"
      ],
      "metadata": {
        "id": "DVBhZhLZ9f9-"
      }
    },
    {
      "cell_type": "code",
      "source": [
        "#this code block is to fix pandas error about infinity values I am getting in results of splitting\n",
        "# Replacing infinite values data with nan\n",
        "G3.replace([np.inf, -np.inf], np.nan, inplace=True)\n",
        "# Drop rows with NaN\n",
        "G3.dropna(inplace=True)"
      ],
      "metadata": {
        "id": "ahg82v83A99m"
      },
      "execution_count": null,
      "outputs": []
    },
    {
      "cell_type": "code",
      "source": [
        "G3 = G3.dropna()\n",
        "G3.describe().transpose()"
      ],
      "metadata": {
        "colab": {
          "base_uri": "https://localhost:8080/",
          "height": 175
        },
        "id": "geCzEwV09aaE",
        "outputId": "800ffff3-1bf5-4675-ebac-8a118effe3d3"
      },
      "execution_count": null,
      "outputs": [
        {
          "output_type": "execute_result",
          "data": {
            "text/plain": [
              "                 count         mean        std     min     25%     50%  \\\n",
              "year_x         11013.0  2000.759648  14.920168  1905.0  1993.0  2005.0   \n",
              "members        11013.0     6.253973   5.759219     1.0     2.0     5.0   \n",
              "hired_staff    11013.0     3.026060   5.757097     0.0     0.0     1.0   \n",
              "percent_hired  11013.0    51.618814  65.096537     0.0     0.0    33.0   \n",
              "\n",
              "                  75%     max  \n",
              "year_x         2012.0  2019.0  \n",
              "members           8.0    99.0  \n",
              "hired_staff       4.0    99.0  \n",
              "percent_hired    83.0  1100.0  "
            ],
            "text/html": [
              "\n",
              "  <div id=\"df-21081be4-2f62-4f84-b5ad-b511022bafa0\">\n",
              "    <div class=\"colab-df-container\">\n",
              "      <div>\n",
              "<style scoped>\n",
              "    .dataframe tbody tr th:only-of-type {\n",
              "        vertical-align: middle;\n",
              "    }\n",
              "\n",
              "    .dataframe tbody tr th {\n",
              "        vertical-align: top;\n",
              "    }\n",
              "\n",
              "    .dataframe thead th {\n",
              "        text-align: right;\n",
              "    }\n",
              "</style>\n",
              "<table border=\"1\" class=\"dataframe\">\n",
              "  <thead>\n",
              "    <tr style=\"text-align: right;\">\n",
              "      <th></th>\n",
              "      <th>count</th>\n",
              "      <th>mean</th>\n",
              "      <th>std</th>\n",
              "      <th>min</th>\n",
              "      <th>25%</th>\n",
              "      <th>50%</th>\n",
              "      <th>75%</th>\n",
              "      <th>max</th>\n",
              "    </tr>\n",
              "  </thead>\n",
              "  <tbody>\n",
              "    <tr>\n",
              "      <th>year_x</th>\n",
              "      <td>11013.0</td>\n",
              "      <td>2000.759648</td>\n",
              "      <td>14.920168</td>\n",
              "      <td>1905.0</td>\n",
              "      <td>1993.0</td>\n",
              "      <td>2005.0</td>\n",
              "      <td>2012.0</td>\n",
              "      <td>2019.0</td>\n",
              "    </tr>\n",
              "    <tr>\n",
              "      <th>members</th>\n",
              "      <td>11013.0</td>\n",
              "      <td>6.253973</td>\n",
              "      <td>5.759219</td>\n",
              "      <td>1.0</td>\n",
              "      <td>2.0</td>\n",
              "      <td>5.0</td>\n",
              "      <td>8.0</td>\n",
              "      <td>99.0</td>\n",
              "    </tr>\n",
              "    <tr>\n",
              "      <th>hired_staff</th>\n",
              "      <td>11013.0</td>\n",
              "      <td>3.026060</td>\n",
              "      <td>5.757097</td>\n",
              "      <td>0.0</td>\n",
              "      <td>0.0</td>\n",
              "      <td>1.0</td>\n",
              "      <td>4.0</td>\n",
              "      <td>99.0</td>\n",
              "    </tr>\n",
              "    <tr>\n",
              "      <th>percent_hired</th>\n",
              "      <td>11013.0</td>\n",
              "      <td>51.618814</td>\n",
              "      <td>65.096537</td>\n",
              "      <td>0.0</td>\n",
              "      <td>0.0</td>\n",
              "      <td>33.0</td>\n",
              "      <td>83.0</td>\n",
              "      <td>1100.0</td>\n",
              "    </tr>\n",
              "  </tbody>\n",
              "</table>\n",
              "</div>\n",
              "      <button class=\"colab-df-convert\" onclick=\"convertToInteractive('df-21081be4-2f62-4f84-b5ad-b511022bafa0')\"\n",
              "              title=\"Convert this dataframe to an interactive table.\"\n",
              "              style=\"display:none;\">\n",
              "        \n",
              "  <svg xmlns=\"http://www.w3.org/2000/svg\" height=\"24px\"viewBox=\"0 0 24 24\"\n",
              "       width=\"24px\">\n",
              "    <path d=\"M0 0h24v24H0V0z\" fill=\"none\"/>\n",
              "    <path d=\"M18.56 5.44l.94 2.06.94-2.06 2.06-.94-2.06-.94-.94-2.06-.94 2.06-2.06.94zm-11 1L8.5 8.5l.94-2.06 2.06-.94-2.06-.94L8.5 2.5l-.94 2.06-2.06.94zm10 10l.94 2.06.94-2.06 2.06-.94-2.06-.94-.94-2.06-.94 2.06-2.06.94z\"/><path d=\"M17.41 7.96l-1.37-1.37c-.4-.4-.92-.59-1.43-.59-.52 0-1.04.2-1.43.59L10.3 9.45l-7.72 7.72c-.78.78-.78 2.05 0 2.83L4 21.41c.39.39.9.59 1.41.59.51 0 1.02-.2 1.41-.59l7.78-7.78 2.81-2.81c.8-.78.8-2.07 0-2.86zM5.41 20L4 18.59l7.72-7.72 1.47 1.35L5.41 20z\"/>\n",
              "  </svg>\n",
              "      </button>\n",
              "      \n",
              "  <style>\n",
              "    .colab-df-container {\n",
              "      display:flex;\n",
              "      flex-wrap:wrap;\n",
              "      gap: 12px;\n",
              "    }\n",
              "\n",
              "    .colab-df-convert {\n",
              "      background-color: #E8F0FE;\n",
              "      border: none;\n",
              "      border-radius: 50%;\n",
              "      cursor: pointer;\n",
              "      display: none;\n",
              "      fill: #1967D2;\n",
              "      height: 32px;\n",
              "      padding: 0 0 0 0;\n",
              "      width: 32px;\n",
              "    }\n",
              "\n",
              "    .colab-df-convert:hover {\n",
              "      background-color: #E2EBFA;\n",
              "      box-shadow: 0px 1px 2px rgba(60, 64, 67, 0.3), 0px 1px 3px 1px rgba(60, 64, 67, 0.15);\n",
              "      fill: #174EA6;\n",
              "    }\n",
              "\n",
              "    [theme=dark] .colab-df-convert {\n",
              "      background-color: #3B4455;\n",
              "      fill: #D2E3FC;\n",
              "    }\n",
              "\n",
              "    [theme=dark] .colab-df-convert:hover {\n",
              "      background-color: #434B5C;\n",
              "      box-shadow: 0px 1px 3px 1px rgba(0, 0, 0, 0.15);\n",
              "      filter: drop-shadow(0px 1px 2px rgba(0, 0, 0, 0.3));\n",
              "      fill: #FFFFFF;\n",
              "    }\n",
              "  </style>\n",
              "\n",
              "      <script>\n",
              "        const buttonEl =\n",
              "          document.querySelector('#df-21081be4-2f62-4f84-b5ad-b511022bafa0 button.colab-df-convert');\n",
              "        buttonEl.style.display =\n",
              "          google.colab.kernel.accessAllowed ? 'block' : 'none';\n",
              "\n",
              "        async function convertToInteractive(key) {\n",
              "          const element = document.querySelector('#df-21081be4-2f62-4f84-b5ad-b511022bafa0');\n",
              "          const dataTable =\n",
              "            await google.colab.kernel.invokeFunction('convertToInteractive',\n",
              "                                                     [key], {});\n",
              "          if (!dataTable) return;\n",
              "\n",
              "          const docLinkHtml = 'Like what you see? Visit the ' +\n",
              "            '<a target=\"_blank\" href=https://colab.research.google.com/notebooks/data_table.ipynb>data table notebook</a>'\n",
              "            + ' to learn more about interactive tables.';\n",
              "          element.innerHTML = '';\n",
              "          dataTable['output_type'] = 'display_data';\n",
              "          await google.colab.output.renderOutput(dataTable, element);\n",
              "          const docLink = document.createElement('div');\n",
              "          docLink.innerHTML = docLinkHtml;\n",
              "          element.appendChild(docLink);\n",
              "        }\n",
              "      </script>\n",
              "    </div>\n",
              "  </div>\n",
              "  "
            ]
          },
          "metadata": {},
          "execution_count": 17
        }
      ]
    },
    {
      "cell_type": "code",
      "source": [
        "# Correlation analysis using scatter matrix function\n",
        "G3_at = G3.iloc[:, 0:5]\n",
        "#ploting histogram\n",
        "sns.pairplot(G3_at)"
      ],
      "metadata": {
        "colab": {
          "base_uri": "https://localhost:8080/",
          "height": 743
        },
        "id": "FhS2prdwucNn",
        "outputId": "73af52e2-ec88-4bdd-fd72-99b565877b4e"
      },
      "execution_count": null,
      "outputs": [
        {
          "output_type": "execute_result",
          "data": {
            "text/plain": [
              "<seaborn.axisgrid.PairGrid at 0x7fcc02e80910>"
            ]
          },
          "metadata": {},
          "execution_count": 18
        },
        {
          "output_type": "display_data",
          "data": {
            "text/plain": [
              "<Figure size 720x720 with 20 Axes>"
            ],
            "image/png": "[encoded data removed]"
          },
          "metadata": {
            "needs_background": "light"
          }
        }
      ]
    },
    {
      "cell_type": "code",
      "source": [
        "#Checking for corelation\n",
        "plt.figure(figsize = (16, 10))\n",
        "sns.heatmap(G3.corr(), annot = True, cmap=\"YlGnBu\")\n",
        "plt.show()"
      ],
      "metadata": {
        "colab": {
          "base_uri": "https://localhost:8080/",
          "height": 602
        },
        "id": "d9tFrc4d6fGT",
        "outputId": "cb2b756b-be17-4c48-dfea-eb0633841fa1"
      },
      "execution_count": null,
      "outputs": [
        {
          "output_type": "display_data",
          "data": {
            "text/plain": [
              "<Figure size 1152x720 with 2 Axes>"
            ],
            "image/png": "[encoded data removed]"
          },
          "metadata": {
            "needs_background": "light"
          }
        }
      ]
    },
    {
      "cell_type": "code",
      "source": [
        "#Need that in easier version for my understanding\n",
        "sns.set_context(\"notebook\", font_scale=1.2)\n",
        "ax = sns.scatterplot(data = G3,\n",
        "                x = 'members', \n",
        "                y = 'hired_staff')\n",
        "ax.set(title = 'members vs hired_staff', ylabel = 'hired_staff', xlabel='members')\n",
        "sns.despine()\n",
        "\n",
        "glue(\"correlation_fig\", ax, display=False)"
      ],
      "metadata": {
        "colab": {
          "base_uri": "https://localhost:8080/",
          "height": 306
        },
        "id": "hKBVu0rkBO5B",
        "outputId": "e1f0dd3b-6f4a-4dde-e135-8e8d30cc06f5"
      },
      "execution_count": null,
      "outputs": [
        {
          "output_type": "display_data",
          "data": {
            "application/papermill.record/text/plain": "<AxesSubplot:title={'center':'members vs hired_staff'}, xlabel='members', ylabel='hired_staff'>"
          },
          "metadata": {
            "scrapbook": {
              "name": "correlation_fig",
              "mime_prefix": "application/papermill.record/"
            }
          }
        },
        {
          "output_type": "display_data",
          "data": {
            "text/plain": [
              "<Figure size 432x288 with 1 Axes>"
            ],
            "image/png": "[encoded data removed]"
          },
          "metadata": {
            "needs_background": "light"
          }
        }
      ]
    },
    {
      "cell_type": "markdown",
      "source": [
        "There is not obvious line that could be drawn. Based on this chart. My predictor is members my outcome should be percent_hired. "
      ],
      "metadata": {
        "id": "bwqfzPsmEpjQ"
      }
    },
    {
      "cell_type": "code",
      "source": [
        "#provided variables for training set\n",
        "X = G3.drop('percent_hired', axis=1)\n",
        "y = G3['percent_hired']\n",
        "\n",
        "#splitting X and y into training and testing set 80:20 ratio it to \n",
        "X_train, X_test, y_train, y_test = train_test_split(X, y, test_size=0.20, random_state=1)\n",
        "\n",
        "regression_model = LinearRegression()\n",
        "regression_model.fit(X_train, y_train)"
      ],
      "metadata": {
        "colab": {
          "base_uri": "https://localhost:8080/",
          "height": 75
        },
        "id": "4BBvsFVYd-0u",
        "outputId": "934b76e1-f81b-4c28-bba7-950451d35ca3"
      },
      "execution_count": null,
      "outputs": [
        {
          "output_type": "execute_result",
          "data": {
            "text/plain": [
              "LinearRegression()"
            ],
            "text/html": [
              "<style>#sk-container-id-1 {color: black;background-color: white;}#sk-container-id-1 pre{padding: 0;}#sk-container-id-1 div.sk-toggleable {background-color: white;}#sk-container-id-1 label.sk-toggleable__label {cursor: pointer;display: block;width: 100%;margin-bottom: 0;padding: 0.3em;box-sizing: border-box;text-align: center;}#sk-container-id-1 label.sk-toggleable__label-arrow:before {content: \"▸\";float: left;margin-right: 0.25em;color: #696969;}#sk-container-id-1 label.sk-toggleable__label-arrow:hover:before {color: black;}#sk-container-id-1 div.sk-estimator:hover label.sk-toggleable__label-arrow:before {color: black;}#sk-container-id-1 div.sk-toggleable__content {max-height: 0;max-width: 0;overflow: hidden;text-align: left;background-color: #f0f8ff;}#sk-container-id-1 div.sk-toggleable__content pre {margin: 0.2em;color: black;border-radius: 0.25em;background-color: #f0f8ff;}#sk-container-id-1 input.sk-toggleable__control:checked~div.sk-toggleable__content {max-height: 200px;max-width: 100%;overflow: auto;}#sk-container-id-1 input.sk-toggleable__control:checked~label.sk-toggleable__label-arrow:before {content: \"▾\";}#sk-container-id-1 div.sk-estimator input.sk-toggleable__control:checked~label.sk-toggleable__label {background-color: #d4ebff;}#sk-container-id-1 div.sk-label input.sk-toggleable__control:checked~label.sk-toggleable__label {background-color: #d4ebff;}#sk-container-id-1 input.sk-hidden--visually {border: 0;clip: rect(1px 1px 1px 1px);clip: rect(1px, 1px, 1px, 1px);height: 1px;margin: -1px;overflow: hidden;padding: 0;position: absolute;width: 1px;}#sk-container-id-1 div.sk-estimator {font-family: monospace;background-color: #f0f8ff;border: 1px dotted black;border-radius: 0.25em;box-sizing: border-box;margin-bottom: 0.5em;}#sk-container-id-1 div.sk-estimator:hover {background-color: #d4ebff;}#sk-container-id-1 div.sk-parallel-item::after {content: \"\";width: 100%;border-bottom: 1px solid gray;flex-grow: 1;}#sk-container-id-1 div.sk-label:hover label.sk-toggleable__label {background-color: #d4ebff;}#sk-container-id-1 div.sk-serial::before {content: \"\";position: absolute;border-left: 1px solid gray;box-sizing: border-box;top: 0;bottom: 0;left: 50%;z-index: 0;}#sk-container-id-1 div.sk-serial {display: flex;flex-direction: column;align-items: center;background-color: white;padding-right: 0.2em;padding-left: 0.2em;position: relative;}#sk-container-id-1 div.sk-item {position: relative;z-index: 1;}#sk-container-id-1 div.sk-parallel {display: flex;align-items: stretch;justify-content: center;background-color: white;position: relative;}#sk-container-id-1 div.sk-item::before, #sk-container-id-1 div.sk-parallel-item::before {content: \"\";position: absolute;border-left: 1px solid gray;box-sizing: border-box;top: 0;bottom: 0;left: 50%;z-index: -1;}#sk-container-id-1 div.sk-parallel-item {display: flex;flex-direction: column;z-index: 1;position: relative;background-color: white;}#sk-container-id-1 div.sk-parallel-item:first-child::after {align-self: flex-end;width: 50%;}#sk-container-id-1 div.sk-parallel-item:last-child::after {align-self: flex-start;width: 50%;}#sk-container-id-1 div.sk-parallel-item:only-child::after {width: 0;}#sk-container-id-1 div.sk-dashed-wrapped {border: 1px dashed gray;margin: 0 0.4em 0.5em 0.4em;box-sizing: border-box;padding-bottom: 0.4em;background-color: white;}#sk-container-id-1 div.sk-label label {font-family: monospace;font-weight: bold;display: inline-block;line-height: 1.2em;}#sk-container-id-1 div.sk-label-container {text-align: center;}#sk-container-id-1 div.sk-container {/* jupyter's `normalize.less` sets `[hidden] { display: none; }` but bootstrap.min.css set `[hidden] { display: none !important; }` so we also need the `!important` here to be able to override the default hidden behavior on the sphinx rendered scikit-learn.org. See: https://github.com/scikit-learn/scikit-learn/issues/21755 */display: inline-block !important;position: relative;}#sk-container-id-1 div.sk-text-repr-fallback {display: none;}</style><div id=\"sk-container-id-1\" class=\"sk-top-container\"><div class=\"sk-text-repr-fallback\"><pre>LinearRegression()</pre><b>In a Jupyter environment, please rerun this cell to show the HTML representation or trust the notebook. <br />On GitHub, the HTML representation is unable to render, please try loading this page with nbviewer.org.</b></div><div class=\"sk-container\" hidden><div class=\"sk-item\"><div class=\"sk-estimator sk-toggleable\"><input class=\"sk-toggleable__control sk-hidden--visually\" id=\"sk-estimator-id-1\" type=\"checkbox\" checked><label for=\"sk-estimator-id-1\" class=\"sk-toggleable__label sk-toggleable__label-arrow\">LinearRegression</label><div class=\"sk-toggleable__content\"><pre>LinearRegression()</pre></div></div></div></div></div>"
            ]
          },
          "metadata": {},
          "execution_count": 23
        }
      ]
    },
    {
      "cell_type": "markdown",
      "source": [
        "Evaluation of test via comparison."
      ],
      "metadata": {
        "id": "wt0sUptWIrcL"
      }
    },
    {
      "cell_type": "code",
      "source": [
        "regression_model.score(X_test, y_test)"
      ],
      "metadata": {
        "colab": {
          "base_uri": "https://localhost:8080/"
        },
        "id": "LcNnPdNogBEl",
        "outputId": "dd85f2a9-c3bf-41b7-b19d-bd3510dc564e"
      },
      "execution_count": null,
      "outputs": [
        {
          "output_type": "execute_result",
          "data": {
            "text/plain": [
              "0.4206885569102208"
            ]
          },
          "metadata": {},
          "execution_count": 25
        }
      ]
    },
    {
      "cell_type": "markdown",
      "source": [
        "Model explain 42%"
      ],
      "metadata": {
        "id": "L8JFPOJPDdFS"
      }
    },
    {
      "cell_type": "code",
      "source": [
        "#Fitting model to the data\n",
        "regression_model.fit(X_train, y_train)\n",
        "\n",
        "#make predictions\n",
        "y_pred = regression_model.predict(X_test)\n",
        "\n",
        "print(\"Predictions: {}, Values: {}\".format(y_pred[:2], y_test[:2]))"
      ],
      "metadata": {
        "colab": {
          "base_uri": "https://localhost:8080/"
        },
        "id": "jAe1QuOBCy4L",
        "outputId": "2f180339-17a1-4ce5-dbf8-85ea6c98b403"
      },
      "execution_count": null,
      "outputs": [
        {
          "output_type": "stream",
          "name": "stdout",
          "text": [
            "Predictions: [48.90641273 71.55177578], Values: [40. 73.]\n"
          ]
        }
      ]
    },
    {
      "cell_type": "markdown",
      "source": [
        "Looks like the best way of suceeding the mission is to hire 40 or 70 percent of staff.\n"
      ],
      "metadata": {
        "id": "AjI9_5hEDjKB"
      }
    },
    {
      "cell_type": "markdown",
      "source": [
        "Trying to use KNeighborsClassifier to see if I am getting better results"
      ],
      "metadata": {
        "id": "DPPgrxBq7I5R"
      }
    },
    {
      "cell_type": "code",
      "source": [
        "#Creating arrays for the features and target variable\n",
        "y = G3[\"percent_hired\"].values\n",
        "X = G3[[\"members\"]].values\n",
        "\n",
        "knn = KNeighborsClassifier(n_neighbors=5)\n",
        "\n",
        "#Fiting the classifier tot he data\n",
        "knn.fit(X, y)"
      ],
      "metadata": {
        "colab": {
          "base_uri": "https://localhost:8080/",
          "height": 75
        },
        "id": "TXb8LNPe7stE",
        "outputId": "30f93625-b461-412f-9a07-99788da43bc9"
      },
      "execution_count": null,
      "outputs": [
        {
          "output_type": "execute_result",
          "data": {
            "text/plain": [
              "KNeighborsClassifier()"
            ],
            "text/html": [
              "<style>#sk-container-id-2 {color: black;background-color: white;}#sk-container-id-2 pre{padding: 0;}#sk-container-id-2 div.sk-toggleable {background-color: white;}#sk-container-id-2 label.sk-toggleable__label {cursor: pointer;display: block;width: 100%;margin-bottom: 0;padding: 0.3em;box-sizing: border-box;text-align: center;}#sk-container-id-2 label.sk-toggleable__label-arrow:before {content: \"▸\";float: left;margin-right: 0.25em;color: #696969;}#sk-container-id-2 label.sk-toggleable__label-arrow:hover:before {color: black;}#sk-container-id-2 div.sk-estimator:hover label.sk-toggleable__label-arrow:before {color: black;}#sk-container-id-2 div.sk-toggleable__content {max-height: 0;max-width: 0;overflow: hidden;text-align: left;background-color: #f0f8ff;}#sk-container-id-2 div.sk-toggleable__content pre {margin: 0.2em;color: black;border-radius: 0.25em;background-color: #f0f8ff;}#sk-container-id-2 input.sk-toggleable__control:checked~div.sk-toggleable__content {max-height: 200px;max-width: 100%;overflow: auto;}#sk-container-id-2 input.sk-toggleable__control:checked~label.sk-toggleable__label-arrow:before {content: \"▾\";}#sk-container-id-2 div.sk-estimator input.sk-toggleable__control:checked~label.sk-toggleable__label {background-color: #d4ebff;}#sk-container-id-2 div.sk-label input.sk-toggleable__control:checked~label.sk-toggleable__label {background-color: #d4ebff;}#sk-container-id-2 input.sk-hidden--visually {border: 0;clip: rect(1px 1px 1px 1px);clip: rect(1px, 1px, 1px, 1px);height: 1px;margin: -1px;overflow: hidden;padding: 0;position: absolute;width: 1px;}#sk-container-id-2 div.sk-estimator {font-family: monospace;background-color: #f0f8ff;border: 1px dotted black;border-radius: 0.25em;box-sizing: border-box;margin-bottom: 0.5em;}#sk-container-id-2 div.sk-estimator:hover {background-color: #d4ebff;}#sk-container-id-2 div.sk-parallel-item::after {content: \"\";width: 100%;border-bottom: 1px solid gray;flex-grow: 1;}#sk-container-id-2 div.sk-label:hover label.sk-toggleable__label {background-color: #d4ebff;}#sk-container-id-2 div.sk-serial::before {content: \"\";position: absolute;border-left: 1px solid gray;box-sizing: border-box;top: 0;bottom: 0;left: 50%;z-index: 0;}#sk-container-id-2 div.sk-serial {display: flex;flex-direction: column;align-items: center;background-color: white;padding-right: 0.2em;padding-left: 0.2em;position: relative;}#sk-container-id-2 div.sk-item {position: relative;z-index: 1;}#sk-container-id-2 div.sk-parallel {display: flex;align-items: stretch;justify-content: center;background-color: white;position: relative;}#sk-container-id-2 div.sk-item::before, #sk-container-id-2 div.sk-parallel-item::before {content: \"\";position: absolute;border-left: 1px solid gray;box-sizing: border-box;top: 0;bottom: 0;left: 50%;z-index: -1;}#sk-container-id-2 div.sk-parallel-item {display: flex;flex-direction: column;z-index: 1;position: relative;background-color: white;}#sk-container-id-2 div.sk-parallel-item:first-child::after {align-self: flex-end;width: 50%;}#sk-container-id-2 div.sk-parallel-item:last-child::after {align-self: flex-start;width: 50%;}#sk-container-id-2 div.sk-parallel-item:only-child::after {width: 0;}#sk-container-id-2 div.sk-dashed-wrapped {border: 1px dashed gray;margin: 0 0.4em 0.5em 0.4em;box-sizing: border-box;padding-bottom: 0.4em;background-color: white;}#sk-container-id-2 div.sk-label label {font-family: monospace;font-weight: bold;display: inline-block;line-height: 1.2em;}#sk-container-id-2 div.sk-label-container {text-align: center;}#sk-container-id-2 div.sk-container {/* jupyter's `normalize.less` sets `[hidden] { display: none; }` but bootstrap.min.css set `[hidden] { display: none !important; }` so we also need the `!important` here to be able to override the default hidden behavior on the sphinx rendered scikit-learn.org. See: https://github.com/scikit-learn/scikit-learn/issues/21755 */display: inline-block !important;position: relative;}#sk-container-id-2 div.sk-text-repr-fallback {display: none;}</style><div id=\"sk-container-id-2\" class=\"sk-top-container\"><div class=\"sk-text-repr-fallback\"><pre>KNeighborsClassifier()</pre><b>In a Jupyter environment, please rerun this cell to show the HTML representation or trust the notebook. <br />On GitHub, the HTML representation is unable to render, please try loading this page with nbviewer.org.</b></div><div class=\"sk-container\" hidden><div class=\"sk-item\"><div class=\"sk-estimator sk-toggleable\"><input class=\"sk-toggleable__control sk-hidden--visually\" id=\"sk-estimator-id-2\" type=\"checkbox\" checked><label for=\"sk-estimator-id-2\" class=\"sk-toggleable__label sk-toggleable__label-arrow\">KNeighborsClassifier</label><div class=\"sk-toggleable__content\"><pre>KNeighborsClassifier()</pre></div></div></div></div></div>"
            ]
          },
          "metadata": {},
          "execution_count": 36
        }
      ]
    },
    {
      "cell_type": "code",
      "source": [
        "X_new = np.array(G3['percent_hired']).reshape(-1, 1)\n",
        "\n",
        "#predicting the labels for the X_new\n",
        "y_pred = knn.predict(X_new)\n",
        "\n",
        "#Priniting predictions for X_new\n",
        "print(\"Predictions: {}\".format(y_pred))"
      ],
      "metadata": {
        "colab": {
          "base_uri": "https://localhost:8080/"
        },
        "id": "Cv45fssQ8kjU",
        "outputId": "e946abba-06df-4c5b-f5db-e50f2e8572e3"
      },
      "execution_count": null,
      "outputs": [
        {
          "output_type": "stream",
          "name": "stdout",
          "text": [
            "Predictions: [100.   0. 100. ...   0.   0.   0.]\n"
          ]
        }
      ]
    },
    {
      "cell_type": "markdown",
      "source": [
        "splitting data and fitting classifier. Checking accuracy for test data."
      ],
      "metadata": {
        "id": "u--hnLXi911e"
      }
    },
    {
      "cell_type": "code",
      "source": [
        "X = G3.drop(\"percent_hired\", axis=1).values\n",
        "y = G3[\"percent_hired\"].values\n",
        "\n",
        "#spliting data into training and test set with ratio 80:20\n",
        "X_train, X_test, y_train, y_test = train_test_split(X, y, test_size=0.2, random_state=42)\n",
        "knn = KNeighborsClassifier(n_neighbors=5)\n",
        "\n",
        "# Fit the classifier to the training data\n",
        "knn.fit(X_train, y_train)\n",
        "\n",
        "# Print the accuracy\n",
        "print(knn.score(X_test, y_test))"
      ],
      "metadata": {
        "colab": {
          "base_uri": "https://localhost:8080/"
        },
        "id": "MgX8KkqR-vc9",
        "outputId": "4e40c347-2df7-45e5-892b-511f4c0dfecd"
      },
      "execution_count": null,
      "outputs": [
        {
          "output_type": "stream",
          "name": "stdout",
          "text": [
            "0.7435315478892419\n"
          ]
        }
      ]
    },
    {
      "cell_type": "markdown",
      "source": [
        "This indicate that KNeighborsClassifier is more efficient model then regression for my case."
      ],
      "metadata": {
        "id": "SJ1c40t5AbBB"
      }
    },
    {
      "cell_type": "code",
      "source": [
        "# Create neighbors \n",
        "neighbors = np.arange(1, 10) \n",
        "train_accuracies = {} \n",
        "test_accuracies = {} \n",
        "\n",
        "for neighbor in neighbors: \n",
        "# Set up a KNN Classifier \n",
        "\tknn = KNeighborsClassifier(n_neighbors=neighbor) \n",
        "\n",
        "# Fit the model \n",
        "\tknn.fit(X_train, y_train) \n",
        "\n",
        "# Compute accuracy \n",
        "\ttrain_accuracies[neighbor] = knn.score(X_train, y_train) \n",
        "\ttest_accuracies[neighbor] = knn.score(X_test, y_test) \n",
        "\n",
        "print(neighbors, '\\n', train_accuracies, '\\n', test_accuracies) "
      ],
      "metadata": {
        "colab": {
          "base_uri": "https://localhost:8080/"
        },
        "id": "RmFYquW6BBQ5",
        "outputId": "b4836ba5-57b4-4854-b108-87a0e6cb62a7"
      },
      "execution_count": null,
      "outputs": [
        {
          "output_type": "stream",
          "name": "stdout",
          "text": [
            "[1 2 3 4 5 6 7 8 9] \n",
            " {1: 1.0, 2: 0.9222474460839954, 3: 0.892622020431328, 4: 0.861066969353008, 5: 0.8402951191827469, 6: 0.8195232690124858, 7: 0.8036322360953462, 8: 0.789216799091941, 9: 0.7743473325766175} \n",
            " {1: 0.8551974580118021, 2: 0.799364502950522, 3: 0.7721289151157512, 4: 0.7607807535179301, 5: 0.7435315478892419, 6: 0.7276441216522923, 7: 0.7135724012709941, 8: 0.7035860190649115, 9: 0.6976849750340445}\n"
          ]
        }
      ]
    },
    {
      "cell_type": "markdown",
      "source": [
        "Training accuracy decreases as the number of neighbors initially gets larger. These scores would be much easier to interpret in a line plot."
      ],
      "metadata": {
        "id": "jGcmfhBzBiKS"
      }
    },
    {
      "cell_type": "code",
      "source": [
        "#title\n",
        "plt.title(\"KNN: Varying Number of Neighbors\")\n",
        "\n",
        "# Plot training accuracies\n",
        "plt.plot(neighbors, train_accuracies.values(), label=\"Training Accuracy\")\n",
        "\n",
        "# Plot test accuracies\n",
        "plt.plot(neighbors, test_accuracies.values(), label=\"Testing Accuracy\")\n",
        "\n",
        "plt.legend()\n",
        "plt.xlabel(\"Number of Neighbors\")\n",
        "plt.ylabel(\"Accuracy\")\n",
        "\n",
        "# Display the plot\n",
        "plt.show()"
      ],
      "metadata": {
        "colab": {
          "base_uri": "https://localhost:8080/",
          "height": 306
        },
        "id": "_h2_YX5oBjOh",
        "outputId": "16c6ff91-5727-4cd9-d1c5-ec147d78c7e4"
      },
      "execution_count": null,
      "outputs": [
        {
          "output_type": "display_data",
          "data": {
            "text/plain": [
              "<Figure size 432x288 with 1 Axes>"
            ],
            "image/png": "[encoded data removed]"
          },
          "metadata": {
            "needs_background": "light"
          }
        }
      ]
    },
    {
      "cell_type": "markdown",
      "source": [
        "I have to stop here due to time limitation I have for this project."
      ],
      "metadata": {
        "id": "cQPH0TNaK2x5"
      }
    },
    {
      "cell_type": "markdown",
      "source": [
        "##Results\n",
        "Goal 1. Problem with currently used data-set is that most of the features representing nominal data. After exploring data on this paper it looks like goal 1 need to be skipped as there is not enough data to support this comparison. This is very clear when we see how many record are in splited dataframe for before 1910 period and from the pie chart \n",
        "\n",
        "\n",
        "![image.png](data:image/png;base64,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)\n",
        "\n",
        "\n",
        "\n",
        "To get goal 1 accomplished it would be much better to analyze climbing data from another part of the world where there is more observations. Unfortunately observations made in pre-computerized years would be spread across various personal diaries so it would be very hard to group it.\n",
        "Goal 2. Based on analisys when we tried to perform Chi-square analisis. Results were giving us very high numbers that did not tell us much about diference. \n",
        "Power_divergenceResult(statistic=240.3846153846154, pvalue=3.242219985667723e-54)\n",
        "Power_divergenceResult(statistic=9788.692579505301, pvalue=0.0)\n",
        "When we used library pingouin to do that for us we got few errors like ‘Low count on observed frequencies’ which was displayed for each set of data. There is a difinitally room for improvement on this dataset to get those results without errors. Unfortunatelly Pearson results indicate that there is no difference at all as results are exactly the same.\n",
        "![image.png](data:image/png;base64,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)\n",
        "Fortunatelly by looking at graphs falls per members brought idea of comparison between percentage. \n",
        "![image.png](data:image/png;base64,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)\n",
        "\n",
        " Graphs from both periods shows that death reason has changed sligthly. But this is indicating more at apparent effect then significante difference. \n",
        "\n",
        "![image.png](data:image/png;base64,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)\n",
        "\n",
        "\n",
        "Conclusion from above results shows that development of harness and dynamic rope made impact on safety of 0.01% which is not as much as we would expect.\n",
        "\n"
      ],
      "metadata": {
        "id": "c9S8XjwC-F4s"
      }
    },
    {
      "cell_type": "markdown",
      "source": [
        "####*Things that could be improved but due to time restrain were not.\n",
        "    1.  All dataset could be merged based on column Peak_id.\n",
        "    2.  To visualise Pie charts percent could be added\n",
        "    3.  Peaks_name could be replaced by numerical values\n",
        "    4.  Result for death cause is linked to person, removing person_id along with death cause resulting in producing as fall. \n"
      ],
      "metadata": {
        "id": "vp1aq8YR5Fah"
      }
    },
    {
      "cell_type": "markdown",
      "source": [
        "###Goal 3. Whats the percentage of hired_staff that need to be hired for expedition to be successful?\n"
      ],
      "metadata": {
        "id": "Ea_a5U08MFDF"
      }
    },
    {
      "cell_type": "markdown",
      "source": [
        "To get those results I used linear regression and based on scatterplot and scatter matrix there was no obvious line that could be drawn. However heatmap showed clear corelation between members and hired staff."
      ],
      "metadata": {
        "id": "WIjuzzwNNA51"
      }
    },
    {
      "cell_type": "markdown",
      "source": [
        "![image.png](data:image/png;base64,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)"
      ],
      "metadata": {
        "id": "AeC2jsD5MucZ"
      }
    },
    {
      "cell_type": "markdown",
      "source": [
        "Decided to split my set for 80:20 ratio and got 42% as accurancy. Fitting model to the data provided me with answer: Predictions: [48.90641273 71.55177578], Values: [40. 73.]\n",
        "\n",
        "This conclude in answer that the best way to succed the mission is to hire around 50 or 70 percent of staff."
      ],
      "metadata": {
        "id": "84gtG-ncOEHT"
      }
    },
    {
      "cell_type": "markdown",
      "source": [
        "##Insights\n",
        "####Goal 1.\n",
        "\n",
        " - There is not enough observations to provide definite answer if steel carabiner made any difference on climbing safety\n",
        "\n",
        "####Goal 2.\n",
        " - Death due to fall is actually extreme as climbers are falling on route atttempt basis. Not all falls are dangerous. In dataset fall is listed only as a reason for death but there is no count how many time climbers has fall before they die. One of the reason to die due to fall is not due to break of the rope but most often due to bad protection placing in the rock. As in Nepal we are dealing with Ice climbing it could be due to loose ice.\n",
        "  - Hired staff column and count were skipped, therefore results can be improved.\n",
        "  - Dispite safety new types of rope and harness made contribution to increase popularity of the sport. I assume there are more people surviving those expeditions and can share theres stories across the globe.\n",
        "\n",
        "####Goal 3.\n",
        " - Regression said 40 or 70 percent I belive this can be decided based on climbers experience. Historically when the nations were desiring to be first that reached the top, expeditions members had different experience, different level of climbing skills as the selection rules for those were not that obvious. That is why I am pretty happy with the result I got. Even with model accurancy 42%.\n",
        "\n"
      ],
      "metadata": {
        "id": "DlVzTfXvHYV1"
      }
    },
    {
      "cell_type": "markdown",
      "source": [
        "\n",
        "###References\n",
        "\n",
        "\n",
        "\n",
        "Dataset: https://www.kaggle.com/datasets/majunbajun/himalayan-climbing-expeditions\n",
        "\n",
        "Convert nominal to numerical values: https://machinelearningmastery.com/one-hot-encoding-for-categorical-data/\n",
        "\n",
        "Generating more samples: https://machinelearningmastery.com/generate-test-datasets-python-scikit-learn/\n",
        "\n",
        "Comparing: https://towardsdatascience.com/how-to-compare-two-or-more-distributions-9b06ee4d30bf\n",
        "\n",
        "Scrapping webpage url: https://quotes.toscrape.com\n",
        "\n",
        "Hypothesis: https://corporatefinanceinstitute.com/resources/data-science/hypothesis-testing/\n",
        "\n",
        "Chi-squered: https://www.ling.upenn.edu/~clight/chisquared.htm\n",
        "\n",
        "Penguin - https://cmdlinetips.com/2020/06/principal-component-analysis-with-penguins-data-in-python/\n",
        "\n",
        "Book - https://ethanweed.github.io/pythonbook\n",
        "\n",
        "Supervised learning - https://campus.datacamp.com/courses/supervised-learning-with-scikit-learn/"
      ],
      "metadata": {
        "id": "TidgI66yHpzB"
      }
    }
  ]
}