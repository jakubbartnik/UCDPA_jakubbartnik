{
  "nbformat": 4,
  "nbformat_minor": 0,
  "metadata": {
    "colab": {
      "provenance": []
    },
    "kernelspec": {
      "name": "python3",
      "display_name": "Python 3"
    },
    "language_info": {
      "name": "python"
    }
  },
  "cells": [
    {
      "cell_type": "markdown",
      "source": [
        "# **Project Everest Report - Jakub Bartnik**\n",
        "\n",
        "Author: Jakub Bartnik\n",
        "\n",
        "## GitHub URL \n",
        "\n",
        "https://github.com/jakubbartnik/UCDPA_jakubbartnik\n",
        "\n",
        "##Abstract \n",
        "\n",
        "This review contains the summary about impact of introducing new safety gear for climbing versus expedition survival that climbed in area of Hymalaya Nepal within last 100 years. Implememntation process contain six parts: setting goal, data preparation, data exploration, data modeling. The review will explain how all that was done by myself and what conclusion I made from results. \n",
        "* All this report content can be found in my python notebook including the code.\n",
        "\n",
        "There is another python notebook in repository demonstrating simple webscrapping. File name is Web_scrapping_quotes.ipynb."
      ],
      "metadata": {
        "id": "2hXt7VfVufCM"
      }
    },
    {
      "cell_type": "markdown",
      "source": [
        "##Introduction\n",
        "\n",
        "I decided upon this topic as climbing is, quite simply, my passion. As this is my first Data Science Project I felt that I should choose a topic that I am familiar with.\n",
        "The aim of this research is to ascertain if, after the introduction of safety equipment such as steel carabiners (1910) or dynamic rope and harness (1964), there has been any improvement in Nepal Himalaya area climber's survival rates. My research is based on a Mount Everest dataset that tracks all expeditions that climbed in area of Nepal Himalaya from 1905 to 2019.\n",
        "In recent years there have been more deaths on Mount Everest caused by climbers waiting in queues on the mountain between sections than due to failures of equipment or the difficulty of the climb (please refer to article provided in reference section). I would like to determine what the capacity of the mountain is to safely accommodate climbers during the climbing season and predict the number of climbers attempting to climb the mountain over the next two years. Within the dataset there is a field with the title 'Insufficient Supplies'. Analysis of this data I believe can help to indicate the historical point at which queues started to become a feature of attempting to climb Everest. It is my belief that this information will prove useful to expedition organisers when planning their supply requirements for expeditions to the mountain.\n",
        "\n",
        "##Dataset\n",
        "\n",
        "The Himalayan Database is a compilation of records for all expeditions that have climbed in the Nepal Himalaya. The database is based on the expedition archives of Elizabeth Hawley, a longtime journalist based in Kathmandu, and it is supplemented by information gathered from books, alpine journals and correspondence with Himalayan climbers.\n",
        "The data cover all expeditions from 1905 through Spring 2019 to more than 465 significant peaks in Nepal. Also included are expeditions to both sides of border peaks such as Everest, Cho Oyu, Makalu and Kangchenjunga as well as to some smaller border peaks. Data on expeditions to trekking peaks are included for early attempts, first ascents and major accidents.\n",
        "\n",
        "\n"
      ],
      "metadata": {
        "id": "GFSBb-4MP146"
      }
    },
    {
      "cell_type": "markdown",
      "source": [
        "##Implementation Process\n",
        "\n",
        "###Setting goals\n",
        "I like to split my main goal from introduction into smaller chunks that will be easier to archive and at the same time makes this review more structured and hopefully readable. \n",
        " - Goal 1 is to check impact of first climbing carabineer on expedition survival rate. Carabiner was developed in 1910. Therefore I am going to split all dataframe into two sets and compare the falls.\n",
        "\n",
        "- Goal 2 is about introduction of dynamic rope and harness in 1960’s. I am going to split all data and compare periods with and without it.\n",
        "\n",
        "- Goal 3 is to figure out when queues started to be formed and what would be climbers capacity for Mount Everest before it will became a problem.\n",
        "\n",
        "###Data preparation\n",
        "I started to look at the data manually prior writing this review. Those data are splited between three csv files and I belive for my pourpose I want to merge them all in one file. I going to import all libraries in first code box and keep updating it based on functions I want to use later in the code. This hopefully makes a sense later where I dont have to look over all code boxes in python notebook and run each one of them in case of missing one library."
      ],
      "metadata": {
        "id": "I9PwMA4a-J05"
      }
    },
    {
      "cell_type": "code",
      "source": [
        "#importing libraries\n",
        "import pandas as pd\n",
        "import numpy as np\n",
        "from dataclasses import replace\n",
        "import matplotlib.pyplot as plt\n",
        "import seaborn as sns\n",
        "\n",
        "#dummy variable\n",
        "from sklearn.preprocessing import OrdinalEncoder\n",
        "from sklearn.model_selection import train_test_split\n",
        "\n"
      ],
      "metadata": {
        "id": "fLDagBHBXJSR"
      },
      "execution_count": 26,
      "outputs": []
    },
    {
      "cell_type": "markdown",
      "source": [
        "Reading data from all three csv (expeditions.csv, peaks.csv, members.csv). I am using commands like .shape and .info. Those commands showing me column names and few records for examination but at the same time it gives me number of records. Thanks to that I know that expeditions dataframe is 10364 rows and 16 columns, peak.csv is 467 rows and 8 columns and members.csv is 76519 rows and 21 columns."
      ],
      "metadata": {
        "id": "2V0R6mIeXavR"
      }
    },
    {
      "cell_type": "code",
      "source": [
        "#importing everest data \n",
        "df_exp = pd.read_csv('/content/drive/MyDrive/Colab Notebooks/everest_data/expeditions.csv')\n",
        "df_peaks = pd.read_csv('/content/drive/MyDrive/Colab Notebooks/everest_data/peaks.csv')\n",
        "df_mem = pd.read_csv('/content/drive/MyDrive/Colab Notebooks/everest_data/members.csv')\n",
        "\n",
        "#basic overview on data\n",
        "print('shape of expeditions - ', df_exp.shape)\n",
        "print('shape of peaks - ', df_peaks.shape)\n",
        "print('shape of members - ', df_mem.shape)\n"
      ],
      "metadata": {
        "id": "Wh7Vpmb5vNfw",
        "colab": {
          "base_uri": "https://localhost:8080/"
        },
        "outputId": "7edcc6b9-88aa-4ee7-a678-b7957ccbafbb"
      },
      "execution_count": 27,
      "outputs": [
        {
          "output_type": "stream",
          "name": "stdout",
          "text": [
            "shape of expeditions -  (10364, 16)\n",
            "shape of peaks -  (468, 8)\n",
            "shape of members -  (76519, 21)\n"
          ]
        }
      ]
    },
    {
      "cell_type": "markdown",
      "source": [
        " I am exploring all csv one by one using .head() which shows me five first rows to identify best column I can merge with another dataframe."
      ],
      "metadata": {
        "id": "eEcO9qqn6VPr"
      }
    },
    {
      "cell_type": "code",
      "source": [
        "df_exp.head()"
      ],
      "metadata": {
        "id": "zaZlCpRC6dHY"
      },
      "execution_count": null,
      "outputs": []
    },
    {
      "cell_type": "code",
      "source": [
        "df_peaks.head()"
      ],
      "metadata": {
        "id": "HwvHZ3fA6lAT"
      },
      "execution_count": null,
      "outputs": []
    },
    {
      "cell_type": "code",
      "source": [
        "df_mem.head()"
      ],
      "metadata": {
        "id": "JxTBx0Ku6u5p"
      },
      "execution_count": null,
      "outputs": []
    },
    {
      "cell_type": "markdown",
      "source": [
        "This is how I identified column ‘peak_id’ to merge expeditions.csv with peak.csv and assigned it to ‘df1’ as temporary dataframe."
      ],
      "metadata": {
        "id": "GqgOOBdp72zJ"
      }
    },
    {
      "cell_type": "code",
      "source": [
        "df1 =df_exp.merge(df_peaks ,on ='peak_id') \n",
        "print(df1.shape) \n",
        "df1.head()"
      ],
      "metadata": {
        "id": "u1zJO2y58C_g",
        "colab": {
          "base_uri": "https://localhost:8080/",
          "height": 352
        },
        "outputId": "a8fd8158-dc63-46ef-92cd-3a8b8ccddf9f"
      },
      "execution_count": 28,
      "outputs": [
        {
          "output_type": "stream",
          "name": "stdout",
          "text": [
            "(10363, 23)\n"
          ]
        },
        {
          "output_type": "execute_result",
          "data": {
            "text/plain": [
              "  expedition_id peak_id   peak_name_x  year  season basecamp_date  \\\n",
              "0     ANN260101    ANN2  Annapurna II  1960  Spring    1960-03-15   \n",
              "1     ANN269301    ANN2  Annapurna II  1969  Autumn    1969-09-25   \n",
              "2     ANN273101    ANN2  Annapurna II  1973  Spring    1973-03-16   \n",
              "3     ANN278301    ANN2  Annapurna II  1978  Autumn    1978-09-08   \n",
              "4     ANN279301    ANN2  Annapurna II  1979  Autumn           NaN   \n",
              "\n",
              "  highpoint_date termination_date                termination_reason  \\\n",
              "0     1960-05-17              NaN               Success (main peak)   \n",
              "1     1969-10-22       1969-10-26               Success (main peak)   \n",
              "2     1973-05-06              NaN               Success (main peak)   \n",
              "3     1978-10-02       1978-10-05  Bad weather (storms, high winds)   \n",
              "4     1979-10-18       1979-10-20  Bad weather (storms, high winds)   \n",
              "\n",
              "   highpoint_metres  ...  hired_staff_deaths  oxygen_used  trekking_agency  \\\n",
              "0            7937.0  ...                   0         True              NaN   \n",
              "1            7937.0  ...                   0        False              NaN   \n",
              "2            7937.0  ...                   0        False              NaN   \n",
              "3            7000.0  ...                   0        False              NaN   \n",
              "4            7160.0  ...                   0        False              NaN   \n",
              "\n",
              "    peak_name_y  peak_alternative_name height_metres climbing_status  \\\n",
              "0  Annapurna II                    NaN          7937         Climbed   \n",
              "1  Annapurna II                    NaN          7937         Climbed   \n",
              "2  Annapurna II                    NaN          7937         Climbed   \n",
              "3  Annapurna II                    NaN          7937         Climbed   \n",
              "4  Annapurna II                    NaN          7937         Climbed   \n",
              "\n",
              "  first_ascent_year  first_ascent_country first_ascent_expedition_id  \n",
              "0            1960.0             UK, Nepal                  ANN260101  \n",
              "1            1960.0             UK, Nepal                  ANN260101  \n",
              "2            1960.0             UK, Nepal                  ANN260101  \n",
              "3            1960.0             UK, Nepal                  ANN260101  \n",
              "4            1960.0             UK, Nepal                  ANN260101  \n",
              "\n",
              "[5 rows x 23 columns]"
            ],
            "text/html": [
              "\n",
              "  <div id=\"df-4eee8d62-e387-41be-977e-b1c2e0f5895a\">\n",
              "    <div class=\"colab-df-container\">\n",
              "      <div>\n",
              "<style scoped>\n",
              "    .dataframe tbody tr th:only-of-type {\n",
              "        vertical-align: middle;\n",
              "    }\n",
              "\n",
              "    .dataframe tbody tr th {\n",
              "        vertical-align: top;\n",
              "    }\n",
              "\n",
              "    .dataframe thead th {\n",
              "        text-align: right;\n",
              "    }\n",
              "</style>\n",
              "<table border=\"1\" class=\"dataframe\">\n",
              "  <thead>\n",
              "    <tr style=\"text-align: right;\">\n",
              "      <th></th>\n",
              "      <th>expedition_id</th>\n",
              "      <th>peak_id</th>\n",
              "      <th>peak_name_x</th>\n",
              "      <th>year</th>\n",
              "      <th>season</th>\n",
              "      <th>basecamp_date</th>\n",
              "      <th>highpoint_date</th>\n",
              "      <th>termination_date</th>\n",
              "      <th>termination_reason</th>\n",
              "      <th>highpoint_metres</th>\n",
              "      <th>...</th>\n",
              "      <th>hired_staff_deaths</th>\n",
              "      <th>oxygen_used</th>\n",
              "      <th>trekking_agency</th>\n",
              "      <th>peak_name_y</th>\n",
              "      <th>peak_alternative_name</th>\n",
              "      <th>height_metres</th>\n",
              "      <th>climbing_status</th>\n",
              "      <th>first_ascent_year</th>\n",
              "      <th>first_ascent_country</th>\n",
              "      <th>first_ascent_expedition_id</th>\n",
              "    </tr>\n",
              "  </thead>\n",
              "  <tbody>\n",
              "    <tr>\n",
              "      <th>0</th>\n",
              "      <td>ANN260101</td>\n",
              "      <td>ANN2</td>\n",
              "      <td>Annapurna II</td>\n",
              "      <td>1960</td>\n",
              "      <td>Spring</td>\n",
              "      <td>1960-03-15</td>\n",
              "      <td>1960-05-17</td>\n",
              "      <td>NaN</td>\n",
              "      <td>Success (main peak)</td>\n",
              "      <td>7937.0</td>\n",
              "      <td>...</td>\n",
              "      <td>0</td>\n",
              "      <td>True</td>\n",
              "      <td>NaN</td>\n",
              "      <td>Annapurna II</td>\n",
              "      <td>NaN</td>\n",
              "      <td>7937</td>\n",
              "      <td>Climbed</td>\n",
              "      <td>1960.0</td>\n",
              "      <td>UK, Nepal</td>\n",
              "      <td>ANN260101</td>\n",
              "    </tr>\n",
              "    <tr>\n",
              "      <th>1</th>\n",
              "      <td>ANN269301</td>\n",
              "      <td>ANN2</td>\n",
              "      <td>Annapurna II</td>\n",
              "      <td>1969</td>\n",
              "      <td>Autumn</td>\n",
              "      <td>1969-09-25</td>\n",
              "      <td>1969-10-22</td>\n",
              "      <td>1969-10-26</td>\n",
              "      <td>Success (main peak)</td>\n",
              "      <td>7937.0</td>\n",
              "      <td>...</td>\n",
              "      <td>0</td>\n",
              "      <td>False</td>\n",
              "      <td>NaN</td>\n",
              "      <td>Annapurna II</td>\n",
              "      <td>NaN</td>\n",
              "      <td>7937</td>\n",
              "      <td>Climbed</td>\n",
              "      <td>1960.0</td>\n",
              "      <td>UK, Nepal</td>\n",
              "      <td>ANN260101</td>\n",
              "    </tr>\n",
              "    <tr>\n",
              "      <th>2</th>\n",
              "      <td>ANN273101</td>\n",
              "      <td>ANN2</td>\n",
              "      <td>Annapurna II</td>\n",
              "      <td>1973</td>\n",
              "      <td>Spring</td>\n",
              "      <td>1973-03-16</td>\n",
              "      <td>1973-05-06</td>\n",
              "      <td>NaN</td>\n",
              "      <td>Success (main peak)</td>\n",
              "      <td>7937.0</td>\n",
              "      <td>...</td>\n",
              "      <td>0</td>\n",
              "      <td>False</td>\n",
              "      <td>NaN</td>\n",
              "      <td>Annapurna II</td>\n",
              "      <td>NaN</td>\n",
              "      <td>7937</td>\n",
              "      <td>Climbed</td>\n",
              "      <td>1960.0</td>\n",
              "      <td>UK, Nepal</td>\n",
              "      <td>ANN260101</td>\n",
              "    </tr>\n",
              "    <tr>\n",
              "      <th>3</th>\n",
              "      <td>ANN278301</td>\n",
              "      <td>ANN2</td>\n",
              "      <td>Annapurna II</td>\n",
              "      <td>1978</td>\n",
              "      <td>Autumn</td>\n",
              "      <td>1978-09-08</td>\n",
              "      <td>1978-10-02</td>\n",
              "      <td>1978-10-05</td>\n",
              "      <td>Bad weather (storms, high winds)</td>\n",
              "      <td>7000.0</td>\n",
              "      <td>...</td>\n",
              "      <td>0</td>\n",
              "      <td>False</td>\n",
              "      <td>NaN</td>\n",
              "      <td>Annapurna II</td>\n",
              "      <td>NaN</td>\n",
              "      <td>7937</td>\n",
              "      <td>Climbed</td>\n",
              "      <td>1960.0</td>\n",
              "      <td>UK, Nepal</td>\n",
              "      <td>ANN260101</td>\n",
              "    </tr>\n",
              "    <tr>\n",
              "      <th>4</th>\n",
              "      <td>ANN279301</td>\n",
              "      <td>ANN2</td>\n",
              "      <td>Annapurna II</td>\n",
              "      <td>1979</td>\n",
              "      <td>Autumn</td>\n",
              "      <td>NaN</td>\n",
              "      <td>1979-10-18</td>\n",
              "      <td>1979-10-20</td>\n",
              "      <td>Bad weather (storms, high winds)</td>\n",
              "      <td>7160.0</td>\n",
              "      <td>...</td>\n",
              "      <td>0</td>\n",
              "      <td>False</td>\n",
              "      <td>NaN</td>\n",
              "      <td>Annapurna II</td>\n",
              "      <td>NaN</td>\n",
              "      <td>7937</td>\n",
              "      <td>Climbed</td>\n",
              "      <td>1960.0</td>\n",
              "      <td>UK, Nepal</td>\n",
              "      <td>ANN260101</td>\n",
              "    </tr>\n",
              "  </tbody>\n",
              "</table>\n",
              "<p>5 rows × 23 columns</p>\n",
              "</div>\n",
              "      <button class=\"colab-df-convert\" onclick=\"convertToInteractive('df-4eee8d62-e387-41be-977e-b1c2e0f5895a')\"\n",
              "              title=\"Convert this dataframe to an interactive table.\"\n",
              "              style=\"display:none;\">\n",
              "        \n",
              "  <svg xmlns=\"http://www.w3.org/2000/svg\" height=\"24px\"viewBox=\"0 0 24 24\"\n",
              "       width=\"24px\">\n",
              "    <path d=\"M0 0h24v24H0V0z\" fill=\"none\"/>\n",
              "    <path d=\"M18.56 5.44l.94 2.06.94-2.06 2.06-.94-2.06-.94-.94-2.06-.94 2.06-2.06.94zm-11 1L8.5 8.5l.94-2.06 2.06-.94-2.06-.94L8.5 2.5l-.94 2.06-2.06.94zm10 10l.94 2.06.94-2.06 2.06-.94-2.06-.94-.94-2.06-.94 2.06-2.06.94z\"/><path d=\"M17.41 7.96l-1.37-1.37c-.4-.4-.92-.59-1.43-.59-.52 0-1.04.2-1.43.59L10.3 9.45l-7.72 7.72c-.78.78-.78 2.05 0 2.83L4 21.41c.39.39.9.59 1.41.59.51 0 1.02-.2 1.41-.59l7.78-7.78 2.81-2.81c.8-.78.8-2.07 0-2.86zM5.41 20L4 18.59l7.72-7.72 1.47 1.35L5.41 20z\"/>\n",
              "  </svg>\n",
              "      </button>\n",
              "      \n",
              "  <style>\n",
              "    .colab-df-container {\n",
              "      display:flex;\n",
              "      flex-wrap:wrap;\n",
              "      gap: 12px;\n",
              "    }\n",
              "\n",
              "    .colab-df-convert {\n",
              "      background-color: #E8F0FE;\n",
              "      border: none;\n",
              "      border-radius: 50%;\n",
              "      cursor: pointer;\n",
              "      display: none;\n",
              "      fill: #1967D2;\n",
              "      height: 32px;\n",
              "      padding: 0 0 0 0;\n",
              "      width: 32px;\n",
              "    }\n",
              "\n",
              "    .colab-df-convert:hover {\n",
              "      background-color: #E2EBFA;\n",
              "      box-shadow: 0px 1px 2px rgba(60, 64, 67, 0.3), 0px 1px 3px 1px rgba(60, 64, 67, 0.15);\n",
              "      fill: #174EA6;\n",
              "    }\n",
              "\n",
              "    [theme=dark] .colab-df-convert {\n",
              "      background-color: #3B4455;\n",
              "      fill: #D2E3FC;\n",
              "    }\n",
              "\n",
              "    [theme=dark] .colab-df-convert:hover {\n",
              "      background-color: #434B5C;\n",
              "      box-shadow: 0px 1px 3px 1px rgba(0, 0, 0, 0.15);\n",
              "      filter: drop-shadow(0px 1px 2px rgba(0, 0, 0, 0.3));\n",
              "      fill: #FFFFFF;\n",
              "    }\n",
              "  </style>\n",
              "\n",
              "      <script>\n",
              "        const buttonEl =\n",
              "          document.querySelector('#df-4eee8d62-e387-41be-977e-b1c2e0f5895a button.colab-df-convert');\n",
              "        buttonEl.style.display =\n",
              "          google.colab.kernel.accessAllowed ? 'block' : 'none';\n",
              "\n",
              "        async function convertToInteractive(key) {\n",
              "          const element = document.querySelector('#df-4eee8d62-e387-41be-977e-b1c2e0f5895a');\n",
              "          const dataTable =\n",
              "            await google.colab.kernel.invokeFunction('convertToInteractive',\n",
              "                                                     [key], {});\n",
              "          if (!dataTable) return;\n",
              "\n",
              "          const docLinkHtml = 'Like what you see? Visit the ' +\n",
              "            '<a target=\"_blank\" href=https://colab.research.google.com/notebooks/data_table.ipynb>data table notebook</a>'\n",
              "            + ' to learn more about interactive tables.';\n",
              "          element.innerHTML = '';\n",
              "          dataTable['output_type'] = 'display_data';\n",
              "          await google.colab.output.renderOutput(dataTable, element);\n",
              "          const docLink = document.createElement('div');\n",
              "          docLink.innerHTML = docLinkHtml;\n",
              "          element.appendChild(docLink);\n",
              "        }\n",
              "      </script>\n",
              "    </div>\n",
              "  </div>\n",
              "  "
            ]
          },
          "metadata": {},
          "execution_count": 28
        }
      ]
    },
    {
      "cell_type": "markdown",
      "source": [
        "Next I done the same with my temporary dataframe and members.csv based on ‘expedition_id’ and assigned it to dataframe -’df’. I did used .merge command to combine all three csv’s."
      ],
      "metadata": {
        "id": "4IfpSWnw-uVM"
      }
    },
    {
      "cell_type": "code",
      "source": [
        "df = df1.merge(df_mem ,on ='expedition_id') \n",
        "print(df.shape) \n",
        "df.head()"
      ],
      "metadata": {
        "id": "U12ZgJpe--mQ",
        "colab": {
          "base_uri": "https://localhost:8080/",
          "height": 317
        },
        "outputId": "03199dd0-14fa-4071-eb61-335a5ea96c84"
      },
      "execution_count": 29,
      "outputs": [
        {
          "output_type": "stream",
          "name": "stdout",
          "text": [
            "(76511, 43)\n"
          ]
        },
        {
          "output_type": "execute_result",
          "data": {
            "text/plain": [
              "  expedition_id peak_id_x   peak_name_x  year_x season_x basecamp_date  \\\n",
              "0     ANN260101      ANN2  Annapurna II    1960   Spring    1960-03-15   \n",
              "1     ANN260101      ANN2  Annapurna II    1960   Spring    1960-03-15   \n",
              "2     ANN260101      ANN2  Annapurna II    1960   Spring    1960-03-15   \n",
              "3     ANN260101      ANN2  Annapurna II    1960   Spring    1960-03-15   \n",
              "4     ANN260101      ANN2  Annapurna II    1960   Spring    1960-03-15   \n",
              "\n",
              "  highpoint_date termination_date   termination_reason  highpoint_metres_x  \\\n",
              "0     1960-05-17              NaN  Success (main peak)              7937.0   \n",
              "1     1960-05-17              NaN  Success (main peak)              7937.0   \n",
              "2     1960-05-17              NaN  Success (main peak)              7937.0   \n",
              "3     1960-05-17              NaN  Success (main peak)              7937.0   \n",
              "4     1960-05-17              NaN  Success (main peak)              7937.0   \n",
              "\n",
              "   ...  highpoint_metres_y  success   solo  oxygen_used_y   died death_cause  \\\n",
              "0  ...                 NaN    False  False          False  False         NaN   \n",
              "1  ...              7937.0     True  False           True  False         NaN   \n",
              "2  ...              7250.0    False  False          False  False         NaN   \n",
              "3  ...              7250.0    False  False          False  False         NaN   \n",
              "4  ...              7937.0     True  False           True  False         NaN   \n",
              "\n",
              "  death_height_metres injured  injury_type injury_height_metres  \n",
              "0                 NaN   False          NaN                  NaN  \n",
              "1                 NaN   False          NaN                  NaN  \n",
              "2                 NaN   False          NaN                  NaN  \n",
              "3                 NaN   False          NaN                  NaN  \n",
              "4                 NaN   False          NaN                  NaN  \n",
              "\n",
              "[5 rows x 43 columns]"
            ],
            "text/html": [
              "\n",
              "  <div id=\"df-28797961-7457-4c6a-923b-d85e6babeafd\">\n",
              "    <div class=\"colab-df-container\">\n",
              "      <div>\n",
              "<style scoped>\n",
              "    .dataframe tbody tr th:only-of-type {\n",
              "        vertical-align: middle;\n",
              "    }\n",
              "\n",
              "    .dataframe tbody tr th {\n",
              "        vertical-align: top;\n",
              "    }\n",
              "\n",
              "    .dataframe thead th {\n",
              "        text-align: right;\n",
              "    }\n",
              "</style>\n",
              "<table border=\"1\" class=\"dataframe\">\n",
              "  <thead>\n",
              "    <tr style=\"text-align: right;\">\n",
              "      <th></th>\n",
              "      <th>expedition_id</th>\n",
              "      <th>peak_id_x</th>\n",
              "      <th>peak_name_x</th>\n",
              "      <th>year_x</th>\n",
              "      <th>season_x</th>\n",
              "      <th>basecamp_date</th>\n",
              "      <th>highpoint_date</th>\n",
              "      <th>termination_date</th>\n",
              "      <th>termination_reason</th>\n",
              "      <th>highpoint_metres_x</th>\n",
              "      <th>...</th>\n",
              "      <th>highpoint_metres_y</th>\n",
              "      <th>success</th>\n",
              "      <th>solo</th>\n",
              "      <th>oxygen_used_y</th>\n",
              "      <th>died</th>\n",
              "      <th>death_cause</th>\n",
              "      <th>death_height_metres</th>\n",
              "      <th>injured</th>\n",
              "      <th>injury_type</th>\n",
              "      <th>injury_height_metres</th>\n",
              "    </tr>\n",
              "  </thead>\n",
              "  <tbody>\n",
              "    <tr>\n",
              "      <th>0</th>\n",
              "      <td>ANN260101</td>\n",
              "      <td>ANN2</td>\n",
              "      <td>Annapurna II</td>\n",
              "      <td>1960</td>\n",
              "      <td>Spring</td>\n",
              "      <td>1960-03-15</td>\n",
              "      <td>1960-05-17</td>\n",
              "      <td>NaN</td>\n",
              "      <td>Success (main peak)</td>\n",
              "      <td>7937.0</td>\n",
              "      <td>...</td>\n",
              "      <td>NaN</td>\n",
              "      <td>False</td>\n",
              "      <td>False</td>\n",
              "      <td>False</td>\n",
              "      <td>False</td>\n",
              "      <td>NaN</td>\n",
              "      <td>NaN</td>\n",
              "      <td>False</td>\n",
              "      <td>NaN</td>\n",
              "      <td>NaN</td>\n",
              "    </tr>\n",
              "    <tr>\n",
              "      <th>1</th>\n",
              "      <td>ANN260101</td>\n",
              "      <td>ANN2</td>\n",
              "      <td>Annapurna II</td>\n",
              "      <td>1960</td>\n",
              "      <td>Spring</td>\n",
              "      <td>1960-03-15</td>\n",
              "      <td>1960-05-17</td>\n",
              "      <td>NaN</td>\n",
              "      <td>Success (main peak)</td>\n",
              "      <td>7937.0</td>\n",
              "      <td>...</td>\n",
              "      <td>7937.0</td>\n",
              "      <td>True</td>\n",
              "      <td>False</td>\n",
              "      <td>True</td>\n",
              "      <td>False</td>\n",
              "      <td>NaN</td>\n",
              "      <td>NaN</td>\n",
              "      <td>False</td>\n",
              "      <td>NaN</td>\n",
              "      <td>NaN</td>\n",
              "    </tr>\n",
              "    <tr>\n",
              "      <th>2</th>\n",
              "      <td>ANN260101</td>\n",
              "      <td>ANN2</td>\n",
              "      <td>Annapurna II</td>\n",
              "      <td>1960</td>\n",
              "      <td>Spring</td>\n",
              "      <td>1960-03-15</td>\n",
              "      <td>1960-05-17</td>\n",
              "      <td>NaN</td>\n",
              "      <td>Success (main peak)</td>\n",
              "      <td>7937.0</td>\n",
              "      <td>...</td>\n",
              "      <td>7250.0</td>\n",
              "      <td>False</td>\n",
              "      <td>False</td>\n",
              "      <td>False</td>\n",
              "      <td>False</td>\n",
              "      <td>NaN</td>\n",
              "      <td>NaN</td>\n",
              "      <td>False</td>\n",
              "      <td>NaN</td>\n",
              "      <td>NaN</td>\n",
              "    </tr>\n",
              "    <tr>\n",
              "      <th>3</th>\n",
              "      <td>ANN260101</td>\n",
              "      <td>ANN2</td>\n",
              "      <td>Annapurna II</td>\n",
              "      <td>1960</td>\n",
              "      <td>Spring</td>\n",
              "      <td>1960-03-15</td>\n",
              "      <td>1960-05-17</td>\n",
              "      <td>NaN</td>\n",
              "      <td>Success (main peak)</td>\n",
              "      <td>7937.0</td>\n",
              "      <td>...</td>\n",
              "      <td>7250.0</td>\n",
              "      <td>False</td>\n",
              "      <td>False</td>\n",
              "      <td>False</td>\n",
              "      <td>False</td>\n",
              "      <td>NaN</td>\n",
              "      <td>NaN</td>\n",
              "      <td>False</td>\n",
              "      <td>NaN</td>\n",
              "      <td>NaN</td>\n",
              "    </tr>\n",
              "    <tr>\n",
              "      <th>4</th>\n",
              "      <td>ANN260101</td>\n",
              "      <td>ANN2</td>\n",
              "      <td>Annapurna II</td>\n",
              "      <td>1960</td>\n",
              "      <td>Spring</td>\n",
              "      <td>1960-03-15</td>\n",
              "      <td>1960-05-17</td>\n",
              "      <td>NaN</td>\n",
              "      <td>Success (main peak)</td>\n",
              "      <td>7937.0</td>\n",
              "      <td>...</td>\n",
              "      <td>7937.0</td>\n",
              "      <td>True</td>\n",
              "      <td>False</td>\n",
              "      <td>True</td>\n",
              "      <td>False</td>\n",
              "      <td>NaN</td>\n",
              "      <td>NaN</td>\n",
              "      <td>False</td>\n",
              "      <td>NaN</td>\n",
              "      <td>NaN</td>\n",
              "    </tr>\n",
              "  </tbody>\n",
              "</table>\n",
              "<p>5 rows × 43 columns</p>\n",
              "</div>\n",
              "      <button class=\"colab-df-convert\" onclick=\"convertToInteractive('df-28797961-7457-4c6a-923b-d85e6babeafd')\"\n",
              "              title=\"Convert this dataframe to an interactive table.\"\n",
              "              style=\"display:none;\">\n",
              "        \n",
              "  <svg xmlns=\"http://www.w3.org/2000/svg\" height=\"24px\"viewBox=\"0 0 24 24\"\n",
              "       width=\"24px\">\n",
              "    <path d=\"M0 0h24v24H0V0z\" fill=\"none\"/>\n",
              "    <path d=\"M18.56 5.44l.94 2.06.94-2.06 2.06-.94-2.06-.94-.94-2.06-.94 2.06-2.06.94zm-11 1L8.5 8.5l.94-2.06 2.06-.94-2.06-.94L8.5 2.5l-.94 2.06-2.06.94zm10 10l.94 2.06.94-2.06 2.06-.94-2.06-.94-.94-2.06-.94 2.06-2.06.94z\"/><path d=\"M17.41 7.96l-1.37-1.37c-.4-.4-.92-.59-1.43-.59-.52 0-1.04.2-1.43.59L10.3 9.45l-7.72 7.72c-.78.78-.78 2.05 0 2.83L4 21.41c.39.39.9.59 1.41.59.51 0 1.02-.2 1.41-.59l7.78-7.78 2.81-2.81c.8-.78.8-2.07 0-2.86zM5.41 20L4 18.59l7.72-7.72 1.47 1.35L5.41 20z\"/>\n",
              "  </svg>\n",
              "      </button>\n",
              "      \n",
              "  <style>\n",
              "    .colab-df-container {\n",
              "      display:flex;\n",
              "      flex-wrap:wrap;\n",
              "      gap: 12px;\n",
              "    }\n",
              "\n",
              "    .colab-df-convert {\n",
              "      background-color: #E8F0FE;\n",
              "      border: none;\n",
              "      border-radius: 50%;\n",
              "      cursor: pointer;\n",
              "      display: none;\n",
              "      fill: #1967D2;\n",
              "      height: 32px;\n",
              "      padding: 0 0 0 0;\n",
              "      width: 32px;\n",
              "    }\n",
              "\n",
              "    .colab-df-convert:hover {\n",
              "      background-color: #E2EBFA;\n",
              "      box-shadow: 0px 1px 2px rgba(60, 64, 67, 0.3), 0px 1px 3px 1px rgba(60, 64, 67, 0.15);\n",
              "      fill: #174EA6;\n",
              "    }\n",
              "\n",
              "    [theme=dark] .colab-df-convert {\n",
              "      background-color: #3B4455;\n",
              "      fill: #D2E3FC;\n",
              "    }\n",
              "\n",
              "    [theme=dark] .colab-df-convert:hover {\n",
              "      background-color: #434B5C;\n",
              "      box-shadow: 0px 1px 3px 1px rgba(0, 0, 0, 0.15);\n",
              "      filter: drop-shadow(0px 1px 2px rgba(0, 0, 0, 0.3));\n",
              "      fill: #FFFFFF;\n",
              "    }\n",
              "  </style>\n",
              "\n",
              "      <script>\n",
              "        const buttonEl =\n",
              "          document.querySelector('#df-28797961-7457-4c6a-923b-d85e6babeafd button.colab-df-convert');\n",
              "        buttonEl.style.display =\n",
              "          google.colab.kernel.accessAllowed ? 'block' : 'none';\n",
              "\n",
              "        async function convertToInteractive(key) {\n",
              "          const element = document.querySelector('#df-28797961-7457-4c6a-923b-d85e6babeafd');\n",
              "          const dataTable =\n",
              "            await google.colab.kernel.invokeFunction('convertToInteractive',\n",
              "                                                     [key], {});\n",
              "          if (!dataTable) return;\n",
              "\n",
              "          const docLinkHtml = 'Like what you see? Visit the ' +\n",
              "            '<a target=\"_blank\" href=https://colab.research.google.com/notebooks/data_table.ipynb>data table notebook</a>'\n",
              "            + ' to learn more about interactive tables.';\n",
              "          element.innerHTML = '';\n",
              "          dataTable['output_type'] = 'display_data';\n",
              "          await google.colab.output.renderOutput(dataTable, element);\n",
              "          const docLink = document.createElement('div');\n",
              "          docLink.innerHTML = docLinkHtml;\n",
              "          element.appendChild(docLink);\n",
              "        }\n",
              "      </script>\n",
              "    </div>\n",
              "  </div>\n",
              "  "
            ]
          },
          "metadata": {},
          "execution_count": 29
        }
      ]
    },
    {
      "cell_type": "markdown",
      "source": [
        "At this point I started looking for empty values in my current dataframe – ‘df’. I am using .isna() function to show all ‘nan’ values. Because I find the column that will make significant impact on my results I want to take closer look at column ‘death_cause’. That is why I am using df[‘death_cause’].unique() function."
      ],
      "metadata": {
        "id": "QlHkQrGgaRIN"
      }
    },
    {
      "cell_type": "code",
      "source": [
        "print(df.isna().sum().sort_values())"
      ],
      "metadata": {
        "id": "6U6vqaxUatya"
      },
      "execution_count": null,
      "outputs": []
    },
    {
      "cell_type": "code",
      "source": [
        "#printing unique values\n",
        "print(df['death_cause'].unique())"
      ],
      "metadata": {
        "id": "XRi3QYYMrt3l"
      },
      "execution_count": null,
      "outputs": []
    },
    {
      "cell_type": "markdown",
      "source": [
        "Thanks to that I see that value ‘Other’ is not really make more sense then ‘nan’ or ‘unknown’ but it generate more noise so I am replacing all ‘Other’ with ‘nan’. "
      ],
      "metadata": {
        "id": "RDWoBZp7tmMW"
      }
    },
    {
      "cell_type": "code",
      "source": [
        "#replacing empty values\n",
        "df['death_cause'] = df.death_cause.replace(['Other'], [np.nan])\n",
        "#verifying that \"Other\" has been replaced with nan\n",
        "print(df['death_cause'].unique())"
      ],
      "metadata": {
        "id": "ACJbpwTHt-XF",
        "colab": {
          "base_uri": "https://localhost:8080/"
        },
        "outputId": "fbc2c8fa-1a1f-4425-ab21-269121344b12"
      },
      "execution_count": 30,
      "outputs": [
        {
          "output_type": "stream",
          "name": "stdout",
          "text": [
            "[nan 'Fall' 'Exposure / frostbite' 'Avalanche' 'AMS' 'Unknown'\n",
            " 'Illness (non-AMS)' 'Falling rock / ice' 'Exhaustion'\n",
            " 'Disappearance (unexplained)' 'Crevasse' 'Icefall collapse']\n"
          ]
        }
      ]
    },
    {
      "cell_type": "markdown",
      "source": [
        "To limit variables in current dataset that are mainly repeated like year_x and year_y I will drop some of the columns that came after merging. Important columns from expedition.csv is ‘termination_reason’ and ‘expedition_id’, ‘year’. Important columns from peaks.csv is ‘peak_name’ and ‘climbing_status’. Important columns from members.csv is ‘death_cause’.Those I belive are important columns I want to keep. I will drop  the following columns that are not important:  'trekking_agency', 'peak_alternative_name', 'sex', 'expedition_role', 'injury_type', 'injury_height_metres', 'oxygen_used_x', 'age', 'first_ascent_country', 'hired', 'success', 'member_id', 'highpoint_metres_y', 'oxygen_used_y', 'died', 'death_height_metres', 'injured', 'citizenship', 'solo', 'year_y', 'season_y', 'peak_name_y', 'peak_name_x', 'peak_id_y', 'peak_id_x', 'season_x', 'climbing_status', 'first_ascent_expedition_id'. Result of dataframe without dropped columns was saved to temporary dataframe ‘cleaning’  "
      ],
      "metadata": {
        "id": "un6nxZAq1C2s"
      }
    },
    {
      "cell_type": "code",
      "source": [
        "#droping non-inportant columns\n",
        "cleaning = df.drop(columns=['trekking_agency', 'peak_alternative_name', 'sex', 'expedition_role', 'injury_type', 'injury_height_metres', 'oxygen_used_x', 'age', 'first_ascent_country', 'hired', 'success', 'member_id', 'highpoint_metres_y', 'oxygen_used_y', 'died', 'death_height_metres', 'injured', 'citizenship', 'solo', 'year_y', 'season_y', 'peak_name_y', 'peak_name_x', 'peak_id_y', 'peak_id_x', 'season_x', 'climbing_status', 'first_ascent_expedition_id'])"
      ],
      "metadata": {
        "id": "zmK10Ij_7jYA"
      },
      "execution_count": 31,
      "outputs": []
    },
    {
      "cell_type": "code",
      "source": [
        "cleaning.head()"
      ],
      "metadata": {
        "id": "-535jUeg-T-Y"
      },
      "execution_count": null,
      "outputs": []
    },
    {
      "cell_type": "markdown",
      "source": [
        "Dropped columns did not stopped me to find duplicates in this dataframe but as this review is about expeditions there was no need to have all members listedwhere most of the values were repeated per expedition. Right now i will be able to find all duplicates that can be dropped and makes more sense for this review. I done that based on field ‘expedition_id’. I sorted values and finally dropped it and result saved to ‘exp_dup’. "
      ],
      "metadata": {
        "id": "0SZVplsLC-yC"
      }
    },
    {
      "cell_type": "code",
      "source": [
        "#finding duplicates\n",
        "duplicates = cleaning.duplicated(subset='expedition_id', keep=False)\n",
        "\n",
        "#sorting duplicates\n",
        "duplicated_expedition = cleaning[duplicates].sort_values(by ='expedition_id') \n",
        "\n",
        "# printing relevant columns of duplicated_expedition\n",
        "print(duplicated_expedition[['expedition_id']]) "
      ],
      "metadata": {
        "id": "Jc4jM-A2TID0",
        "colab": {
          "base_uri": "https://localhost:8080/"
        },
        "outputId": "8a23781a-f8d1-4350-bda7-36ba4c56b8f6"
      },
      "execution_count": 32,
      "outputs": [
        {
          "output_type": "stream",
          "name": "stdout",
          "text": [
            "      expedition_id\n",
            "75903     ACHN15301\n",
            "75902     ACHN15301\n",
            "75906     ACHN15301\n",
            "75905     ACHN15301\n",
            "75904     ACHN15301\n",
            "...             ...\n",
            "74525     YAUP17101\n",
            "74515     YAUP89301\n",
            "74516     YAUP89301\n",
            "74517     YAUP89301\n",
            "74518     YAUP89301\n",
            "\n",
            "[75741 rows x 1 columns]\n"
          ]
        }
      ]
    },
    {
      "cell_type": "code",
      "source": [
        "# Drop complete duplicates from cleaning \n",
        "exp_dup = cleaning.drop_duplicates()\n",
        "\n",
        "#printing relevant columns of duplicated\n",
        "print(exp_dup[['expedition_id']])"
      ],
      "metadata": {
        "id": "F8dG1CGqVF_g",
        "colab": {
          "base_uri": "https://localhost:8080/"
        },
        "outputId": "2df9011b-6301-48ab-fa3a-653a58be1dcc"
      },
      "execution_count": 33,
      "outputs": [
        {
          "output_type": "stream",
          "name": "stdout",
          "text": [
            "      expedition_id\n",
            "0         ANN260101\n",
            "19        ANN269301\n",
            "29        ANN273101\n",
            "35        ANN278301\n",
            "37        ANN279301\n",
            "...             ...\n",
            "76478     NUPL18301\n",
            "76490     TILK18301\n",
            "76495     YARA18301\n",
            "76498     GYLZ19101\n",
            "76508     SANK19101\n",
            "\n",
            "[11052 rows x 1 columns]\n"
          ]
        }
      ]
    },
    {
      "cell_type": "markdown",
      "source": [
        "Stripping down string from expedition_id using simple regex."
      ],
      "metadata": {
        "id": "URBsqkwLub7f"
      }
    },
    {
      "cell_type": "code",
      "source": [
        "#removing strings from expedition_id using regex\n",
        "exp_dup['expedition_id'].replace(to_replace=r'([a-zA-Z]+)', value='', regex=True)"
      ],
      "metadata": {
        "colab": {
          "base_uri": "https://localhost:8080/"
        },
        "id": "-kz1rsZtpSj_",
        "outputId": "0c477088-f015-49f5-9d40-fd6b09caf0d8"
      },
      "execution_count": 42,
      "outputs": [
        {
          "output_type": "execute_result",
          "data": {
            "text/plain": [
              "0        260101\n",
              "19       269301\n",
              "29       273101\n",
              "35       278301\n",
              "37       279301\n",
              "          ...  \n",
              "76478     18301\n",
              "76490     18301\n",
              "76495     18301\n",
              "76498     19101\n",
              "76508     19101\n",
              "Name: expedition_id, Length: 11052, dtype: object"
            ]
          },
          "metadata": {},
          "execution_count": 42
        }
      ]
    },
    {
      "cell_type": "markdown",
      "source": [
        "Cleaned data I saved to new file clean_everest.csv to avoid running all code boxes in python notebook. "
      ],
      "metadata": {
        "id": "_Q-X6on6J4xG"
      }
    },
    {
      "cell_type": "code",
      "source": [
        "#saving current content to a file \n",
        "exp_dup.to_csv(\"/content/drive/MyDrive/Colab Notebooks/everest_data/clean_everest.csv\")"
      ],
      "metadata": {
        "id": "x-DlqDVgDH2t"
      },
      "execution_count": 39,
      "outputs": []
    },
    {
      "cell_type": "markdown",
      "source": [
        "###Data exploration\n",
        "Cleaned data saved as result of cleaning are loaded as ‘dfc’.   "
      ],
      "metadata": {
        "id": "TIrg5wYK3Efy"
      }
    },
    {
      "cell_type": "code",
      "source": [
        "dfc = pd.read_csv(\"/content/drive/MyDrive/Colab Notebooks/everest_data/clean_everest.csv\")\n",
        "print(dfc.columns)"
      ],
      "metadata": {
        "id": "mPkb_Huj3iF9",
        "colab": {
          "base_uri": "https://localhost:8080/"
        },
        "outputId": "53489643-a3dc-4684-d638-9a60baa7c683"
      },
      "execution_count": 45,
      "outputs": [
        {
          "output_type": "stream",
          "name": "stdout",
          "text": [
            "Index(['Unnamed: 0', 'expedition_id', 'year_x', 'basecamp_date',\n",
            "       'highpoint_date', 'termination_date', 'termination_reason',\n",
            "       'highpoint_metres_x', 'members', 'member_deaths', 'hired_staff',\n",
            "       'hired_staff_deaths', 'height_metres', 'first_ascent_year', 'peak_name',\n",
            "       'death_cause'],\n",
            "      dtype='object')\n"
          ]
        }
      ]
    },
    {
      "cell_type": "markdown",
      "source": [
        "Features termination_reson and death_cause are nominal i need to convert it to dummy variables. I am doing it using dataframe option ‘.get_dummies’. "
      ],
      "metadata": {
        "id": "KWodoaWM_Mg9"
      }
    },
    {
      "cell_type": "code",
      "source": [
        "pd.get_dummies(dfc, columns=['death_cause', 'termination_reason'])"
      ],
      "metadata": {
        "colab": {
          "base_uri": "https://localhost:8080/",
          "height": 557
        },
        "id": "nNn8VB0j_aOB",
        "outputId": "f9b51044-6c94-4ff7-c776-e2fa9692540d"
      },
      "execution_count": 46,
      "outputs": [
        {
          "output_type": "execute_result",
          "data": {
            "text/plain": [
              "       Unnamed: 0  expedition_id  year_x basecamp_date highpoint_date  \\\n",
              "0               0         260101    1960    1960-03-15     1960-05-17   \n",
              "1              19         269301    1969    1969-09-25     1969-10-22   \n",
              "2              29         273101    1973    1973-03-16     1973-05-06   \n",
              "3              35         278301    1978    1978-09-08     1978-10-02   \n",
              "4              37         279301    1979           NaN     1979-10-18   \n",
              "...           ...            ...     ...           ...            ...   \n",
              "11047       76478          18301    2018    2018-10-28     2018-11-02   \n",
              "11048       76490          18301    2018    2018-10-06     2018-10-15   \n",
              "11049       76495          18301    2018    2018-09-10     2018-10-10   \n",
              "11050       76498          19101    2019    2019-04-03     2019-04-09   \n",
              "11051       76508          19101    2019    2019-04-05     2019-04-28   \n",
              "\n",
              "      termination_date  highpoint_metres_x  members  member_deaths  \\\n",
              "0                  NaN              7937.0       10              0   \n",
              "1           1969-10-26              7937.0       10              0   \n",
              "2                  NaN              7937.0        6              0   \n",
              "3           1978-10-05              7000.0        2              0   \n",
              "4           1979-10-20              7160.0        3              0   \n",
              "...                ...                 ...      ...            ...   \n",
              "11047       2018-11-03              6861.0        7              0   \n",
              "11048       2018-10-20              6369.0        5              0   \n",
              "11049              NaN              5900.0        3              0   \n",
              "11050       2019-04-12              6151.0        6              0   \n",
              "11051       2019-04-29              6452.0        2              0   \n",
              "\n",
              "       hired_staff  ...  termination_reason_Did not reach base camp  \\\n",
              "0                9  ...                                           0   \n",
              "1                0  ...                                           0   \n",
              "2                8  ...                                           0   \n",
              "3                0  ...                                           0   \n",
              "4                0  ...                                           0   \n",
              "...            ...  ...                                         ...   \n",
              "11047            5  ...                                           0   \n",
              "11048            0  ...                                           0   \n",
              "11049            0  ...                                           0   \n",
              "11050            4  ...                                           0   \n",
              "11051            1  ...                                           0   \n",
              "\n",
              "       termination_reason_Illness, AMS, exhaustion, or frostbite  \\\n",
              "0                                                      0           \n",
              "1                                                      0           \n",
              "2                                                      0           \n",
              "3                                                      0           \n",
              "4                                                      0           \n",
              "...                                                  ...           \n",
              "11047                                                  0           \n",
              "11048                                                  0           \n",
              "11049                                                  0           \n",
              "11050                                                  0           \n",
              "11051                                                  0           \n",
              "\n",
              "       termination_reason_Lack (or loss) of supplies or equipment  \\\n",
              "0                                                      0            \n",
              "1                                                      0            \n",
              "2                                                      0            \n",
              "3                                                      0            \n",
              "4                                                      0            \n",
              "...                                                  ...            \n",
              "11047                                                  0            \n",
              "11048                                                  0            \n",
              "11049                                                  0            \n",
              "11050                                                  0            \n",
              "11051                                                  0            \n",
              "\n",
              "      termination_reason_Lack of time  termination_reason_Other  \\\n",
              "0                                   0                         0   \n",
              "1                                   0                         0   \n",
              "2                                   0                         0   \n",
              "3                                   0                         0   \n",
              "4                                   0                         0   \n",
              "...                               ...                       ...   \n",
              "11047                               0                         0   \n",
              "11048                               0                         0   \n",
              "11049                               0                         0   \n",
              "11050                               0                         0   \n",
              "11051                               0                         0   \n",
              "\n",
              "       termination_reason_Route technically too difficult, lack of experience, strength, or motivation  \\\n",
              "0                                                      0                                                 \n",
              "1                                                      0                                                 \n",
              "2                                                      0                                                 \n",
              "3                                                      0                                                 \n",
              "4                                                      0                                                 \n",
              "...                                                  ...                                                 \n",
              "11047                                                  0                                                 \n",
              "11048                                                  0                                                 \n",
              "11049                                                  0                                                 \n",
              "11050                                                  0                                                 \n",
              "11051                                                  0                                                 \n",
              "\n",
              "       termination_reason_Success (claimed)  \\\n",
              "0                                         0   \n",
              "1                                         0   \n",
              "2                                         0   \n",
              "3                                         0   \n",
              "4                                         0   \n",
              "...                                     ...   \n",
              "11047                                     0   \n",
              "11048                                     0   \n",
              "11049                                     0   \n",
              "11050                                     0   \n",
              "11051                                     0   \n",
              "\n",
              "       termination_reason_Success (main peak)  \\\n",
              "0                                           1   \n",
              "1                                           1   \n",
              "2                                           1   \n",
              "3                                           0   \n",
              "4                                           0   \n",
              "...                                       ...   \n",
              "11047                                       1   \n",
              "11048                                       1   \n",
              "11049                                       0   \n",
              "11050                                       1   \n",
              "11051                                       1   \n",
              "\n",
              "       termination_reason_Success (subpeak)  termination_reason_Unknown  \n",
              "0                                         0                           0  \n",
              "1                                         0                           0  \n",
              "2                                         0                           0  \n",
              "3                                         0                           0  \n",
              "4                                         0                           0  \n",
              "...                                     ...                         ...  \n",
              "11047                                     0                           0  \n",
              "11048                                     0                           0  \n",
              "11049                                     0                           0  \n",
              "11050                                     0                           0  \n",
              "11051                                     0                           0  \n",
              "\n",
              "[11052 rows x 40 columns]"
            ],
            "text/html": [
              "\n",
              "  <div id=\"df-066f18aa-6f8d-47e2-b824-963508d1f88d\">\n",
              "    <div class=\"colab-df-container\">\n",
              "      <div>\n",
              "<style scoped>\n",
              "    .dataframe tbody tr th:only-of-type {\n",
              "        vertical-align: middle;\n",
              "    }\n",
              "\n",
              "    .dataframe tbody tr th {\n",
              "        vertical-align: top;\n",
              "    }\n",
              "\n",
              "    .dataframe thead th {\n",
              "        text-align: right;\n",
              "    }\n",
              "</style>\n",
              "<table border=\"1\" class=\"dataframe\">\n",
              "  <thead>\n",
              "    <tr style=\"text-align: right;\">\n",
              "      <th></th>\n",
              "      <th>Unnamed: 0</th>\n",
              "      <th>expedition_id</th>\n",
              "      <th>year_x</th>\n",
              "      <th>basecamp_date</th>\n",
              "      <th>highpoint_date</th>\n",
              "      <th>termination_date</th>\n",
              "      <th>highpoint_metres_x</th>\n",
              "      <th>members</th>\n",
              "      <th>member_deaths</th>\n",
              "      <th>hired_staff</th>\n",
              "      <th>...</th>\n",
              "      <th>termination_reason_Did not reach base camp</th>\n",
              "      <th>termination_reason_Illness, AMS, exhaustion, or frostbite</th>\n",
              "      <th>termination_reason_Lack (or loss) of supplies or equipment</th>\n",
              "      <th>termination_reason_Lack of time</th>\n",
              "      <th>termination_reason_Other</th>\n",
              "      <th>termination_reason_Route technically too difficult, lack of experience, strength, or motivation</th>\n",
              "      <th>termination_reason_Success (claimed)</th>\n",
              "      <th>termination_reason_Success (main peak)</th>\n",
              "      <th>termination_reason_Success (subpeak)</th>\n",
              "      <th>termination_reason_Unknown</th>\n",
              "    </tr>\n",
              "  </thead>\n",
              "  <tbody>\n",
              "    <tr>\n",
              "      <th>0</th>\n",
              "      <td>0</td>\n",
              "      <td>260101</td>\n",
              "      <td>1960</td>\n",
              "      <td>1960-03-15</td>\n",
              "      <td>1960-05-17</td>\n",
              "      <td>NaN</td>\n",
              "      <td>7937.0</td>\n",
              "      <td>10</td>\n",
              "      <td>0</td>\n",
              "      <td>9</td>\n",
              "      <td>...</td>\n",
              "      <td>0</td>\n",
              "      <td>0</td>\n",
              "      <td>0</td>\n",
              "      <td>0</td>\n",
              "      <td>0</td>\n",
              "      <td>0</td>\n",
              "      <td>0</td>\n",
              "      <td>1</td>\n",
              "      <td>0</td>\n",
              "      <td>0</td>\n",
              "    </tr>\n",
              "    <tr>\n",
              "      <th>1</th>\n",
              "      <td>19</td>\n",
              "      <td>269301</td>\n",
              "      <td>1969</td>\n",
              "      <td>1969-09-25</td>\n",
              "      <td>1969-10-22</td>\n",
              "      <td>1969-10-26</td>\n",
              "      <td>7937.0</td>\n",
              "      <td>10</td>\n",
              "      <td>0</td>\n",
              "      <td>0</td>\n",
              "      <td>...</td>\n",
              "      <td>0</td>\n",
              "      <td>0</td>\n",
              "      <td>0</td>\n",
              "      <td>0</td>\n",
              "      <td>0</td>\n",
              "      <td>0</td>\n",
              "      <td>0</td>\n",
              "      <td>1</td>\n",
              "      <td>0</td>\n",
              "      <td>0</td>\n",
              "    </tr>\n",
              "    <tr>\n",
              "      <th>2</th>\n",
              "      <td>29</td>\n",
              "      <td>273101</td>\n",
              "      <td>1973</td>\n",
              "      <td>1973-03-16</td>\n",
              "      <td>1973-05-06</td>\n",
              "      <td>NaN</td>\n",
              "      <td>7937.0</td>\n",
              "      <td>6</td>\n",
              "      <td>0</td>\n",
              "      <td>8</td>\n",
              "      <td>...</td>\n",
              "      <td>0</td>\n",
              "      <td>0</td>\n",
              "      <td>0</td>\n",
              "      <td>0</td>\n",
              "      <td>0</td>\n",
              "      <td>0</td>\n",
              "      <td>0</td>\n",
              "      <td>1</td>\n",
              "      <td>0</td>\n",
              "      <td>0</td>\n",
              "    </tr>\n",
              "    <tr>\n",
              "      <th>3</th>\n",
              "      <td>35</td>\n",
              "      <td>278301</td>\n",
              "      <td>1978</td>\n",
              "      <td>1978-09-08</td>\n",
              "      <td>1978-10-02</td>\n",
              "      <td>1978-10-05</td>\n",
              "      <td>7000.0</td>\n",
              "      <td>2</td>\n",
              "      <td>0</td>\n",
              "      <td>0</td>\n",
              "      <td>...</td>\n",
              "      <td>0</td>\n",
              "      <td>0</td>\n",
              "      <td>0</td>\n",
              "      <td>0</td>\n",
              "      <td>0</td>\n",
              "      <td>0</td>\n",
              "      <td>0</td>\n",
              "      <td>0</td>\n",
              "      <td>0</td>\n",
              "      <td>0</td>\n",
              "    </tr>\n",
              "    <tr>\n",
              "      <th>4</th>\n",
              "      <td>37</td>\n",
              "      <td>279301</td>\n",
              "      <td>1979</td>\n",
              "      <td>NaN</td>\n",
              "      <td>1979-10-18</td>\n",
              "      <td>1979-10-20</td>\n",
              "      <td>7160.0</td>\n",
              "      <td>3</td>\n",
              "      <td>0</td>\n",
              "      <td>0</td>\n",
              "      <td>...</td>\n",
              "      <td>0</td>\n",
              "      <td>0</td>\n",
              "      <td>0</td>\n",
              "      <td>0</td>\n",
              "      <td>0</td>\n",
              "      <td>0</td>\n",
              "      <td>0</td>\n",
              "      <td>0</td>\n",
              "      <td>0</td>\n",
              "      <td>0</td>\n",
              "    </tr>\n",
              "    <tr>\n",
              "      <th>...</th>\n",
              "      <td>...</td>\n",
              "      <td>...</td>\n",
              "      <td>...</td>\n",
              "      <td>...</td>\n",
              "      <td>...</td>\n",
              "      <td>...</td>\n",
              "      <td>...</td>\n",
              "      <td>...</td>\n",
              "      <td>...</td>\n",
              "      <td>...</td>\n",
              "      <td>...</td>\n",
              "      <td>...</td>\n",
              "      <td>...</td>\n",
              "      <td>...</td>\n",
              "      <td>...</td>\n",
              "      <td>...</td>\n",
              "      <td>...</td>\n",
              "      <td>...</td>\n",
              "      <td>...</td>\n",
              "      <td>...</td>\n",
              "      <td>...</td>\n",
              "    </tr>\n",
              "    <tr>\n",
              "      <th>11047</th>\n",
              "      <td>76478</td>\n",
              "      <td>18301</td>\n",
              "      <td>2018</td>\n",
              "      <td>2018-10-28</td>\n",
              "      <td>2018-11-02</td>\n",
              "      <td>2018-11-03</td>\n",
              "      <td>6861.0</td>\n",
              "      <td>7</td>\n",
              "      <td>0</td>\n",
              "      <td>5</td>\n",
              "      <td>...</td>\n",
              "      <td>0</td>\n",
              "      <td>0</td>\n",
              "      <td>0</td>\n",
              "      <td>0</td>\n",
              "      <td>0</td>\n",
              "      <td>0</td>\n",
              "      <td>0</td>\n",
              "      <td>1</td>\n",
              "      <td>0</td>\n",
              "      <td>0</td>\n",
              "    </tr>\n",
              "    <tr>\n",
              "      <th>11048</th>\n",
              "      <td>76490</td>\n",
              "      <td>18301</td>\n",
              "      <td>2018</td>\n",
              "      <td>2018-10-06</td>\n",
              "      <td>2018-10-15</td>\n",
              "      <td>2018-10-20</td>\n",
              "      <td>6369.0</td>\n",
              "      <td>5</td>\n",
              "      <td>0</td>\n",
              "      <td>0</td>\n",
              "      <td>...</td>\n",
              "      <td>0</td>\n",
              "      <td>0</td>\n",
              "      <td>0</td>\n",
              "      <td>0</td>\n",
              "      <td>0</td>\n",
              "      <td>0</td>\n",
              "      <td>0</td>\n",
              "      <td>1</td>\n",
              "      <td>0</td>\n",
              "      <td>0</td>\n",
              "    </tr>\n",
              "    <tr>\n",
              "      <th>11049</th>\n",
              "      <td>76495</td>\n",
              "      <td>18301</td>\n",
              "      <td>2018</td>\n",
              "      <td>2018-09-10</td>\n",
              "      <td>2018-10-10</td>\n",
              "      <td>NaN</td>\n",
              "      <td>5900.0</td>\n",
              "      <td>3</td>\n",
              "      <td>0</td>\n",
              "      <td>0</td>\n",
              "      <td>...</td>\n",
              "      <td>0</td>\n",
              "      <td>0</td>\n",
              "      <td>0</td>\n",
              "      <td>0</td>\n",
              "      <td>0</td>\n",
              "      <td>0</td>\n",
              "      <td>0</td>\n",
              "      <td>0</td>\n",
              "      <td>0</td>\n",
              "      <td>0</td>\n",
              "    </tr>\n",
              "    <tr>\n",
              "      <th>11050</th>\n",
              "      <td>76498</td>\n",
              "      <td>19101</td>\n",
              "      <td>2019</td>\n",
              "      <td>2019-04-03</td>\n",
              "      <td>2019-04-09</td>\n",
              "      <td>2019-04-12</td>\n",
              "      <td>6151.0</td>\n",
              "      <td>6</td>\n",
              "      <td>0</td>\n",
              "      <td>4</td>\n",
              "      <td>...</td>\n",
              "      <td>0</td>\n",
              "      <td>0</td>\n",
              "      <td>0</td>\n",
              "      <td>0</td>\n",
              "      <td>0</td>\n",
              "      <td>0</td>\n",
              "      <td>0</td>\n",
              "      <td>1</td>\n",
              "      <td>0</td>\n",
              "      <td>0</td>\n",
              "    </tr>\n",
              "    <tr>\n",
              "      <th>11051</th>\n",
              "      <td>76508</td>\n",
              "      <td>19101</td>\n",
              "      <td>2019</td>\n",
              "      <td>2019-04-05</td>\n",
              "      <td>2019-04-28</td>\n",
              "      <td>2019-04-29</td>\n",
              "      <td>6452.0</td>\n",
              "      <td>2</td>\n",
              "      <td>0</td>\n",
              "      <td>1</td>\n",
              "      <td>...</td>\n",
              "      <td>0</td>\n",
              "      <td>0</td>\n",
              "      <td>0</td>\n",
              "      <td>0</td>\n",
              "      <td>0</td>\n",
              "      <td>0</td>\n",
              "      <td>0</td>\n",
              "      <td>1</td>\n",
              "      <td>0</td>\n",
              "      <td>0</td>\n",
              "    </tr>\n",
              "  </tbody>\n",
              "</table>\n",
              "<p>11052 rows × 40 columns</p>\n",
              "</div>\n",
              "      <button class=\"colab-df-convert\" onclick=\"convertToInteractive('df-066f18aa-6f8d-47e2-b824-963508d1f88d')\"\n",
              "              title=\"Convert this dataframe to an interactive table.\"\n",
              "              style=\"display:none;\">\n",
              "        \n",
              "  <svg xmlns=\"http://www.w3.org/2000/svg\" height=\"24px\"viewBox=\"0 0 24 24\"\n",
              "       width=\"24px\">\n",
              "    <path d=\"M0 0h24v24H0V0z\" fill=\"none\"/>\n",
              "    <path d=\"M18.56 5.44l.94 2.06.94-2.06 2.06-.94-2.06-.94-.94-2.06-.94 2.06-2.06.94zm-11 1L8.5 8.5l.94-2.06 2.06-.94-2.06-.94L8.5 2.5l-.94 2.06-2.06.94zm10 10l.94 2.06.94-2.06 2.06-.94-2.06-.94-.94-2.06-.94 2.06-2.06.94z\"/><path d=\"M17.41 7.96l-1.37-1.37c-.4-.4-.92-.59-1.43-.59-.52 0-1.04.2-1.43.59L10.3 9.45l-7.72 7.72c-.78.78-.78 2.05 0 2.83L4 21.41c.39.39.9.59 1.41.59.51 0 1.02-.2 1.41-.59l7.78-7.78 2.81-2.81c.8-.78.8-2.07 0-2.86zM5.41 20L4 18.59l7.72-7.72 1.47 1.35L5.41 20z\"/>\n",
              "  </svg>\n",
              "      </button>\n",
              "      \n",
              "  <style>\n",
              "    .colab-df-container {\n",
              "      display:flex;\n",
              "      flex-wrap:wrap;\n",
              "      gap: 12px;\n",
              "    }\n",
              "\n",
              "    .colab-df-convert {\n",
              "      background-color: #E8F0FE;\n",
              "      border: none;\n",
              "      border-radius: 50%;\n",
              "      cursor: pointer;\n",
              "      display: none;\n",
              "      fill: #1967D2;\n",
              "      height: 32px;\n",
              "      padding: 0 0 0 0;\n",
              "      width: 32px;\n",
              "    }\n",
              "\n",
              "    .colab-df-convert:hover {\n",
              "      background-color: #E2EBFA;\n",
              "      box-shadow: 0px 1px 2px rgba(60, 64, 67, 0.3), 0px 1px 3px 1px rgba(60, 64, 67, 0.15);\n",
              "      fill: #174EA6;\n",
              "    }\n",
              "\n",
              "    [theme=dark] .colab-df-convert {\n",
              "      background-color: #3B4455;\n",
              "      fill: #D2E3FC;\n",
              "    }\n",
              "\n",
              "    [theme=dark] .colab-df-convert:hover {\n",
              "      background-color: #434B5C;\n",
              "      box-shadow: 0px 1px 3px 1px rgba(0, 0, 0, 0.15);\n",
              "      filter: drop-shadow(0px 1px 2px rgba(0, 0, 0, 0.3));\n",
              "      fill: #FFFFFF;\n",
              "    }\n",
              "  </style>\n",
              "\n",
              "      <script>\n",
              "        const buttonEl =\n",
              "          document.querySelector('#df-066f18aa-6f8d-47e2-b824-963508d1f88d button.colab-df-convert');\n",
              "        buttonEl.style.display =\n",
              "          google.colab.kernel.accessAllowed ? 'block' : 'none';\n",
              "\n",
              "        async function convertToInteractive(key) {\n",
              "          const element = document.querySelector('#df-066f18aa-6f8d-47e2-b824-963508d1f88d');\n",
              "          const dataTable =\n",
              "            await google.colab.kernel.invokeFunction('convertToInteractive',\n",
              "                                                     [key], {});\n",
              "          if (!dataTable) return;\n",
              "\n",
              "          const docLinkHtml = 'Like what you see? Visit the ' +\n",
              "            '<a target=\"_blank\" href=https://colab.research.google.com/notebooks/data_table.ipynb>data table notebook</a>'\n",
              "            + ' to learn more about interactive tables.';\n",
              "          element.innerHTML = '';\n",
              "          dataTable['output_type'] = 'display_data';\n",
              "          await google.colab.output.renderOutput(dataTable, element);\n",
              "          const docLink = document.createElement('div');\n",
              "          docLink.innerHTML = docLinkHtml;\n",
              "          element.appendChild(docLink);\n",
              "        }\n",
              "      </script>\n",
              "    </div>\n",
              "  </div>\n",
              "  "
            ]
          },
          "metadata": {},
          "execution_count": 46
        }
      ]
    },
    {
      "cell_type": "markdown",
      "source": [
        "To  get feeling an overview current dataset I want to show overall procentage of reasons to die in Himalaya based on all 114 years of experience. I am not really curius about exact procentage value but more generic representaion. I am going to represent this using pie chart. "
      ],
      "metadata": {
        "id": "T5dP-yveYa1j"
      }
    },
    {
      "cell_type": "code",
      "source": [
        "reason = dfc['death_cause']\n",
        "sum_reason = reason.value_counts()\n",
        "plt.figure(figsize=(9,9), dpi=80)\n",
        "plt.pie(sum_reason, labels=sum_reason.index.tolist(), counterclock=False, startangle=0)\n",
        "plt.axis('equal')\n",
        "plt.title('Death reason', fontsize=16)\n",
        "plt.show()"
      ],
      "metadata": {
        "colab": {
          "base_uri": "https://localhost:8080/",
          "height": 597
        },
        "id": "MH_YYJH9cae8",
        "outputId": "30d652ac-9f92-4cdd-d35f-e9198a7b96d7"
      },
      "execution_count": 49,
      "outputs": [
        {
          "output_type": "display_data",
          "data": {
            "text/plain": [
              "<Figure size 720x720 with 1 Axes>"
            ],
            "image/png": "[encoded data removed]"
          },
          "metadata": {}
        }
      ]
    },
    {
      "cell_type": "markdown",
      "source": [
        "Graph 1. Death reason based on 114 years dataframe.\n",
        "\n"
      ],
      "metadata": {
        "id": "LAlSIcR1IL9D"
      }
    },
    {
      "cell_type": "markdown",
      "source": [
        "Avalanches, AMS(Alternated Mind status - caused by trauma or intoxication) and Illnes are the main reasons for death after falling. The same chart and same period of time just on termination reason for expeditions. "
      ],
      "metadata": {
        "id": "Q4pFQArcaBzj"
      }
    },
    {
      "cell_type": "code",
      "source": [
        "termination=dfc['termination_reason']\n",
        "sum_reason = termination.value_counts()\n",
        "plt.figure(figsize=(9,9), dpi=80)\n",
        "plt.pie(sum_reason, labels=sum_reason.index.tolist(), counterclock=False, startangle=0)\n",
        "plt.axis('equal')\n",
        "plt.title('termination_reason', fontsize=16)\n",
        "plt.show()"
      ],
      "metadata": {
        "colab": {
          "base_uri": "https://localhost:8080/",
          "height": 606
        },
        "id": "3zjrhWCC5AcB",
        "outputId": "241266cb-fb33-4827-c659-ff062ef733a2"
      },
      "execution_count": 5,
      "outputs": [
        {
          "output_type": "display_data",
          "data": {
            "text/plain": [
              "<Figure size 720x720 with 1 Axes>"
            ],
            "image/png": "[encoded data removed]"
          },
          "metadata": {}
        }
      ]
    },
    {
      "cell_type": "markdown",
      "source": [
        "Graph 2. Termination reason based on 114 years data\n",
        "\n",
        "This column will get useful further in this paper when I will try to narrow down ‘goal 3’."
      ],
      "metadata": {
        "id": "frrsMYdfaIWB"
      }
    },
    {
      "cell_type": "markdown",
      "source": [
        "Getting back to our goals and split data for goal 1 which is before 1910 assign it to dataframe ‘before1910’ and after 1911 assigned to ‘after1910’ . For goal 2 I will split from 1905 to 1960 and assigned to ‘no_harness_rope’ and from 1961 to 2019 assigned to ‘yes_harnes_rope’"
      ],
      "metadata": {
        "id": "VWJXQnJVTcDL"
      }
    },
    {
      "cell_type": "code",
      "source": [
        "#spliting dfc for goal 1.\n",
        "before1910 = dfc[dfc['year_x'] < 1910]\n",
        "after1910 = dfc[dfc['year_x'] > 1911]\n",
        "\n",
        "#spliting dfc for goal 2.\n",
        "no_harness_rope = dfc[dfc['year_x'] < 1960]\n",
        "yes_harness_rope = dfc[dfc['year_x'] > 1961]\n"
      ],
      "metadata": {
        "id": "YWDqsNobf_Nz"
      },
      "execution_count": 54,
      "outputs": []
    },
    {
      "cell_type": "markdown",
      "source": [
        "Before in the cleaning part there were columnes dropped as non-important for this review. At the moment as I am thinking to build predictive model I want to drop another column called 'peak_name' as its not numerical. "
      ],
      "metadata": {
        "id": "UOEXI9xK3u0u"
      }
    },
    {
      "cell_type": "code",
      "source": [
        "before1910 = before1910.drop(columns=['peak_name'])\n",
        "after1910 = after1910.drop(columns=['peak_name'])\n",
        "no_harness_rope = no_harness_rope.drop(columns=['peak_name'])\n",
        "yes_harness_rope = yes_harness_rope.drop(columns=['peak_name'])"
      ],
      "metadata": {
        "id": "uGGYzi_S4c8M"
      },
      "execution_count": 55,
      "outputs": []
    },
    {
      "cell_type": "markdown",
      "source": [
        "I want to keep exploring to find at least \"apparent effect\" that reasons are changing within the years."
      ],
      "metadata": {
        "id": "0lVBeQKEO8fj"
      }
    },
    {
      "cell_type": "code",
      "source": [
        "reason_before1910 = before1910['death_cause']\n",
        "sum_reason = reason_before1910.value_counts()\n",
        "plt.figure(figsize=(9,9), dpi=80)\n",
        "plt.pie(sum_reason, labels=sum_reason.index.tolist(), counterclock=False, startangle=0)\n",
        "plt.axis('equal')\n",
        "plt.title('Death reason before 1910', fontsize=16)\n",
        "plt.show()"
      ],
      "metadata": {
        "colab": {
          "base_uri": "https://localhost:8080/",
          "height": 597
        },
        "id": "boBVFvs7QZmq",
        "outputId": "c3be4efa-a391-47b9-f54f-2e01b5eac304"
      },
      "execution_count": 56,
      "outputs": [
        {
          "output_type": "display_data",
          "data": {
            "text/plain": [
              "<Figure size 720x720 with 1 Axes>"
            ],
            "image/png": "[encoded data removed]"
          },
          "metadata": {}
        }
      ]
    },
    {
      "cell_type": "markdown",
      "source": [
        "Graph 3: Death reason before 1910"
      ],
      "metadata": {
        "id": "yKzT56-1tS4c"
      }
    },
    {
      "cell_type": "markdown",
      "source": [
        "The result is actually schocking it appear that falling was the only reason to die in high montains before 1910. Other reasons like frostbite, ilness or avalanche was not the case in this years. However while looking at amount of records used for this graph its obvious that there was not enough observations."
      ],
      "metadata": {
        "id": "CQkPj0u8SBbM"
      }
    },
    {
      "cell_type": "code",
      "source": [
        "reason_no_harness_rope = no_harness_rope['death_cause']\n",
        "sum_reason = reason_no_harness_rope.value_counts()\n",
        "plt.figure(figsize=(9,9), dpi=80)\n",
        "plt.pie(sum_reason, labels=sum_reason.index.tolist(), counterclock=False, startangle=0)\n",
        "plt.axis('equal')\n",
        "plt.title('Death reason before 1960', fontsize=16)\n",
        "plt.show()"
      ],
      "metadata": {
        "colab": {
          "base_uri": "https://localhost:8080/",
          "height": 597
        },
        "id": "ecXTCV7bQsZV",
        "outputId": "47465e3e-c064-43cb-f837-cc8b12d49c77"
      },
      "execution_count": 57,
      "outputs": [
        {
          "output_type": "display_data",
          "data": {
            "text/plain": [
              "<Figure size 720x720 with 1 Axes>"
            ],
            "image/png": "[encoded data removed]"
          },
          "metadata": {}
        }
      ]
    },
    {
      "cell_type": "markdown",
      "source": [
        "Graph 4: Death reason before 1960"
      ],
      "metadata": {
        "id": "ZYq8RqgztdzC"
      }
    },
    {
      "cell_type": "markdown",
      "source": [
        "Pie chart for data before 1960 indicate that avalanche and ilness was the biggest reasons to die and falling going into third place. "
      ],
      "metadata": {
        "id": "JrUz9WuAUUuG"
      }
    },
    {
      "cell_type": "code",
      "source": [
        "reason_yes_harness_rope = yes_harness_rope['death_cause']\n",
        "sum_reason = reason_yes_harness_rope.value_counts()\n",
        "plt.figure(figsize=(9,9), dpi=80)\n",
        "plt.pie(sum_reason, labels=sum_reason.index.tolist(), counterclock=False, startangle=0)\n",
        "plt.axis('equal')\n",
        "plt.title('Death reason after 1960', fontsize=16)\n",
        "plt.show()"
      ],
      "metadata": {
        "colab": {
          "base_uri": "https://localhost:8080/",
          "height": 597
        },
        "id": "qBrfAh2psTpQ",
        "outputId": "b930af29-bc03-4a32-eb9d-9d3e542171d9"
      },
      "execution_count": 58,
      "outputs": [
        {
          "output_type": "display_data",
          "data": {
            "text/plain": [
              "<Figure size 720x720 with 1 Axes>"
            ],
            "image/png": "[encoded data removed]"
          },
          "metadata": {}
        }
      ]
    },
    {
      "cell_type": "markdown",
      "source": [
        "Graph 5: Death reason after 1960"
      ],
      "metadata": {
        "id": "YZf5DHjetir-"
      }
    },
    {
      "cell_type": "markdown",
      "source": [
        "Graphs 5 and 1 are very similar but graphs 3 and 4 indicating that resons were changing along the years . "
      ],
      "metadata": {
        "id": "UYbF-hoNtzbb"
      }
    },
    {
      "cell_type": "markdown",
      "source": [
        "###Data modeling\n",
        "\n",
        "Chi-Squared Test for comparing. I want to predict more samples for befo1910 set. \n",
        "\n",
        "\n",
        "Stratified Train-Test Splits\n",
        "One final consideration is for classification problems only.\n",
        "\n",
        "Some classification problems do not have a balanced number of examples for each class label. As such, it is desirable to split the dataset into train and test sets in a way that preserves the same proportions of examples in each class as observed in the original dataset.\n",
        "\n",
        "This is called a stratified train-test split.\n",
        "from**\n",
        "https://machinelearningmastery.com/train-test-split-for-evaluating-machine-learning-algorithms/\n",
        "\n"
      ],
      "metadata": {
        "id": "nerEFxioEpkF"
      }
    },
    {
      "cell_type": "markdown",
      "source": [
        " * * * * * *  * Next I am going to generate more samples for before1910 and compare it with after1910. not sure which algorithm should I use for this comparation.\n",
        "\n",
        "convert nominal to numerical values\n",
        " https://machinelearningmastery.com/one-hot-encoding-for-categorical-data/\n",
        "\n",
        "generating more samples:\n",
        "https://machinelearningmastery.com/generate-test-datasets-python-scikit-learn/\n",
        "\n",
        "\n",
        "comparing:\n",
        "https://towardsdatascience.com/how-to-compare-two-or-more-distributions-9b06ee4d30bf"
      ],
      "metadata": {
        "id": "4lLIAXcvHNlf"
      }
    },
    {
      "cell_type": "markdown",
      "source": [
        "##Results\n",
        "(include the charts and describe them\n",
        "\n",
        "##Insights\n",
        "(point out at least 5 insights in bullet points\n",
        "\n",
        "###References\n",
        "\n",
        "Data_set - https://www.kaggle.com/datasets/majunbajun/himalayan-climbing-expeditions\n",
        "\n",
        "Article - https://www.theguardian.com/world/2020/jun/06/everyone-is-in-that-fine-line-between-death-and-life-inside-everests-deadliest-queue\n",
        "\n",
        "convert nominal to numerical values\n",
        " https://machinelearningmastery.com/one-hot-encoding-for-categorical-data/\n",
        "\n",
        "generating more samples:\n",
        "https://machinelearningmastery.com/generate-test-datasets-python-scikit-learn/\n",
        "\n",
        "\n",
        "comparing:\n",
        "https://towardsdatascience.com/how-to-compare-two-or-more-distributions-9b06ee4d30bf"
      ],
      "metadata": {
        "id": "c9S8XjwC-F4s"
      }
    },
    {
      "cell_type": "markdown",
      "source": [
        "###Jakub Checklist \n",
        "\n",
        "This section is for me to make sure I am verifying myself according to quidelines\n",
        "- [x] this document contain 1500 to 2000 words\n",
        "1. Real-world Scenario\n",
        "- [x] project is using real-world dataset and include reference in report(5)\n",
        "2. Importing data\n",
        "- [x] making use of API, relational db, webscrapping(10)\n",
        "- [x] imported CSV file into pandas DT(10)\n",
        "3. Analysing Data\n",
        "- [x] used regex to extract pattern in data(10)\n",
        "- [x] replaced missing values or droped duplicates(10)\n",
        "- [x] used iterators (5)\n",
        "- [x] Merged DataFrames(5)\n",
        "4. Python\n",
        "- [ ] defined a custom function to create reusable code (5)\n",
        "- [x] NumPy (5)\n",
        "- [ ] Dictionary or lists (5)\n",
        "5. Machine Learning (30)\n",
        "- [ ] Predict Target variable with Supervised or Unsupervised algorithm (any alg. you like)\n",
        "- [ ] Perform Hyper Parameter tuning or boosting if relevant if not just justyfy that in report and Python comments\n",
        "6. Visualise\n",
        "- [x] Present two charts in Seaborn or Matplotlib (10)\n",
        "7. Generate valuable Insights\n",
        "- [ ] mentioned 5 insights from the Project(10)\n",
        "8. Report(30)\n",
        "\n"
      ],
      "metadata": {
        "id": "v7kLqscrChYL"
      }
    }
  ]
}