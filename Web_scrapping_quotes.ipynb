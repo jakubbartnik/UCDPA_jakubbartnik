{
  "nbformat": 4,
  "nbformat_minor": 0,
  "metadata": {
    "colab": {
      "provenance": []
    },
    "kernelspec": {
      "name": "python3",
      "display_name": "Python 3"
    },
    "language_info": {
      "name": "python"
    }
  },
  "cells": [
    {
      "cell_type": "markdown",
      "source": [
        "#Web scrapping\n",
        "Pourpose of this notebook is to demonstrate webscrapping using BeatifulSoup\n",
        "\n"
      ],
      "metadata": {
        "id": "Eh9LPMgq0B5n"
      }
    },
    {
      "cell_type": "code",
      "execution_count": 42,
      "metadata": {
        "id": "DwXSm99iz0KN"
      },
      "outputs": [],
      "source": [
        "from bs4 import BeautifulSoup \n",
        "import requests\n",
        "import numpy as np\n",
        "import pandas as pd"
      ]
    },
    {
      "cell_type": "markdown",
      "source": [
        "I chose the simplest possible webpage for this task."
      ],
      "metadata": {
        "id": "Q4IzsiJmz9Sz"
      }
    },
    {
      "cell_type": "code",
      "source": [
        "scrapurl = requests.get(\"https://quotes.toscrape.com\")\n",
        "soup = BeautifulSoup(scrapurl.text, \"html.parser\")\n"
      ],
      "metadata": {
        "id": "3KLH4WpaGbwX"
      },
      "execution_count": 36,
      "outputs": []
    },
    {
      "cell_type": "markdown",
      "source": [
        "Took a while for me to figure out how each quote has been represented in html code. I am using simple option to find all the following - \"span class=\"text\" itemprop=\"text\" and \"small class=\"author\" itemprop=\"author\""
      ],
      "metadata": {
        "id": "ke4urgLFOWuV"
      }
    },
    {
      "cell_type": "code",
      "source": [
        "quotes = soup.findAll(\"span\", attrs={\"class\":\"text\"})\n",
        "authors = soup.findAll(\"small\", attrs={\"class\":\"author\"})"
      ],
      "metadata": {
        "id": "fEmqpZf3Ogmc"
      },
      "execution_count": 37,
      "outputs": []
    },
    {
      "cell_type": "markdown",
      "source": [
        "To print original parsed web content"
      ],
      "metadata": {
        "id": "YvJQ34HHOmMT"
      }
    },
    {
      "cell_type": "code",
      "source": [
        "print(soup)"
      ],
      "metadata": {
        "id": "xq8pbK9e2UWH"
      },
      "execution_count": null,
      "outputs": []
    },
    {
      "cell_type": "markdown",
      "source": [
        "To print text content of webpage I need to iterate my quotes and authors. I am using combined zip to get format \"quote\" - \"author\""
      ],
      "metadata": {
        "id": "dkhQptjPH3Y-"
      }
    },
    {
      "cell_type": "code",
      "source": [
        "for quote, author in zip(quotes, authors):\n",
        "  print(quote.text + \", \" + author.text)"
      ],
      "metadata": {
        "colab": {
          "base_uri": "https://localhost:8080/"
        },
        "id": "NCiUs9MU20hU",
        "outputId": "d1c5fbef-926e-4004-f15a-3d589bbb6304"
      },
      "execution_count": 39,
      "outputs": [
        {
          "output_type": "stream",
          "name": "stdout",
          "text": [
            "“The world as we have created it is a process of our thinking. It cannot be changed without changing our thinking.”, Albert Einstein\n",
            "“It is our choices, Harry, that show what we truly are, far more than our abilities.”, J.K. Rowling\n",
            "“There are only two ways to live your life. One is as though nothing is a miracle. The other is as though everything is a miracle.”, Albert Einstein\n",
            "“The person, be it gentleman or lady, who has not pleasure in a good novel, must be intolerably stupid.”, Jane Austen\n",
            "“Imperfection is beauty, madness is genius and it's better to be absolutely ridiculous than absolutely boring.”, Marilyn Monroe\n",
            "“Try not to become a man of success. Rather become a man of value.”, Albert Einstein\n",
            "“It is better to be hated for what you are than to be loved for what you are not.”, André Gide\n",
            "“I have not failed. I've just found 10,000 ways that won't work.”, Thomas A. Edison\n",
            "“A woman is like a tea bag; you never know how strong it is until it's in hot water.”, Eleanor Roosevelt\n",
            "“A day without sunshine is like, you know, night.”, Steve Martin\n"
          ]
        }
      ]
    },
    {
      "cell_type": "code",
      "source": [
        "#adding it to numpy array\n",
        "table = np.array(list(zip(quotes, authors)))"
      ],
      "metadata": {
        "id": "jcSxjTCUZj4_"
      },
      "execution_count": 40,
      "outputs": []
    },
    {
      "cell_type": "code",
      "source": [
        "print(table)"
      ],
      "metadata": {
        "colab": {
          "base_uri": "https://localhost:8080/"
        },
        "id": "4u6o45HraHbI",
        "outputId": "04fafa5d-38b3-4321-87d9-947ff5653c25"
      },
      "execution_count": 48,
      "outputs": [
        {
          "output_type": "stream",
          "name": "stdout",
          "text": [
            "[[['“The world as we have created it is a process of our thinking. It cannot be changed without changing our thinking.”']\n",
            "  ['Albert Einstein']]\n",
            "\n",
            " [['“It is our choices, Harry, that show what we truly are, far more than our abilities.”']\n",
            "  ['J.K. Rowling']]\n",
            "\n",
            " [['“There are only two ways to live your life. One is as though nothing is a miracle. The other is as though everything is a miracle.”']\n",
            "  ['Albert Einstein']]\n",
            "\n",
            " [['“The person, be it gentleman or lady, who has not pleasure in a good novel, must be intolerably stupid.”']\n",
            "  ['Jane Austen']]\n",
            "\n",
            " [[\"“Imperfection is beauty, madness is genius and it's better to be absolutely ridiculous than absolutely boring.”\"]\n",
            "  ['Marilyn Monroe']]\n",
            "\n",
            " [['“Try not to become a man of success. Rather become a man of value.”']\n",
            "  ['Albert Einstein']]\n",
            "\n",
            " [['“It is better to be hated for what you are than to be loved for what you are not.”']\n",
            "  ['André Gide']]\n",
            "\n",
            " [[\"“I have not failed. I've just found 10,000 ways that won't work.”\"]\n",
            "  ['Thomas A. Edison']]\n",
            "\n",
            " [[\"“A woman is like a tea bag; you never know how strong it is until it's in hot water.”\"]\n",
            "  ['Eleanor Roosevelt']]\n",
            "\n",
            " [['“A day without sunshine is like, you know, night.”']\n",
            "  ['Steve Martin']]]\n"
          ]
        }
      ]
    },
    {
      "cell_type": "markdown",
      "source": [
        "converting table to dataframe"
      ],
      "metadata": {
        "id": "nCf8lIyoa00C"
      }
    },
    {
      "cell_type": "code",
      "source": [
        "df = pd.DataFrame.from_records(table)"
      ],
      "metadata": {
        "id": "A4wTXUqWa5kb"
      },
      "execution_count": 54,
      "outputs": []
    },
    {
      "cell_type": "code",
      "source": [
        "df.head(20)"
      ],
      "metadata": {
        "colab": {
          "base_uri": "https://localhost:8080/",
          "height": 363
        },
        "id": "iGOMqhx0gHNO",
        "outputId": "d7eedf17-789e-4675-9a59-ecc7920d3ebb"
      },
      "execution_count": 56,
      "outputs": [
        {
          "output_type": "execute_result",
          "data": {
            "text/plain": [
              "                                                   0                    1\n",
              "0  [“The world as we have created it is a process...    [Albert Einstein]\n",
              "1  [“It is our choices, Harry, that show what we ...       [J.K. Rowling]\n",
              "2  [“There are only two ways to live your life. O...    [Albert Einstein]\n",
              "3  [“The person, be it gentleman or lady, who has...        [Jane Austen]\n",
              "4  [“Imperfection is beauty, madness is genius an...     [Marilyn Monroe]\n",
              "5  [“Try not to become a man of success. Rather b...    [Albert Einstein]\n",
              "6  [“It is better to be hated for what you are th...         [André Gide]\n",
              "7  [“I have not failed. I've just found 10,000 wa...   [Thomas A. Edison]\n",
              "8  [“A woman is like a tea bag; you never know ho...  [Eleanor Roosevelt]\n",
              "9  [“A day without sunshine is like, you know, ni...       [Steve Martin]"
            ],
            "text/html": [
              "\n",
              "  <div id=\"df-e86deb82-fc8e-4c55-98de-3638800c5ca9\">\n",
              "    <div class=\"colab-df-container\">\n",
              "      <div>\n",
              "<style scoped>\n",
              "    .dataframe tbody tr th:only-of-type {\n",
              "        vertical-align: middle;\n",
              "    }\n",
              "\n",
              "    .dataframe tbody tr th {\n",
              "        vertical-align: top;\n",
              "    }\n",
              "\n",
              "    .dataframe thead th {\n",
              "        text-align: right;\n",
              "    }\n",
              "</style>\n",
              "<table border=\"1\" class=\"dataframe\">\n",
              "  <thead>\n",
              "    <tr style=\"text-align: right;\">\n",
              "      <th></th>\n",
              "      <th>0</th>\n",
              "      <th>1</th>\n",
              "    </tr>\n",
              "  </thead>\n",
              "  <tbody>\n",
              "    <tr>\n",
              "      <th>0</th>\n",
              "      <td>[“The world as we have created it is a process...</td>\n",
              "      <td>[Albert Einstein]</td>\n",
              "    </tr>\n",
              "    <tr>\n",
              "      <th>1</th>\n",
              "      <td>[“It is our choices, Harry, that show what we ...</td>\n",
              "      <td>[J.K. Rowling]</td>\n",
              "    </tr>\n",
              "    <tr>\n",
              "      <th>2</th>\n",
              "      <td>[“There are only two ways to live your life. O...</td>\n",
              "      <td>[Albert Einstein]</td>\n",
              "    </tr>\n",
              "    <tr>\n",
              "      <th>3</th>\n",
              "      <td>[“The person, be it gentleman or lady, who has...</td>\n",
              "      <td>[Jane Austen]</td>\n",
              "    </tr>\n",
              "    <tr>\n",
              "      <th>4</th>\n",
              "      <td>[“Imperfection is beauty, madness is genius an...</td>\n",
              "      <td>[Marilyn Monroe]</td>\n",
              "    </tr>\n",
              "    <tr>\n",
              "      <th>5</th>\n",
              "      <td>[“Try not to become a man of success. Rather b...</td>\n",
              "      <td>[Albert Einstein]</td>\n",
              "    </tr>\n",
              "    <tr>\n",
              "      <th>6</th>\n",
              "      <td>[“It is better to be hated for what you are th...</td>\n",
              "      <td>[André Gide]</td>\n",
              "    </tr>\n",
              "    <tr>\n",
              "      <th>7</th>\n",
              "      <td>[“I have not failed. I've just found 10,000 wa...</td>\n",
              "      <td>[Thomas A. Edison]</td>\n",
              "    </tr>\n",
              "    <tr>\n",
              "      <th>8</th>\n",
              "      <td>[“A woman is like a tea bag; you never know ho...</td>\n",
              "      <td>[Eleanor Roosevelt]</td>\n",
              "    </tr>\n",
              "    <tr>\n",
              "      <th>9</th>\n",
              "      <td>[“A day without sunshine is like, you know, ni...</td>\n",
              "      <td>[Steve Martin]</td>\n",
              "    </tr>\n",
              "  </tbody>\n",
              "</table>\n",
              "</div>\n",
              "      <button class=\"colab-df-convert\" onclick=\"convertToInteractive('df-e86deb82-fc8e-4c55-98de-3638800c5ca9')\"\n",
              "              title=\"Convert this dataframe to an interactive table.\"\n",
              "              style=\"display:none;\">\n",
              "        \n",
              "  <svg xmlns=\"http://www.w3.org/2000/svg\" height=\"24px\"viewBox=\"0 0 24 24\"\n",
              "       width=\"24px\">\n",
              "    <path d=\"M0 0h24v24H0V0z\" fill=\"none\"/>\n",
              "    <path d=\"M18.56 5.44l.94 2.06.94-2.06 2.06-.94-2.06-.94-.94-2.06-.94 2.06-2.06.94zm-11 1L8.5 8.5l.94-2.06 2.06-.94-2.06-.94L8.5 2.5l-.94 2.06-2.06.94zm10 10l.94 2.06.94-2.06 2.06-.94-2.06-.94-.94-2.06-.94 2.06-2.06.94z\"/><path d=\"M17.41 7.96l-1.37-1.37c-.4-.4-.92-.59-1.43-.59-.52 0-1.04.2-1.43.59L10.3 9.45l-7.72 7.72c-.78.78-.78 2.05 0 2.83L4 21.41c.39.39.9.59 1.41.59.51 0 1.02-.2 1.41-.59l7.78-7.78 2.81-2.81c.8-.78.8-2.07 0-2.86zM5.41 20L4 18.59l7.72-7.72 1.47 1.35L5.41 20z\"/>\n",
              "  </svg>\n",
              "      </button>\n",
              "      \n",
              "  <style>\n",
              "    .colab-df-container {\n",
              "      display:flex;\n",
              "      flex-wrap:wrap;\n",
              "      gap: 12px;\n",
              "    }\n",
              "\n",
              "    .colab-df-convert {\n",
              "      background-color: #E8F0FE;\n",
              "      border: none;\n",
              "      border-radius: 50%;\n",
              "      cursor: pointer;\n",
              "      display: none;\n",
              "      fill: #1967D2;\n",
              "      height: 32px;\n",
              "      padding: 0 0 0 0;\n",
              "      width: 32px;\n",
              "    }\n",
              "\n",
              "    .colab-df-convert:hover {\n",
              "      background-color: #E2EBFA;\n",
              "      box-shadow: 0px 1px 2px rgba(60, 64, 67, 0.3), 0px 1px 3px 1px rgba(60, 64, 67, 0.15);\n",
              "      fill: #174EA6;\n",
              "    }\n",
              "\n",
              "    [theme=dark] .colab-df-convert {\n",
              "      background-color: #3B4455;\n",
              "      fill: #D2E3FC;\n",
              "    }\n",
              "\n",
              "    [theme=dark] .colab-df-convert:hover {\n",
              "      background-color: #434B5C;\n",
              "      box-shadow: 0px 1px 3px 1px rgba(0, 0, 0, 0.15);\n",
              "      filter: drop-shadow(0px 1px 2px rgba(0, 0, 0, 0.3));\n",
              "      fill: #FFFFFF;\n",
              "    }\n",
              "  </style>\n",
              "\n",
              "      <script>\n",
              "        const buttonEl =\n",
              "          document.querySelector('#df-e86deb82-fc8e-4c55-98de-3638800c5ca9 button.colab-df-convert');\n",
              "        buttonEl.style.display =\n",
              "          google.colab.kernel.accessAllowed ? 'block' : 'none';\n",
              "\n",
              "        async function convertToInteractive(key) {\n",
              "          const element = document.querySelector('#df-e86deb82-fc8e-4c55-98de-3638800c5ca9');\n",
              "          const dataTable =\n",
              "            await google.colab.kernel.invokeFunction('convertToInteractive',\n",
              "                                                     [key], {});\n",
              "          if (!dataTable) return;\n",
              "\n",
              "          const docLinkHtml = 'Like what you see? Visit the ' +\n",
              "            '<a target=\"_blank\" href=https://colab.research.google.com/notebooks/data_table.ipynb>data table notebook</a>'\n",
              "            + ' to learn more about interactive tables.';\n",
              "          element.innerHTML = '';\n",
              "          dataTable['output_type'] = 'display_data';\n",
              "          await google.colab.output.renderOutput(dataTable, element);\n",
              "          const docLink = document.createElement('div');\n",
              "          docLink.innerHTML = docLinkHtml;\n",
              "          element.appendChild(docLink);\n",
              "        }\n",
              "      </script>\n",
              "    </div>\n",
              "  </div>\n",
              "  "
            ]
          },
          "metadata": {},
          "execution_count": 56
        }
      ]
    },
    {
      "cell_type": "markdown",
      "source": [
        "At this point I can save this to a file which I demonstrated in first notebook Jakub_Bartnik_Everest.ipynb"
      ],
      "metadata": {
        "id": "_2Nqx5Cyg98S"
      }
    }
  ]
}